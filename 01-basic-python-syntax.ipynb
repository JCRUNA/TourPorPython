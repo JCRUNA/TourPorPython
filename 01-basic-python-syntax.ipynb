{
 "cells": [
  {
   "cell_type": "markdown",
   "id": "0524280e",
   "metadata": {},
   "source": [
    "Python se desarrolló originalmente como un lenguaje de enseñanza, pero su facilidad de uso y su sintaxis limpia lo han llevado a ser adoptado tanto por principiantes como por expertos. La limpieza de la sintaxis de Python ha llevado a algunos a llamarlo \"pseudocódigo ejecutable\", y de hecho mi propia experiencia ha sido que a menudo es mucho más fácil leer y comprender un script de Python que leer un script similar escrito en, digamos, C. Aquí comenzaremos a discutir las características principales de la sintaxis de Python.\n",
    "\n",
    "La sintaxis se refiere a la estructura del lenguaje (es decir, lo que constituye un programa correctamente formado). Por el momento, no nos centraremos en la semántica, el significado de las palabras y los símbolos dentro de la sintaxis, pero volveremos a esto en un momento posterior.\n",
    "\n",
    "Considere el siguiente ejemplo de código:"
   ]
  },
  {
   "cell_type": "code",
   "execution_count": 9,
   "id": "e2676337",
   "metadata": {},
   "outputs": [
    {
     "name": "stdout",
     "output_type": "stream",
     "text": [
      "lower: [0, 1, 2, 3, 4]\n",
      "upper: [5, 6, 7, 8, 9]\n"
     ]
    }
   ],
   "source": [
    "# set the midpoint\n",
    "midpoint = 5\n",
    "\n",
    "# make two empty lists\n",
    "lower = []; upper = []\n",
    "\n",
    "# split the numbers into lower and upper\n",
    "for i in range(10):\n",
    "    if (i < midpoint):\n",
    "        lower.append(i)\n",
    "    else:\n",
    "        upper.append(i)\n",
    "        \n",
    "print(\"lower:\", lower)\n",
    "print(\"upper:\", upper)"
   ]
  },
  {
   "cell_type": "markdown",
   "id": "18124b12",
   "metadata": {},
   "source": [
    "Este script es un poco tonto, pero ilustra de manera compacta varios de los aspectos importantes de la sintaxis de Python. Repasemos y analicemos algunas de las características sintácticas de Pythonm"
   ]
  },
  {
   "cell_type": "code",
   "execution_count": 10,
   "id": "71315a96",
   "metadata": {},
   "outputs": [],
   "source": [
    "# set the midpoint"
   ]
  },
  {
   "cell_type": "markdown",
   "id": "3258524f",
   "metadata": {},
   "source": [
    "Los comentarios en Python se indican con un signo de almohadilla ( #), y el intérprete ignora cualquier cosa en la línea que sigue al signo de almohadilla. Esto significa, por ejemplo, que puede tener comentarios independientes como el que se acaba de mostrar, así como comentarios en línea que siguen a una declaración. Por ejemplo:"
   ]
  },
  {
   "cell_type": "code",
   "execution_count": 11,
   "id": "4e507d79",
   "metadata": {},
   "outputs": [
    {
     "ename": "NameError",
     "evalue": "name 'x' is not defined",
     "output_type": "error",
     "traceback": [
      "\u001b[1;31m---------------------------------------------------------------------------\u001b[0m",
      "\u001b[1;31mNameError\u001b[0m                                 Traceback (most recent call last)",
      "\u001b[1;32m~\\AppData\\Local\\Temp/ipykernel_20572/2945675296.py\u001b[0m in \u001b[0;36m<module>\u001b[1;34m\u001b[0m\n\u001b[1;32m----> 1\u001b[1;33m \u001b[0mx\u001b[0m \u001b[1;33m+=\u001b[0m \u001b[1;36m2\u001b[0m  \u001b[1;31m# shorthand for x = x + 2\u001b[0m\u001b[1;33m\u001b[0m\u001b[1;33m\u001b[0m\u001b[0m\n\u001b[0m",
      "\u001b[1;31mNameError\u001b[0m: name 'x' is not defined"
     ]
    }
   ],
   "source": [
    "x += 2  # shorthand for x = x + 2"
   ]
  },
  {
   "cell_type": "markdown",
   "id": "080e3a53",
   "metadata": {},
   "source": [
    "El fin de línea finaliza una declaración\n",
    "La siguiente línea del guión es:"
   ]
  },
  {
   "cell_type": "code",
   "execution_count": null,
   "id": "652a9357",
   "metadata": {},
   "outputs": [],
   "source": [
    "midpoint = 5"
   ]
  },
  {
   "cell_type": "markdown",
   "id": "92654d4e",
   "metadata": {},
   "source": [
    "Esta es una operación de asignación, donde hemos creado una variable llamada punto medio y le hemos asignado el valor 5. Observe que el final de esta declaración simplemente está marcado por el final de la línea. Esto contrasta con lenguajes como C y C ++, donde cada declaración debe terminar con un punto y coma (;).\n",
    "\n",
    "En Python, si desea que una declaración continúe a la siguiente línea, es posible usar el marcador \\ para indicar esto:"
   ]
  },
  {
   "cell_type": "code",
   "execution_count": null,
   "id": "db870a55",
   "metadata": {},
   "outputs": [],
   "source": [
    "x = 1 + 2 + 3 + 4 +\\\n",
    "    5 + 6 + 7 + 8"
   ]
  },
  {
   "cell_type": "markdown",
   "id": "e19e79a4",
   "metadata": {},
   "source": [
    "También es posible continuar expresiones en la siguiente línea entre paréntesis, sin usar el marcador \\ :"
   ]
  },
  {
   "cell_type": "code",
   "execution_count": null,
   "id": "f2da68af",
   "metadata": {},
   "outputs": [],
   "source": [
    "x = (1 + 2 + 3 + 4 +\n",
    "     5 + 6 + 7 + 8)"
   ]
  },
  {
   "cell_type": "markdown",
   "id": "9327eee7",
   "metadata": {},
   "source": [
    "El punto y coma puede terminar opcionalmente una declaración\n",
    "A veces puede resultar útil poner varias declaraciones en una sola línea. El siguiente codigo es"
   ]
  },
  {
   "cell_type": "code",
   "execution_count": null,
   "id": "d7eb0389",
   "metadata": {},
   "outputs": [],
   "source": [
    "lower = []; upper = []"
   ]
  },
  {
   "cell_type": "markdown",
   "id": "867ee869",
   "metadata": {},
   "source": [
    "Esto muestra un ejemplo de cómo se conoce como un punto y con un (;) en C si puede usarlo opcionalmente en Python para poner declaraciones en una única línea. Funcionalmente, son completamente equivalentes a escribir."
   ]
  },
  {
   "cell_type": "code",
   "execution_count": null,
   "id": "9522c963",
   "metadata": {},
   "outputs": [],
   "source": [
    "lower = []\n",
    "upper = []"
   ]
  },
  {
   "cell_type": "markdown",
   "id": "237a9a60",
   "metadata": {},
   "source": [
    "La mayoría de las guías de estilo de Python desaconsejan el uso de un punto y coma para poner varias declaraciones en una sola línea, aunque en ocasiones resulta conveniente."
   ]
  },
  {
   "cell_type": "markdown",
   "id": "359290ca",
   "metadata": {},
   "source": [
    "Sangría: ¡El espacio en blanco importa!\n",
    "A continuación, llegamos al bloque principal de código:"
   ]
  },
  {
   "cell_type": "code",
   "execution_count": null,
   "id": "54df2d9e",
   "metadata": {},
   "outputs": [],
   "source": [
    "for i in range(10):\n",
    "    if i < midpoint:\n",
    "        lower.append(i)\n",
    "    else:\n",
    "        upper.append(i)"
   ]
  },
  {
   "cell_type": "markdown",
   "id": "31fdb803",
   "metadata": {},
   "source": [
    "Esta es una declaración de flujo de control compuesta que incluye un bucle y un condicional; veremos este tipo de declaraciones en un momento. Por ahora, considere que esto demuestra lo que es quizás la característica más controvertida de la sintaxis de Python: ¡el espacio en blanco es significativo!\n",
    "\n",
    "En los lenguajes de programación, un bloque de código es un conjunto de declaraciones que deben tratarse como una unidad. En C, por ejemplo, los bloques de código se indican con llaves:"
   ]
  },
  {
   "cell_type": "code",
   "execution_count": null,
   "id": "3d960097",
   "metadata": {},
   "outputs": [],
   "source": [
    "// C code\n",
    "for(int i=0; i<100; i++)\n",
    "   {\n",
    "      // curly braces indicate code block\n",
    "      total += i;\n",
    "   }"
   ]
  },
  {
   "cell_type": "code",
   "execution_count": null,
   "id": "f8dd548f",
   "metadata": {},
   "outputs": [],
   "source": [
    "#En python usamos indentacion:\n",
    "for i in range(100):\n",
    "    # indentation indicates code block\n",
    "    total += i"
   ]
  },
  {
   "cell_type": "markdown",
   "id": "d7e5b542",
   "metadata": {},
   "source": [
    "En Python, los bloques de código con sangría siempre están precedidos por dos puntos (:) en la línea anterior.\n",
    "\n",
    "El uso de sangría ayuda a reforzar el estilo uniforme y legible que muchos encuentran atractivo en el código Python. Pero puede resultar confuso para los no iniciados; por ejemplo, los siguientes dos fragmentos producirán resultados diferentes:"
   ]
  },
  {
   "cell_type": "code",
   "execution_count": null,
   "id": "931b2953",
   "metadata": {},
   "outputs": [],
   "source": [
    ">>> if x < 4:         >>> if x < 4:\n",
    "...     y = x * 2     ...     y = x * 2\n",
    "...     print(x)      ... print(x)"
   ]
  },
  {
   "cell_type": "markdown",
   "id": "681d4246",
   "metadata": {},
   "source": [
    "En el fragmento de la izquierda, print (x) está en el bloque con sangría y se ejecutará solo si x es menor que 4. ¡el valor de x!\n",
    "\n",
    "El uso de Python de espacios en blanco significativos a menudo sorprende a los programadores que están acostumbrados a otros lenguajes, pero en la práctica puede conducir a un código mucho más consistente y legible que los lenguajes que no imponen la sangría de los bloques de código. Si encuentra desagradable el uso de Python de los espacios en blanco, le animo a que lo pruebe: como yo lo hice, es posible que llegue a apreciarlo.\n",
    "\n",
    "Finalmente, debe tener en cuenta que la cantidad de espacio en blanco utilizado para sangrar bloques de código depende del usuario, siempre que sea coherente en todo el script. Por convención, la mayoría de las guías de estilo recomiendan sangrar los bloques de código con cuatro espacios, y esa es la convención que seguiremos en este informe. Tenga en cuenta que muchos editores de texto como Emacs y Vim contienen modos Python que realizan sangrías de cuatro espacios automáticamente."
   ]
  },
  {
   "cell_type": "markdown",
   "id": "0da05f85",
   "metadata": {},
   "source": [
    "El espacio en blanco dentro de las líneas no importa\n",
    "\n",
    "Si bien el mantra del espacio en blanco significativo es válido para el espacio en blanco antes de las líneas (lo que indica un bloque de código), el espacio en blanco dentro de las líneas del código Python no importa. Por ejemplo, estas tres expresiones son equivalentes:"
   ]
  },
  {
   "cell_type": "code",
   "execution_count": null,
   "id": "90b14416",
   "metadata": {},
   "outputs": [],
   "source": [
    "x=1+2\n",
    "x = 1 + 2\n",
    "x             =        1    +                2"
   ]
  },
  {
   "cell_type": "markdown",
   "id": "5d9101db",
   "metadata": {},
   "source": [
    "Abusar de esta flexibilidad puede generar problemas con la legibilidad del código; de hecho, abusar de los espacios en blanco es a menudo uno de los medios principales para ofuscar el código intencionalmente (lo que algunas personas hacen por deporte). El uso de espacios en blanco de manera efectiva puede conducir a un código mucho más legible, especialmente en los casos en que los operadores se siguen entre sí; compare las siguientes dos expresiones para exponenciar con un número negativo:"
   ]
  },
  {
   "cell_type": "code",
   "execution_count": null,
   "id": "bc382a69",
   "metadata": {},
   "outputs": [],
   "source": [
    "x=10**-2 #to\n",
    "x = 10 ** -2"
   ]
  },
  {
   "cell_type": "markdown",
   "id": "e6363c44",
   "metadata": {},
   "source": [
    "Encuentro la segunda versión con espacios mucho más legibles de un solo vistazo. La mayoría de las guías de estilo de Python recomiendan usar un solo espacio alrededor de los operadores binarios y ningún espacio alrededor de los operadores unarios. Analizaremos los operadores de Python con más detalle en Semántica básica de Python: operadores."
   ]
  },
  {
   "cell_type": "markdown",
   "id": "6846373e",
   "metadata": {},
   "source": [
    "Los paréntesis son para agrupar o llamar\n",
    "En el fragmento de código anterior, vemos dos usos de paréntesis. Primero, se pueden usar de la manera típica para agrupar declaraciones u operaciones matemáticas:"
   ]
  },
  {
   "cell_type": "code",
   "execution_count": null,
   "id": "dbbb5222",
   "metadata": {},
   "outputs": [],
   "source": [
    "2 * (3 + 4)"
   ]
  },
  {
   "cell_type": "markdown",
   "id": "3a8ce7b5",
   "metadata": {},
   "source": [
    "También se pueden utilizar para indicar que se está llamando a una función. En el siguiente fragmento, la función print () se usa para mostrar el contenido de una variable (ver la barra lateral). La llamada a la función se indica mediante un par de paréntesis de apertura y cierre, con los argumentos de la función contenidos en:"
   ]
  },
  {
   "cell_type": "code",
   "execution_count": null,
   "id": "3695cb0d",
   "metadata": {},
   "outputs": [],
   "source": [
    "print('first value:', 1)"
   ]
  },
  {
   "cell_type": "markdown",
   "id": "3ba805f8",
   "metadata": {},
   "source": [
    "Algunas funciones se pueden llamar sin ningún argumento, en cuyo caso los paréntesis de apertura y cierre aún deben usarse para indicar una evaluación de función. Un ejemplo de esto es el método de clasificación de listas:"
   ]
  },
  {
   "cell_type": "code",
   "execution_count": null,
   "id": "777baef1",
   "metadata": {},
   "outputs": [],
   "source": [
    "L = [4,2,3,1]\n",
    "L.sort()\n",
    "print(L)"
   ]
  },
  {
   "cell_type": "markdown",
   "id": "bcf99b55",
   "metadata": {},
   "source": [
    "**El \"()\" después de ordenar indica que la función debe ejecutarse y es necesaria incluso si no se necesitan argumentos.**"
   ]
  },
  {
   "cell_type": "markdown",
   "id": "d830696f",
   "metadata": {},
   "source": [
    "Terminar y aprender más\n",
    "Esta ha sido una exploración muy breve de las características esenciales de la sintaxis de Python; su propósito es brindarle un buen marco de referencia para cuando lea el código en secciones posteriores. Varias veces hemos mencionado las \"guías de estilo\" de Python, que pueden ayudar a los equipos a escribir código con un estilo coherente. La guía de estilo más utilizada en Python se conoce como PEP8 y se puede encontrar en https://www.python.org/dev/peps/pep-0008/. A medida que comience a escribir más código Python, sería útil leer esto. Las sugerencias de estilo contienen la sabiduría de muchos gurús de Python, y la mayoría de las sugerencias van más allá de la simple pedantería: son recomendaciones basadas en la experiencia que pueden ayudar a evitar errores sutiles y errores en su código."
   ]
  }
 ],
 "metadata": {
  "kernelspec": {
   "display_name": "ambienteML",
   "language": "python",
   "name": "ambienteml"
  },
  "language_info": {
   "codemirror_mode": {
    "name": "ipython",
    "version": 3
   },
   "file_extension": ".py",
   "mimetype": "text/x-python",
   "name": "python",
   "nbconvert_exporter": "python",
   "pygments_lexer": "ipython3",
   "version": "3.9.7"
  }
 },
 "nbformat": 4,
 "nbformat_minor": 5
}
