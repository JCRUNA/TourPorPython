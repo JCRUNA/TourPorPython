{
 "cells": [
  {
   "cell_type": "markdown",
   "id": "cd4b933c",
   "metadata": {},
   "source": [
    "Cuando hablamos de variables y objetos de Python, mencionamos el hecho de que todos los objetos de Python tienen información de tipo adjunta. Aquí veremos brevemente los tipos simples incorporados que ofrece Python. Decimos \"tipos simples\" para contrastar con varios tipos compuestos, que se discutirán en la siguiente sección.\n",
    "\n",
    "Los tipos simples de Python se resumen en la siguiente tabla:"
   ]
  },
  {
   "attachments": {
    "TiposEscalaresPython.PNG": {
     "image/png": "[encoded data removed]"
    }
   },
   "cell_type": "markdown",
   "id": "b7fab8b1",
   "metadata": {},
   "source": [
    "![TiposEscalaresPython.PNG](attachment:TiposEscalaresPython.PNG)"
   ]
  },
  {
   "cell_type": "markdown",
   "id": "f14cb811",
   "metadata": {},
   "source": [
    "##### Enteros \n",
    "El tipo numérico más básico es el entero. Cualquier número sin punto decimal es un número entero:"
   ]
  },
  {
   "cell_type": "code",
   "execution_count": 3,
   "id": "a2b2422e",
   "metadata": {},
   "outputs": [
    {
     "data": {
      "text/plain": [
       "int"
      ]
     },
     "execution_count": 3,
     "metadata": {},
     "output_type": "execute_result"
    }
   ],
   "source": [
    "x  =  1 \n",
    "type ( x )"
   ]
  },
  {
   "cell_type": "markdown",
   "id": "9d79ba89",
   "metadata": {},
   "source": [
    "Los enteros de Python son en realidad un poco más sofisticados que los enteros en lenguajes como C. Los enteros de C son de precisión fija y, por lo general, se desbordan en algún valor (a menudo cerca de 2^31 o 2^63, dependiendo de su sistema). Los enteros de Python son de precisión variable, por lo que puede hacer cálculos que se desbordarían en otros lenguajes:"
   ]
  },
  {
   "cell_type": "code",
   "execution_count": 5,
   "id": "1f77a5ee",
   "metadata": {},
   "outputs": [
    {
     "data": {
      "text/plain": [
       "1606938044258990275541962092341162602522202993782792835301376"
      ]
     },
     "execution_count": 5,
     "metadata": {},
     "output_type": "execute_result"
    }
   ],
   "source": [
    "2  **  200"
   ]
  },
  {
   "cell_type": "markdown",
   "id": "4f582cf6",
   "metadata": {},
   "source": [
    "Otra característica conveniente de los enteros de Python es que, de forma predeterminada, la división se convierte en tipo de punto flotante:"
   ]
  },
  {
   "cell_type": "code",
   "execution_count": 8,
   "id": "5474faaf",
   "metadata": {},
   "outputs": [
    {
     "data": {
      "text/plain": [
       "2.5"
      ]
     },
     "execution_count": 8,
     "metadata": {},
     "output_type": "execute_result"
    }
   ],
   "source": [
    "5/2"
   ]
  },
  {
   "cell_type": "markdown",
   "id": "a06ef72a",
   "metadata": {},
   "source": [
    "Tenga en cuenta que esta conversión es una característica de Python 3; en Python 2, como en muchos lenguajes de tipo estático como C, la división de enteros trunca cualquier decimal y siempre devuelve un entero:"
   ]
  },
  {
   "cell_type": "markdown",
   "id": "632f81ba",
   "metadata": {},
   "source": [
    "Para recuperar un entero en Python 3, puede usar el operador de división de enteros:"
   ]
  },
  {
   "cell_type": "code",
   "execution_count": 11,
   "id": "95910844",
   "metadata": {},
   "outputs": [
    {
     "data": {
      "text/plain": [
       "2"
      ]
     },
     "execution_count": 11,
     "metadata": {},
     "output_type": "execute_result"
    }
   ],
   "source": [
    "5//2"
   ]
  },
  {
   "cell_type": "markdown",
   "id": "ce8a6313",
   "metadata": {},
   "source": [
    "Finalmente, nota que a pesar de Python 2.x tenía tanto una inty longtipo, Python 3 combina el comportamiento de estos dos en un solo inttipo."
   ]
  },
  {
   "cell_type": "markdown",
   "id": "02d324d6",
   "metadata": {},
   "source": [
    "##### Float\n",
    "El tipo de punto flotante puede almacenar números fraccionarios. Se pueden definir en notación decimal estándar o en notación exponencial:"
   ]
  },
  {
   "cell_type": "code",
   "execution_count": 14,
   "id": "24ffb1c3",
   "metadata": {},
   "outputs": [
    {
     "name": "stdout",
     "output_type": "stream",
     "text": [
      "True\n"
     ]
    }
   ],
   "source": [
    "x  =  0.000005 \n",
    "y  =  5e-6 \n",
    "print(x == y)"
   ]
  },
  {
   "cell_type": "code",
   "execution_count": 15,
   "id": "98dc4800",
   "metadata": {},
   "outputs": [
    {
     "name": "stdout",
     "output_type": "stream",
     "text": [
      "True\n"
     ]
    }
   ],
   "source": [
    "x  =  1400000.00 \n",
    "y  =  1.4e6 \n",
    "print(x == y)"
   ]
  },
  {
   "cell_type": "markdown",
   "id": "f182ed97",
   "metadata": {},
   "source": [
    "En la notación exponencial, eo Ese puede leer \"... multiplicado por diez elevado ...\", por lo que 1.4e6se interpreta como 1,4 ×10^6."
   ]
  },
  {
   "cell_type": "markdown",
   "id": "19e46d43",
   "metadata": {},
   "source": [
    "Un número entero se puede convertir explícitamente en un flotante con el float constructor:"
   ]
  },
  {
   "cell_type": "code",
   "execution_count": 18,
   "id": "96d15252",
   "metadata": {},
   "outputs": [
    {
     "data": {
      "text/plain": [
       "1.0"
      ]
     },
     "execution_count": 18,
     "metadata": {},
     "output_type": "execute_result"
    }
   ],
   "source": [
    "float(1)"
   ]
  },
  {
   "cell_type": "markdown",
   "id": "204d5d97",
   "metadata": {},
   "source": [
    "#### Aparte: precisión de punto flotante \n",
    "Una cosa a tener en cuenta con la aritmética de punto flotante es que su precisión es limitada, lo que puede hacer que las pruebas de igualdad sean inestables. Por ejemplo:"
   ]
  },
  {
   "cell_type": "code",
   "execution_count": 21,
   "id": "55d0c6b4",
   "metadata": {},
   "outputs": [
    {
     "data": {
      "text/plain": [
       "False"
      ]
     },
     "execution_count": 21,
     "metadata": {},
     "output_type": "execute_result"
    }
   ],
   "source": [
    "0.1  +  0.2  ==  0.3"
   ]
  },
  {
   "cell_type": "markdown",
   "id": "33192c12",
   "metadata": {},
   "source": [
    "¿Por qué es este el caso? Resulta que no es un comportamiento exclusivo de Python, sino que se debe al formato de precisión fija del almacenamiento de punto flotante binario utilizado por la mayoría, si no todas, las plataformas informáticas científicas. \n",
    "\n",
    "Todos los lenguajes de programación que usan números de punto flotante los almacenan en un número fijo de bits, y esto lleva a que algunos números se representen solo aproximadamente. Podemos ver esto imprimiendo los tres valores con alta precisión:"
   ]
  },
  {
   "cell_type": "code",
   "execution_count": 23,
   "id": "6200d099",
   "metadata": {},
   "outputs": [
    {
     "name": "stdout",
     "output_type": "stream",
     "text": [
      "0.1 =  0.10000000000000001 \n",
      "0.2 =  0.20000000000000001 \n",
      "0.3 =  0.00000000000000000 \n"
     ]
    }
   ],
   "source": [
    "print ( \"0.1 = {0: .17f} \" . format ( 0.1 )) \n",
    "print ( \"0.2 = {0: .17f} \" . format ( 0.2 )) \n",
    "print ( \"0.3 = {0: .17f} \" . format ( 0,3 ))"
   ]
  },
  {
   "cell_type": "markdown",
   "id": "3d1e4d26",
   "metadata": {},
   "source": [
    "Estamos acostumbrados a pensar en números en notación decimal (base 10), por lo que cada fracción debe expresarse como una suma de potencias de 10:"
   ]
  },
  {
   "attachments": {
    "precision.PNG": {
     "image/png": "[encoded data removed]"
    }
   },
   "cell_type": "markdown",
   "id": "64a96f13",
   "metadata": {},
   "source": [
    "![precision.PNG](attachment:precision.PNG)"
   ]
  },
  {
   "attachments": {
    "precision2.PNG": {
     "image/png": "[encoded data removed]"
    }
   },
   "cell_type": "markdown",
   "id": "c84510cf",
   "metadata": {},
   "source": [
    "![precision2.PNG](attachment:precision2.PNG)"
   ]
  },
  {
   "cell_type": "markdown",
   "id": "6bf2c0d4",
   "metadata": {},
   "source": [
    "#### STRING\n",
    "\n",
    "Las cadenas en Python se crean con comillas simples o dobles:"
   ]
  },
  {
   "cell_type": "code",
   "execution_count": 26,
   "id": "a845b7c8",
   "metadata": {},
   "outputs": [],
   "source": [
    "message  =  \"¿qué te gusta?\" \n",
    "respuesta  =  'spam'"
   ]
  },
  {
   "cell_type": "markdown",
   "id": "331fe5b9",
   "metadata": {},
   "source": [
    "Python tiene muchas funciones y métodos de cadena extremadamente útiles; Éstos son algunos de ellos:"
   ]
  },
  {
   "cell_type": "code",
   "execution_count": 28,
   "id": "9c73e31d",
   "metadata": {},
   "outputs": [
    {
     "data": {
      "text/plain": [
       "4"
      ]
     },
     "execution_count": 28,
     "metadata": {},
     "output_type": "execute_result"
    }
   ],
   "source": [
    "len(respuesta)"
   ]
  },
  {
   "cell_type": "code",
   "execution_count": 29,
   "id": "52e8772f",
   "metadata": {},
   "outputs": [
    {
     "data": {
      "text/plain": [
       "'SPAM'"
      ]
     },
     "execution_count": 29,
     "metadata": {},
     "output_type": "execute_result"
    }
   ],
   "source": [
    "# Convertir en mayúsculas. Consulte también la \n",
    "respuesta.upper()"
   ]
  },
  {
   "cell_type": "code",
   "execution_count": 30,
   "id": "cfe16a9f",
   "metadata": {},
   "outputs": [
    {
     "data": {
      "text/plain": [
       "'¿qué te gusta?'"
      ]
     },
     "execution_count": 30,
     "metadata": {},
     "output_type": "execute_result"
    }
   ],
   "source": [
    "message.capitalize()"
   ]
  },
  {
   "cell_type": "code",
   "execution_count": 31,
   "id": "62f457a2",
   "metadata": {},
   "outputs": [
    {
     "data": {
      "text/plain": [
       "'¿qué te gusta?spam'"
      ]
     },
     "execution_count": 31,
     "metadata": {},
     "output_type": "execute_result"
    }
   ],
   "source": [
    "message + respuesta"
   ]
  },
  {
   "cell_type": "code",
   "execution_count": 32,
   "id": "47a90b6a",
   "metadata": {},
   "outputs": [
    {
     "data": {
      "text/plain": [
       "'spamspamspamspamspam'"
      ]
     },
     "execution_count": 32,
     "metadata": {},
     "output_type": "execute_result"
    }
   ],
   "source": [
    "5*respuesta"
   ]
  },
  {
   "cell_type": "code",
   "execution_count": 33,
   "id": "168a27b1",
   "metadata": {},
   "outputs": [
    {
     "data": {
      "text/plain": [
       "'u'"
      ]
     },
     "execution_count": 33,
     "metadata": {},
     "output_type": "execute_result"
    }
   ],
   "source": [
    "message[2]"
   ]
  },
  {
   "cell_type": "markdown",
   "id": "f7c3c8df",
   "metadata": {},
   "source": [
    "#### None Type\n",
    "Python incluye un tipo especial, la NoneType, que sólo tiene un único valor posible: None. Por ejemplo:"
   ]
  },
  {
   "cell_type": "code",
   "execution_count": 35,
   "id": "88b23a5e",
   "metadata": {},
   "outputs": [
    {
     "data": {
      "text/plain": [
       "NoneType"
      ]
     },
     "execution_count": 35,
     "metadata": {},
     "output_type": "execute_result"
    }
   ],
   "source": [
    "type(None)"
   ]
  },
  {
   "cell_type": "markdown",
   "id": "d203bd54",
   "metadata": {},
   "source": [
    "Verá que None se usa en muchos lugares, pero quizás lo más común sea que se use como el valor de retorno predeterminado de una función. Por ejemplo, la print()función en Python 3 no devuelve nada, pero aún podemos capturar su valor:"
   ]
  },
  {
   "cell_type": "code",
   "execution_count": 37,
   "id": "edddc766",
   "metadata": {},
   "outputs": [
    {
     "name": "stdout",
     "output_type": "stream",
     "text": [
      "abc\n"
     ]
    }
   ],
   "source": [
    "return_value=print('abc')"
   ]
  },
  {
   "cell_type": "code",
   "execution_count": 38,
   "id": "5a6bff9f",
   "metadata": {},
   "outputs": [
    {
     "name": "stdout",
     "output_type": "stream",
     "text": [
      "None\n"
     ]
    }
   ],
   "source": [
    "print(return_value)"
   ]
  },
  {
   "cell_type": "markdown",
   "id": "9d20cc84",
   "metadata": {},
   "source": [
    "Del mismo modo, cualquier función en Python sin valor de retorno, en realidad, está regresando None."
   ]
  },
  {
   "cell_type": "markdown",
   "id": "e9c0bc26",
   "metadata": {},
   "source": [
    "#### Tipo booleano \n",
    "El tipo booleano es un tipo simple con dos valores posibles: True y False, y lo devuelven los operadores de comparación analizados anteriormente:"
   ]
  },
  {
   "cell_type": "code",
   "execution_count": 41,
   "id": "e545409b",
   "metadata": {},
   "outputs": [
    {
     "data": {
      "text/plain": [
       "True"
      ]
     },
     "execution_count": 41,
     "metadata": {},
     "output_type": "execute_result"
    }
   ],
   "source": [
    "resultado  =  ( 4  <  5 ) \n",
    "resultado"
   ]
  },
  {
   "cell_type": "code",
   "execution_count": 42,
   "id": "3ed04f4b",
   "metadata": {},
   "outputs": [
    {
     "data": {
      "text/plain": [
       "bool"
      ]
     },
     "execution_count": 42,
     "metadata": {},
     "output_type": "execute_result"
    }
   ],
   "source": [
    "type(resultado)"
   ]
  },
  {
   "cell_type": "markdown",
   "id": "3306bf16",
   "metadata": {},
   "source": [
    "Tenga en cuenta que los valores booleanos entre mayúsculas y minúsculas: a diferencia de otros idiomas, Truey Falsedebe ser capitalizada!"
   ]
  },
  {
   "cell_type": "code",
   "execution_count": 44,
   "id": "6cc02322",
   "metadata": {},
   "outputs": [
    {
     "name": "stdout",
     "output_type": "stream",
     "text": [
      "True False\n"
     ]
    }
   ],
   "source": [
    "print(True,False)"
   ]
  },
  {
   "cell_type": "markdown",
   "id": "c6c4ad5b",
   "metadata": {},
   "source": [
    "Los booleanos también se pueden construir usando el bool()constructor de objetos: los valores de cualquier otro tipo se pueden convertir a booleanos mediante reglas predecibles. Por ejemplo, cualquier tipo numérico es Falso si es igual a cero y Verdadero en caso contrario:\n",
    "\n"
   ]
  },
  {
   "cell_type": "code",
   "execution_count": 46,
   "id": "9eb72227",
   "metadata": {},
   "outputs": [
    {
     "data": {
      "text/plain": [
       "True"
      ]
     },
     "execution_count": 46,
     "metadata": {},
     "output_type": "execute_result"
    }
   ],
   "source": [
    "bool ( 2014 )"
   ]
  },
  {
   "cell_type": "code",
   "execution_count": 47,
   "id": "6108b7fe",
   "metadata": {},
   "outputs": [
    {
     "data": {
      "text/plain": [
       "False"
      ]
     },
     "execution_count": 47,
     "metadata": {},
     "output_type": "execute_result"
    }
   ],
   "source": [
    "bool ( 0 )"
   ]
  },
  {
   "cell_type": "code",
   "execution_count": 49,
   "id": "247afff1",
   "metadata": {},
   "outputs": [
    {
     "data": {
      "text/plain": [
       "True"
      ]
     },
     "execution_count": 49,
     "metadata": {},
     "output_type": "execute_result"
    }
   ],
   "source": [
    "bool ( 3.1415 )"
   ]
  },
  {
   "cell_type": "markdown",
   "id": "19c25ebf",
   "metadata": {},
   "source": [
    "La conversión booleana de None siempre es falsa:"
   ]
  },
  {
   "cell_type": "code",
   "execution_count": 51,
   "id": "86a5539f",
   "metadata": {},
   "outputs": [
    {
     "data": {
      "text/plain": [
       "False"
      ]
     },
     "execution_count": 51,
     "metadata": {},
     "output_type": "execute_result"
    }
   ],
   "source": [
    "bool (None)"
   ]
  },
  {
   "cell_type": "markdown",
   "id": "eb4429de",
   "metadata": {},
   "source": [
    "Para cadenas, bool(s) es False para cadenas vacías y Verdadero en caso contrario:"
   ]
  },
  {
   "cell_type": "code",
   "execution_count": 53,
   "id": "8594f360",
   "metadata": {},
   "outputs": [
    {
     "data": {
      "text/plain": [
       "False"
      ]
     },
     "execution_count": 53,
     "metadata": {},
     "output_type": "execute_result"
    }
   ],
   "source": [
    "bool ( \"\" )"
   ]
  },
  {
   "cell_type": "code",
   "execution_count": 54,
   "id": "620fefcd",
   "metadata": {},
   "outputs": [
    {
     "data": {
      "text/plain": [
       "True"
      ]
     },
     "execution_count": 54,
     "metadata": {},
     "output_type": "execute_result"
    }
   ],
   "source": [
    "bool ( \"abc\" )"
   ]
  },
  {
   "cell_type": "markdown",
   "id": "59b99879",
   "metadata": {},
   "source": [
    "Para las secuencias, que veremos en la siguiente sección, la representación booleana es False para secuencias vacías y Verdadero para cualquier otra secuencia."
   ]
  },
  {
   "cell_type": "code",
   "execution_count": 56,
   "id": "dd750e82",
   "metadata": {},
   "outputs": [
    {
     "data": {
      "text/plain": [
       "True"
      ]
     },
     "execution_count": 56,
     "metadata": {},
     "output_type": "execute_result"
    }
   ],
   "source": [
    "bool ([ 1 ,  2 ,  3 ])"
   ]
  },
  {
   "cell_type": "code",
   "execution_count": 57,
   "id": "89911e34",
   "metadata": {},
   "outputs": [
    {
     "data": {
      "text/plain": [
       "False"
      ]
     },
     "execution_count": 57,
     "metadata": {},
     "output_type": "execute_result"
    }
   ],
   "source": [
    "bool ([])"
   ]
  },
  {
   "cell_type": "code",
   "execution_count": null,
   "id": "9576b8af",
   "metadata": {},
   "outputs": [],
   "source": []
  },
  {
   "cell_type": "code",
   "execution_count": null,
   "id": "a3ecbec4",
   "metadata": {},
   "outputs": [],
   "source": []
  },
  {
   "cell_type": "code",
   "execution_count": null,
   "id": "81ccd56c",
   "metadata": {},
   "outputs": [],
   "source": []
  },
  {
   "cell_type": "code",
   "execution_count": null,
   "id": "94e560fd",
   "metadata": {},
   "outputs": [],
   "source": []
  }
 ],
 "metadata": {
  "kernelspec": {
   "display_name": "ambienteML",
   "language": "python",
   "name": "ambienteml"
  },
  "language_info": {
   "codemirror_mode": {
    "name": "ipython",
    "version": 3
   },
   "file_extension": ".py",
   "mimetype": "text/x-python",
   "name": "python",
   "nbconvert_exporter": "python",
   "pygments_lexer": "ipython3",
   "version": "3.9.7"
  }
 },
 "nbformat": 4,
 "nbformat_minor": 5
}
