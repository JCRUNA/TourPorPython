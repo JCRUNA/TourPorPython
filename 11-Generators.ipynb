{
 "cells": [
  {
   "cell_type": "markdown",
   "id": "0372b00f",
   "metadata": {},
   "source": [
    "Aquí profundizaremos en los generadores de Python, incluidas las expresiones del generador y las funciones del generador ."
   ]
  },
  {
   "cell_type": "markdown",
   "id": "21643e9f",
   "metadata": {},
   "source": [
    "##### Expresiones generadoras \n",
    "La diferencia entre las comprensiones de listas y las expresiones generadoras es a veces confusa; aquí describiremos rápidamente las diferencias entre ellos:"
   ]
  },
  {
   "cell_type": "markdown",
   "id": "7444e5c2",
   "metadata": {},
   "source": [
    "Las listas por comprensión usan corchetes, mientras que las expresiones generadoras usan paréntesis "
   ]
  },
  {
   "cell_type": "markdown",
   "id": "0069fb4e",
   "metadata": {},
   "source": [
    "Esta es una lista de comprensión representativa:"
   ]
  },
  {
   "cell_type": "code",
   "execution_count": 5,
   "id": "7c2e3a3f",
   "metadata": {},
   "outputs": [
    {
     "data": {
      "text/plain": [
       "[0, 1, 4, 9, 16, 25, 36, 49, 64, 81, 100, 121]"
      ]
     },
     "execution_count": 5,
     "metadata": {},
     "output_type": "execute_result"
    }
   ],
   "source": [
    "[n ** 2 for n in range(12)]"
   ]
  },
  {
   "cell_type": "markdown",
   "id": "d3001f9f",
   "metadata": {},
   "source": [
    "Si bien esta es una expresión generadora representativa:"
   ]
  },
  {
   "cell_type": "code",
   "execution_count": 6,
   "id": "f5cd78b3",
   "metadata": {},
   "outputs": [
    {
     "data": {
      "text/plain": [
       "<generator object <genexpr> at 0x000001FD121E0120>"
      ]
     },
     "execution_count": 6,
     "metadata": {},
     "output_type": "execute_result"
    }
   ],
   "source": [
    "(n ** 2 for n in range(12))"
   ]
  },
  {
   "cell_type": "markdown",
   "id": "c346c293",
   "metadata": {},
   "source": [
    "Observe que al imprimir la expresión del generador no se imprime el contenido; una forma de imprimir el contenido de una expresión generadora es pasárselo al constructor list:"
   ]
  },
  {
   "cell_type": "code",
   "execution_count": 9,
   "id": "31a9373f",
   "metadata": {},
   "outputs": [
    {
     "data": {
      "text/plain": [
       "[0, 1, 4, 9, 16, 25, 36, 49, 64, 81, 100, 121]"
      ]
     },
     "execution_count": 9,
     "metadata": {},
     "output_type": "execute_result"
    }
   ],
   "source": [
    "G = (n ** 2 for n in range(12))\n",
    "list(G)"
   ]
  },
  {
   "cell_type": "markdown",
   "id": "51735cdf",
   "metadata": {},
   "source": [
    "**Una lista es una colección de valores, mientras que un generador es una receta para producir valores**\n",
    "\n",
    "***Cuando crea una lista, en realidad está creando una colección de valores, y hay cierto costo de memoria asociado con eso. Cuando crea un generador, no está creando una colección de valores, sino una receta para producir esos valores.*** Ambos exponen la misma interfaz de iterador, como podemos ver aquí:"
   ]
  },
  {
   "cell_type": "code",
   "execution_count": 11,
   "id": "9d26fd41",
   "metadata": {},
   "outputs": [
    {
     "name": "stdout",
     "output_type": "stream",
     "text": [
      "0 1 4 9 16 25 36 49 64 81 100 121 "
     ]
    }
   ],
   "source": [
    "L = [n ** 2 for n in range(12)]\n",
    "for val in L:\n",
    "    print(val, end=' ')"
   ]
  },
  {
   "cell_type": "code",
   "execution_count": 12,
   "id": "cb8b4836",
   "metadata": {},
   "outputs": [
    {
     "name": "stdout",
     "output_type": "stream",
     "text": [
      "0 1 4 9 16 25 36 49 64 81 100 121 "
     ]
    }
   ],
   "source": [
    "G = (n ** 2 for n in range(12))\n",
    "for val in G:\n",
    "    print(val, end=' ')"
   ]
  },
  {
   "cell_type": "markdown",
   "id": "babfe03f",
   "metadata": {},
   "source": [
    "***La diferencia es que una expresión generadora en realidad no calcula los valores hasta que se necesitan.*** \n",
    "¡Esto no solo conduce a la eficiencia de la memoria, sino también a la eficiencia computacional! Esto también significa que, si bien el tamaño de una lista está limitado por la memoria disponible, el tamaño de una expresión generadora es ilimitado.\n",
    "\n",
    "Se puede crear un ejemplo de una expresión generadora infinita usando el iterador count definido en itertools:"
   ]
  },
  {
   "cell_type": "code",
   "execution_count": 15,
   "id": "c84552e8",
   "metadata": {},
   "outputs": [
    {
     "data": {
      "text/plain": [
       "count(0)"
      ]
     },
     "execution_count": 15,
     "metadata": {},
     "output_type": "execute_result"
    }
   ],
   "source": [
    "from itertools import count\n",
    "count()"
   ]
  },
  {
   "cell_type": "code",
   "execution_count": 16,
   "id": "c5ca2b79",
   "metadata": {},
   "outputs": [
    {
     "name": "stdout",
     "output_type": "stream",
     "text": [
      "0 1 2 3 4 5 6 7 8 9 10 "
     ]
    }
   ],
   "source": [
    "for i in count():\n",
    "    print(i, end=' ')\n",
    "    if i >= 10: break"
   ]
  },
  {
   "cell_type": "markdown",
   "id": "bef6d756",
   "metadata": {},
   "source": [
    "El  iterador count seguirá contando felizmente para siempre hasta que le diga que se detenga; esto hace que sea conveniente crear generadores que también funcionarán para siempre:"
   ]
  },
  {
   "cell_type": "code",
   "execution_count": 17,
   "id": "0ef774a2",
   "metadata": {},
   "outputs": [
    {
     "name": "stdout",
     "output_type": "stream",
     "text": [
      "1 11 13 17 19 23 29 31 37 41 "
     ]
    }
   ],
   "source": [
    "factors = [2, 3, 5, 7]\n",
    "G = (i for i in count() if all(i % n > 0 for n in factors))\n",
    "for val in G:\n",
    "    print(val, end=' ')\n",
    "    if val > 40: break"
   ]
  },
  {
   "cell_type": "markdown",
   "id": "c1c32d66",
   "metadata": {},
   "source": [
    "Es posible que vea a lo que estamos llegando aquí: si expandiéramos la lista de factores de manera adecuada, lo que tendríamos al comienzo es un generador de números primos, utilizando el algoritmo Sieve of Eratosthenes. Exploraremos esto más momentáneamente."
   ]
  },
  {
   "cell_type": "markdown",
   "id": "11741330",
   "metadata": {},
   "source": [
    "***Una lista se puede iterar varias veces; una expresión generadora es de un solo uso***\n",
    "\n",
    "Esta es una de esas posibles trampas de las expresiones generadoras. Con una lista, podemos hacer esto directamente:"
   ]
  },
  {
   "cell_type": "code",
   "execution_count": 23,
   "id": "52abe68b",
   "metadata": {},
   "outputs": [
    {
     "name": "stdout",
     "output_type": "stream",
     "text": [
      "0 1 4 9 16 25 36 49 64 81 100 121 \n",
      "0 1 4 9 16 25 36 49 64 81 100 121 "
     ]
    }
   ],
   "source": [
    "L = [n ** 2 for n in range(12)]\n",
    "for val in L:\n",
    "    print(val, end=' ')\n",
    "print()\n",
    "\n",
    "for val in L:\n",
    "    print(val, end=' ')"
   ]
  },
  {
   "cell_type": "markdown",
   "id": "c6fba9f8",
   "metadata": {},
   "source": [
    "**Una expresión generadora, por otro lado, se agota después de una iteración:**"
   ]
  },
  {
   "cell_type": "code",
   "execution_count": 24,
   "id": "9fac1174",
   "metadata": {},
   "outputs": [
    {
     "data": {
      "text/plain": [
       "[0, 1, 4, 9, 16, 25, 36, 49, 64, 81, 100, 121]"
      ]
     },
     "execution_count": 24,
     "metadata": {},
     "output_type": "execute_result"
    }
   ],
   "source": [
    "G = (n ** 2 for n in range(12))\n",
    "list(G)"
   ]
  },
  {
   "cell_type": "code",
   "execution_count": 25,
   "id": "edf31426",
   "metadata": {},
   "outputs": [
    {
     "data": {
      "text/plain": [
       "[]"
      ]
     },
     "execution_count": 25,
     "metadata": {},
     "output_type": "execute_result"
    }
   ],
   "source": [
    "list(G)"
   ]
  },
  {
   "cell_type": "markdown",
   "id": "9a632e14",
   "metadata": {},
   "source": [
    "**Esto puede ser muy útil porque significa que la iteración se puede detener e iniciar**"
   ]
  },
  {
   "cell_type": "code",
   "execution_count": 26,
   "id": "2c6611b8",
   "metadata": {},
   "outputs": [
    {
     "name": "stdout",
     "output_type": "stream",
     "text": [
      "0 1 4 9 16 25 36 \n",
      "doing something in between\n",
      "49 64 81 100 121 "
     ]
    }
   ],
   "source": [
    "G = (n**2 for n in range(12))\n",
    "for n in G:\n",
    "    print(n, end=' ')\n",
    "    if n > 30: break\n",
    "\n",
    "print(\"\\ndoing something in between\")\n",
    "\n",
    "for n in G:\n",
    "    print(n, end=' ')"
   ]
  },
  {
   "cell_type": "markdown",
   "id": "be4edea9",
   "metadata": {},
   "source": [
    "**Un lugar en el que he encontrado esto útil es cuando trabajo con colecciones de archivos de datos en el disco; significa que puede analizarlos fácilmente en lotes, dejando que el generador realice un seguimiento de los que aún no ha visto.**"
   ]
  },
  {
   "cell_type": "markdown",
   "id": "cb9328c5",
   "metadata": {},
   "source": [
    "#### Funciones del generador: usando yield"
   ]
  },
  {
   "cell_type": "markdown",
   "id": "e06947f0",
   "metadata": {},
   "source": [
    "**Vimos en la sección anterior que las listas por comprensión se usan mejor para crear listas relativamente simples, mientras que usar un ciclo for normal puede ser mejor en situaciones más complicadas.**\n",
    "\n",
    "Lo mismo ocurre con las expresiones generadoras: podemos hacer generadores más complicados usando funciones generadoras , que hacen uso de la declaración **yield**.\n",
    "\n",
    "Aquí tenemos dos formas de construir la misma lista:"
   ]
  },
  {
   "cell_type": "code",
   "execution_count": 31,
   "id": "d689492c",
   "metadata": {},
   "outputs": [
    {
     "name": "stdout",
     "output_type": "stream",
     "text": [
      "[0, 1, 4, 9, 16, 25, 36, 49, 64, 81, 100, 121]\n",
      "[0, 1, 4, 9, 16, 25, 36, 49, 64, 81, 100, 121]\n"
     ]
    }
   ],
   "source": [
    "L1 = [n ** 2 for n in range(12)]\n",
    "\n",
    "L2 = []\n",
    "for n in range(12):\n",
    "    L2.append(n ** 2)\n",
    "\n",
    "print(L1)\n",
    "print(L2)"
   ]
  },
  {
   "cell_type": "markdown",
   "id": "777a47a6",
   "metadata": {},
   "source": [
    "De manera similar, aquí tenemos dos formas de construir generadores equivalentes:"
   ]
  },
  {
   "cell_type": "code",
   "execution_count": 32,
   "id": "27a3e6b3",
   "metadata": {},
   "outputs": [
    {
     "name": "stdout",
     "output_type": "stream",
     "text": [
      "0 1 4 9 16 25 36 49 64 81 100 121\n",
      "0 1 4 9 16 25 36 49 64 81 100 121\n"
     ]
    }
   ],
   "source": [
    "G1 = (n ** 2 for n in range(12))\n",
    "\n",
    "def gen():\n",
    "    for n in range(12):\n",
    "        yield n ** 2\n",
    "\n",
    "G2 = gen()\n",
    "print(*G1)\n",
    "print(*G2)"
   ]
  },
  {
   "cell_type": "markdown",
   "id": "47034f48",
   "metadata": {},
   "source": [
    "**Una función generadora es una función que, en lugar de usar return para devolver un valor una vez, usa yield para producir una secuencia de valores (potencialmente infinita).**\n",
    "\n",
    "**Al igual que en las expresiones del generador, el estado del generador se conserva entre iteraciones parciales, pero si queremos una copia nueva del generador, simplemente podemos volver a llamar a la función.**"
   ]
  },
  {
   "cell_type": "markdown",
   "id": "e4a25fb0",
   "metadata": {},
   "source": [
    "#### Ejemplo: generador de números primos \n",
    "Aquí mostraré mi ejemplo favorito de una función generadora: una función para generar una serie ilimitada de números primos. Un algoritmo clásico para esto es el Tamiz de Eratóstenes , que funciona así:"
   ]
  },
  {
   "cell_type": "code",
   "execution_count": 34,
   "id": "5ee96629",
   "metadata": {},
   "outputs": [
    {
     "name": "stdout",
     "output_type": "stream",
     "text": [
      "[2, 3, 4, 5, 6, 7, 8, 9, 10, 11, 12, 13, 14, 15, 16, 17, 18, 19, 20, 21, 22, 23, 24, 25, 26, 27, 28, 29, 30, 31, 32, 33, 34, 35, 36, 37, 38, 39]\n"
     ]
    }
   ],
   "source": [
    "# Generate a list of candidates\n",
    "L = [n for n in range(2, 40)]\n",
    "print(L)"
   ]
  },
  {
   "cell_type": "code",
   "execution_count": 35,
   "id": "1b5c2595",
   "metadata": {},
   "outputs": [
    {
     "name": "stdout",
     "output_type": "stream",
     "text": [
      "[2, 3, 5, 7, 9, 11, 13, 15, 17, 19, 21, 23, 25, 27, 29, 31, 33, 35, 37, 39]\n"
     ]
    }
   ],
   "source": [
    "# Remove all multiples of the first value\n",
    "L = [n for n in L if n == L[0] or n % L[0] > 0]\n",
    "print(L)"
   ]
  },
  {
   "cell_type": "code",
   "execution_count": 36,
   "id": "e1cd4e19",
   "metadata": {},
   "outputs": [
    {
     "name": "stdout",
     "output_type": "stream",
     "text": [
      "[2, 3, 5, 7, 11, 13, 17, 19, 23, 25, 29, 31, 35, 37]\n"
     ]
    }
   ],
   "source": [
    "# Remove all multiples of the second value\n",
    "L = [n for n in L if n == L[1] or n % L[1] > 0]\n",
    "print(L)"
   ]
  },
  {
   "cell_type": "code",
   "execution_count": 37,
   "id": "96c84841",
   "metadata": {},
   "outputs": [
    {
     "name": "stdout",
     "output_type": "stream",
     "text": [
      "[2, 3, 5, 7, 11, 13, 17, 19, 23, 29, 31, 37]\n"
     ]
    }
   ],
   "source": [
    "# Remove all multiples of the third value\n",
    "L = [n for n in L if n == L[2] or n % L[2] > 0]\n",
    "print(L)"
   ]
  },
  {
   "cell_type": "markdown",
   "id": "c87a536d",
   "metadata": {},
   "source": [
    "Si repetimos este procedimiento suficientes veces en una lista lo suficientemente grande, podemos generar tantos números primos como deseemos.\n",
    "\n",
    "Encapsulemos esta lógica en una función generadora:"
   ]
  },
  {
   "cell_type": "code",
   "execution_count": 40,
   "id": "bd1d7d69",
   "metadata": {},
   "outputs": [
    {
     "name": "stdout",
     "output_type": "stream",
     "text": [
      "2 3 5 7 11 13 17 19 23 29 31 37 41 43 47 53 59 61 67 71 73 79 83 89 97\n"
     ]
    }
   ],
   "source": [
    "def gen_primes(N):\n",
    "    \"\"\"Generate primes up to N\"\"\"\n",
    "    primes = set()\n",
    "    for n in range(2, N):\n",
    "        if all(n % p > 0 for p in primes):\n",
    "            primes.add(n)\n",
    "            yield n\n",
    "\n",
    "print(*gen_primes(100))"
   ]
  },
  {
   "cell_type": "markdown",
   "id": "6106d048",
   "metadata": {},
   "source": [
    "¡Eso es todo al respecto! Si bien esta no es ciertamente la implementación más eficiente desde el punto de vista computacional del Tamiz de Eratóstenes, ilustra lo conveniente que puede ser la sintaxis de la función del generador para construir secuencias más complicadas."
   ]
  }
 ],
 "metadata": {
  "kernelspec": {
   "display_name": "ambienteML",
   "language": "python",
   "name": "ambienteml"
  },
  "language_info": {
   "codemirror_mode": {
    "name": "ipython",
    "version": 3
   },
   "file_extension": ".py",
   "mimetype": "text/x-python",
   "name": "python",
   "nbconvert_exporter": "python",
   "pygments_lexer": "ipython3",
   "version": "3.9.7"
  }
 },
 "nbformat": 4,
 "nbformat_minor": 5
}
