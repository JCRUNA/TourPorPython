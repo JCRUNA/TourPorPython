{
 "cells": [
  {
   "cell_type": "markdown",
   "id": "4393feee",
   "metadata": {},
   "source": [
    "No importa su habilidad como programador, eventualmente cometerá un error de codificación. Tales errores vienen en tres sabores básicos:\n",
    "\n",
    "**Errores de sintaxis**: errores en los que el código no es Python válido (generalmente es fácil de corregir)\n",
    "\n",
    "**Errores en tiempo de ejecución**: errores en los que el código sintácticamente válido no se ejecuta, quizás debido a una entrada de usuario no válida (a veces es fácil de corregir)\n",
    "\n",
    "**Errores semánticos**: errores en la lógica: el código se ejecuta sin problemas, pero el resultado no es el esperado (a menudo es muy difícil de rastrear y corregir)\n",
    "\n",
    "Aquí nos enfocaremos en cómo lidiar limpiamente con los errores de tiempo de ejecución . Como veremos, Python maneja los errores en tiempo de ejecución a través de su marco de manejo de excepciones .M"
   ]
  },
  {
   "cell_type": "markdown",
   "id": "ddad62c2",
   "metadata": {},
   "source": [
    "#### Errores en tiempo de ejecución \n",
    "Si ha realizado alguna codificación en Python, es probable que se haya encontrado con errores de tiempo de ejecución. Pueden suceder de muchas formas.\n",
    "\n",
    "Por ejemplo, si intenta hacer referencia a una variable indefinida:"
   ]
  },
  {
   "cell_type": "code",
   "execution_count": 3,
   "id": "f82a732f",
   "metadata": {},
   "outputs": [
    {
     "ename": "NameError",
     "evalue": "name 'q' is not defined",
     "output_type": "error",
     "traceback": [
      "\u001b[1;31m---------------------------------------------------------------------------\u001b[0m",
      "\u001b[1;31mNameError\u001b[0m                                 Traceback (most recent call last)",
      "\u001b[1;32m~\\AppData\\Local\\Temp/ipykernel_20256/1709365023.py\u001b[0m in \u001b[0;36m<module>\u001b[1;34m\u001b[0m\n\u001b[1;32m----> 1\u001b[1;33m \u001b[0mprint\u001b[0m\u001b[1;33m(\u001b[0m\u001b[0mq\u001b[0m\u001b[1;33m)\u001b[0m\u001b[1;33m\u001b[0m\u001b[1;33m\u001b[0m\u001b[0m\n\u001b[0m",
      "\u001b[1;31mNameError\u001b[0m: name 'q' is not defined"
     ]
    }
   ],
   "source": [
    "print(q)"
   ]
  },
  {
   "cell_type": "markdown",
   "id": "59a54d57",
   "metadata": {},
   "source": [
    "O si prueba una operación que no está definida:"
   ]
  },
  {
   "cell_type": "code",
   "execution_count": 5,
   "id": "4bbdd68d",
   "metadata": {},
   "outputs": [
    {
     "ename": "TypeError",
     "evalue": "unsupported operand type(s) for +: 'int' and 'str'",
     "output_type": "error",
     "traceback": [
      "\u001b[1;31m---------------------------------------------------------------------------\u001b[0m",
      "\u001b[1;31mTypeError\u001b[0m                                 Traceback (most recent call last)",
      "\u001b[1;32m~\\AppData\\Local\\Temp/ipykernel_20256/799353071.py\u001b[0m in \u001b[0;36m<module>\u001b[1;34m\u001b[0m\n\u001b[1;32m----> 1\u001b[1;33m \u001b[1;36m1\u001b[0m \u001b[1;33m+\u001b[0m \u001b[1;34m'ab'\u001b[0m\u001b[1;33m\u001b[0m\u001b[1;33m\u001b[0m\u001b[0m\n\u001b[0m",
      "\u001b[1;31mTypeError\u001b[0m: unsupported operand type(s) for +: 'int' and 'str'"
     ]
    }
   ],
   "source": [
    "1 + 'ab'"
   ]
  },
  {
   "cell_type": "markdown",
   "id": "4260e9de",
   "metadata": {},
   "source": [
    "O puede estar intentando calcular un resultado matemáticamente mal definido:\n",
    "\n"
   ]
  },
  {
   "cell_type": "code",
   "execution_count": 7,
   "id": "6a3bbf3e",
   "metadata": {},
   "outputs": [
    {
     "ename": "ZeroDivisionError",
     "evalue": "division by zero",
     "output_type": "error",
     "traceback": [
      "\u001b[1;31m---------------------------------------------------------------------------\u001b[0m",
      "\u001b[1;31mZeroDivisionError\u001b[0m                         Traceback (most recent call last)",
      "\u001b[1;32m~\\AppData\\Local\\Temp/ipykernel_20256/3627099327.py\u001b[0m in \u001b[0;36m<module>\u001b[1;34m\u001b[0m\n\u001b[1;32m----> 1\u001b[1;33m \u001b[1;36m2\u001b[0m\u001b[1;33m/\u001b[0m\u001b[1;36m0\u001b[0m\u001b[1;33m\u001b[0m\u001b[1;33m\u001b[0m\u001b[0m\n\u001b[0m",
      "\u001b[1;31mZeroDivisionError\u001b[0m: division by zero"
     ]
    }
   ],
   "source": [
    "2/0"
   ]
  },
  {
   "cell_type": "markdown",
   "id": "96e3300e",
   "metadata": {},
   "source": [
    "O tal vez está intentando acceder a un elemento de secuencia que no existe:"
   ]
  },
  {
   "cell_type": "code",
   "execution_count": 9,
   "id": "d66173bb",
   "metadata": {},
   "outputs": [
    {
     "ename": "IndexError",
     "evalue": "list index out of range",
     "output_type": "error",
     "traceback": [
      "\u001b[1;31m---------------------------------------------------------------------------\u001b[0m",
      "\u001b[1;31mIndexError\u001b[0m                                Traceback (most recent call last)",
      "\u001b[1;32m~\\AppData\\Local\\Temp/ipykernel_20256/3127218708.py\u001b[0m in \u001b[0;36m<module>\u001b[1;34m\u001b[0m\n\u001b[0;32m      1\u001b[0m \u001b[0mL\u001b[0m  \u001b[1;33m=\u001b[0m  \u001b[1;33m[\u001b[0m \u001b[1;36m1\u001b[0m \u001b[1;33m,\u001b[0m  \u001b[1;36m2\u001b[0m \u001b[1;33m,\u001b[0m  \u001b[1;36m3\u001b[0m \u001b[1;33m]\u001b[0m\u001b[1;33m\u001b[0m\u001b[1;33m\u001b[0m\u001b[0m\n\u001b[1;32m----> 2\u001b[1;33m \u001b[0mL\u001b[0m \u001b[1;33m[\u001b[0m \u001b[1;36m1000\u001b[0m \u001b[1;33m]\u001b[0m\u001b[1;33m\u001b[0m\u001b[1;33m\u001b[0m\u001b[0m\n\u001b[0m",
      "\u001b[1;31mIndexError\u001b[0m: list index out of range"
     ]
    }
   ],
   "source": [
    "L  =  [ 1 ,  2 ,  3 ] \n",
    "L [ 1000 ]"
   ]
  },
  {
   "cell_type": "markdown",
   "id": "2580f164",
   "metadata": {},
   "source": [
    "Tenga en cuenta que en cada caso, Python tiene la amabilidad de no simplemente indicar que ocurrió un error, sino de escupir una excepción significativa que incluye información sobre qué salió mal exactamente, junto con la línea exacta de código donde ocurrió el error. Tener acceso a errores significativos como este es inmensamente útil cuando se intenta rastrear la raíz de los problemas en su código."
   ]
  },
  {
   "cell_type": "code",
   "execution_count": 13,
   "id": "da9722d9",
   "metadata": {},
   "outputs": [
    {
     "name": "stdout",
     "output_type": "stream",
     "text": [
      "this gets executed first\n"
     ]
    }
   ],
   "source": [
    "try:\n",
    "    print(\"this gets executed first\")\n",
    "except:\n",
    "    print(\"this gets executed only if there is an error\")"
   ]
  },
  {
   "cell_type": "markdown",
   "id": "dd762882",
   "metadata": {},
   "source": [
    "Tenga en cuenta que el segundo bloque aquí no se ejecutó: esto se debe a que el primer bloque no devolvió un error. Pongamos una declaración problemática en el trybloque y veamos qué sucede:"
   ]
  },
  {
   "cell_type": "code",
   "execution_count": 14,
   "id": "9244001b",
   "metadata": {},
   "outputs": [
    {
     "name": "stdout",
     "output_type": "stream",
     "text": [
      "let's try something:\n",
      "something bad happened!\n"
     ]
    }
   ],
   "source": [
    "try:\n",
    "    print(\"let's try something:\")\n",
    "    x = 1 / 0 # ZeroDivisionError\n",
    "except:\n",
    "    print(\"something bad happened!\")"
   ]
  },
  {
   "cell_type": "markdown",
   "id": "d59046c9",
   "metadata": {},
   "source": [
    "Aquí vemos que cuando se generó el error en la try declaración (en este caso, a ZeroDivisionError), se detectó el error y except se ejecutó la declaración.\n",
    "\n",
    "Una forma en que esto se usa a menudo es verificar la entrada del usuario dentro de una función u otro fragmento de código. Por ejemplo, es posible que deseemos tener una función que capture la división cero y devuelva algún otro valor, tal vez un número suficientemente grande como 10^100:"
   ]
  },
  {
   "cell_type": "code",
   "execution_count": 15,
   "id": "040633ea",
   "metadata": {},
   "outputs": [],
   "source": [
    "def safe_divide(a, b):\n",
    "    try:\n",
    "        return a / b\n",
    "    except:\n",
    "        return 1E100"
   ]
  },
  {
   "cell_type": "code",
   "execution_count": 16,
   "id": "37e26c71",
   "metadata": {},
   "outputs": [
    {
     "data": {
      "text/plain": [
       "0.5"
      ]
     },
     "execution_count": 16,
     "metadata": {},
     "output_type": "execute_result"
    }
   ],
   "source": [
    "safe_divide(1, 2)"
   ]
  },
  {
   "cell_type": "code",
   "execution_count": 18,
   "id": "c4a86caf",
   "metadata": {},
   "outputs": [
    {
     "data": {
      "text/plain": [
       "1e+100"
      ]
     },
     "execution_count": 18,
     "metadata": {},
     "output_type": "execute_result"
    }
   ],
   "source": [
    "safe_divide(2,0)"
   ]
  },
  {
   "cell_type": "markdown",
   "id": "957a2cc5",
   "metadata": {},
   "source": [
    "Sin embargo, hay un problema sutil con este código: ¿qué sucede cuando aparece otro tipo de excepción? Por ejemplo, probablemente esto no sea lo que pretendíamos:"
   ]
  },
  {
   "cell_type": "code",
   "execution_count": 19,
   "id": "9595022b",
   "metadata": {},
   "outputs": [
    {
     "data": {
      "text/plain": [
       "1e+100"
      ]
     },
     "execution_count": 19,
     "metadata": {},
     "output_type": "execute_result"
    }
   ],
   "source": [
    "safe_divide (1, '2')"
   ]
  },
  {
   "cell_type": "markdown",
   "id": "bdddf96f",
   "metadata": {},
   "source": [
    "Dividir un entero y una cadena genera un TypeError, que nuestro código demasiado entusiasta captó y asumió que era un ZeroDivisionError! Por esta razón, casi siempre es una mejor idea detectar las excepciones de forma explícita :"
   ]
  },
  {
   "cell_type": "code",
   "execution_count": 22,
   "id": "a8fac466",
   "metadata": {},
   "outputs": [],
   "source": [
    "def safe_divide(a, b):\n",
    "    try:\n",
    "        return a / b\n",
    "    except ZeroDivisionError:\n",
    "        return 1E100"
   ]
  },
  {
   "cell_type": "code",
   "execution_count": 23,
   "id": "7335b28d",
   "metadata": {},
   "outputs": [
    {
     "data": {
      "text/plain": [
       "1e+100"
      ]
     },
     "execution_count": 23,
     "metadata": {},
     "output_type": "execute_result"
    }
   ],
   "source": [
    "safe_divide(2,0)"
   ]
  },
  {
   "cell_type": "code",
   "execution_count": 24,
   "id": "7ade9594",
   "metadata": {},
   "outputs": [
    {
     "ename": "TypeError",
     "evalue": "unsupported operand type(s) for /: 'int' and 'str'",
     "output_type": "error",
     "traceback": [
      "\u001b[1;31m---------------------------------------------------------------------------\u001b[0m",
      "\u001b[1;31mTypeError\u001b[0m                                 Traceback (most recent call last)",
      "\u001b[1;32m~\\AppData\\Local\\Temp/ipykernel_20256/2652659479.py\u001b[0m in \u001b[0;36m<module>\u001b[1;34m\u001b[0m\n\u001b[1;32m----> 1\u001b[1;33m \u001b[0msafe_divide\u001b[0m\u001b[1;33m(\u001b[0m\u001b[1;36m3\u001b[0m\u001b[1;33m,\u001b[0m\u001b[1;34m'1'\u001b[0m\u001b[1;33m)\u001b[0m\u001b[1;33m\u001b[0m\u001b[1;33m\u001b[0m\u001b[0m\n\u001b[0m",
      "\u001b[1;32m~\\AppData\\Local\\Temp/ipykernel_20256/3973144441.py\u001b[0m in \u001b[0;36msafe_divide\u001b[1;34m(a, b)\u001b[0m\n\u001b[0;32m      1\u001b[0m \u001b[1;32mdef\u001b[0m \u001b[0msafe_divide\u001b[0m\u001b[1;33m(\u001b[0m\u001b[0ma\u001b[0m\u001b[1;33m,\u001b[0m \u001b[0mb\u001b[0m\u001b[1;33m)\u001b[0m\u001b[1;33m:\u001b[0m\u001b[1;33m\u001b[0m\u001b[1;33m\u001b[0m\u001b[0m\n\u001b[0;32m      2\u001b[0m     \u001b[1;32mtry\u001b[0m\u001b[1;33m:\u001b[0m\u001b[1;33m\u001b[0m\u001b[1;33m\u001b[0m\u001b[0m\n\u001b[1;32m----> 3\u001b[1;33m         \u001b[1;32mreturn\u001b[0m \u001b[0ma\u001b[0m \u001b[1;33m/\u001b[0m \u001b[0mb\u001b[0m\u001b[1;33m\u001b[0m\u001b[1;33m\u001b[0m\u001b[0m\n\u001b[0m\u001b[0;32m      4\u001b[0m     \u001b[1;32mexcept\u001b[0m \u001b[0mZeroDivisionError\u001b[0m\u001b[1;33m:\u001b[0m\u001b[1;33m\u001b[0m\u001b[1;33m\u001b[0m\u001b[0m\n\u001b[0;32m      5\u001b[0m         \u001b[1;32mreturn\u001b[0m \u001b[1;36m1E100\u001b[0m\u001b[1;33m\u001b[0m\u001b[1;33m\u001b[0m\u001b[0m\n",
      "\u001b[1;31mTypeError\u001b[0m: unsupported operand type(s) for /: 'int' and 'str'"
     ]
    }
   ],
   "source": [
    "safe_divide(3,'1')"
   ]
  },
  {
   "cell_type": "markdown",
   "id": "027b2ba5",
   "metadata": {},
   "source": [
    "Ahora solo detectamos errores de división cero y permitimos que todos los demás errores pasen sin modificar."
   ]
  },
  {
   "cell_type": "markdown",
   "id": "d47af646",
   "metadata": {},
   "source": [
    "##### Generación de excepciones: raise\n",
    "\n",
    "Hemos visto lo valioso que es tener excepciones informativas al usar partes del lenguaje Python. Es igualmente valioso hacer uso de excepciones informativas dentro del código que escribe, para que los usuarios de su código (¡sobre todo usted mismo!) Puedan descubrir qué causó sus errores.\n",
    "\n",
    "La forma en que plantea sus propias excepciones es con la declaración raise. Por ejemplo:"
   ]
  },
  {
   "cell_type": "code",
   "execution_count": 27,
   "id": "8c439363",
   "metadata": {},
   "outputs": [
    {
     "ename": "RuntimeError",
     "evalue": "mi mensaje de error",
     "output_type": "error",
     "traceback": [
      "\u001b[1;31m---------------------------------------------------------------------------\u001b[0m",
      "\u001b[1;31mRuntimeError\u001b[0m                              Traceback (most recent call last)",
      "\u001b[1;32m~\\AppData\\Local\\Temp/ipykernel_20256/3034221375.py\u001b[0m in \u001b[0;36m<module>\u001b[1;34m\u001b[0m\n\u001b[1;32m----> 1\u001b[1;33m \u001b[1;32mraise\u001b[0m  \u001b[0mRuntimeError\u001b[0m \u001b[1;33m(\u001b[0m \u001b[1;34m\"mi mensaje de error\"\u001b[0m \u001b[1;33m)\u001b[0m\u001b[1;33m\u001b[0m\u001b[1;33m\u001b[0m\u001b[0m\n\u001b[0m",
      "\u001b[1;31mRuntimeError\u001b[0m: mi mensaje de error"
     ]
    }
   ],
   "source": [
    "raise  RuntimeError ( \"mi mensaje de error\" )"
   ]
  },
  {
   "cell_type": "markdown",
   "id": "aa95d301",
   "metadata": {},
   "source": [
    "Como ejemplo de dónde esto podría ser útil, regresemos a nuestra función fibonacci que definimos anteriormente:"
   ]
  },
  {
   "cell_type": "code",
   "execution_count": 30,
   "id": "5d193dad",
   "metadata": {},
   "outputs": [],
   "source": [
    "def fibonacci(N):\n",
    "    L = []\n",
    "    a, b = 0, 1\n",
    "    while len(L) < N:\n",
    "        a, b = b, a + b\n",
    "        L.append(a)\n",
    "    return L"
   ]
  },
  {
   "cell_type": "markdown",
   "id": "0cdbf1a3",
   "metadata": {},
   "source": [
    "Un problema potencial aquí es que el valor de entrada podría ser negativo. Actualmente, esto no causará ningún error en nuestra función, pero es posible que deseemos que el usuario sepa que N no admite un negativo . Los errores derivados de valores de parámetros no válidos, por convención, llevan a que ValueError se genere:"
   ]
  },
  {
   "cell_type": "code",
   "execution_count": 31,
   "id": "8df67a55",
   "metadata": {},
   "outputs": [
    {
     "data": {
      "text/plain": [
       "[]"
      ]
     },
     "execution_count": 31,
     "metadata": {},
     "output_type": "execute_result"
    }
   ],
   "source": [
    "fibonacci(-12)"
   ]
  },
  {
   "cell_type": "code",
   "execution_count": 34,
   "id": "a3e149d3",
   "metadata": {},
   "outputs": [],
   "source": [
    "def fibonacci(N):\n",
    "    if N < 0:\n",
    "        raise ValueError(\"N no debe ser negativo\")\n",
    "    L = []\n",
    "    a, b = 0, 1\n",
    "    while len(L) < N:\n",
    "        a, b = b, a + b\n",
    "        L.append(a)\n",
    "    return L"
   ]
  },
  {
   "cell_type": "code",
   "execution_count": 35,
   "id": "5212986b",
   "metadata": {},
   "outputs": [
    {
     "ename": "ValueError",
     "evalue": "N no debe ser negativo",
     "output_type": "error",
     "traceback": [
      "\u001b[1;31m---------------------------------------------------------------------------\u001b[0m",
      "\u001b[1;31mValueError\u001b[0m                                Traceback (most recent call last)",
      "\u001b[1;32m~\\AppData\\Local\\Temp/ipykernel_20256/1096771565.py\u001b[0m in \u001b[0;36m<module>\u001b[1;34m\u001b[0m\n\u001b[1;32m----> 1\u001b[1;33m \u001b[0mfibonacci\u001b[0m\u001b[1;33m(\u001b[0m\u001b[1;33m-\u001b[0m\u001b[1;36m90\u001b[0m\u001b[1;33m)\u001b[0m\u001b[1;33m\u001b[0m\u001b[1;33m\u001b[0m\u001b[0m\n\u001b[0m",
      "\u001b[1;32m~\\AppData\\Local\\Temp/ipykernel_20256/1397179288.py\u001b[0m in \u001b[0;36mfibonacci\u001b[1;34m(N)\u001b[0m\n\u001b[0;32m      1\u001b[0m \u001b[1;32mdef\u001b[0m \u001b[0mfibonacci\u001b[0m\u001b[1;33m(\u001b[0m\u001b[0mN\u001b[0m\u001b[1;33m)\u001b[0m\u001b[1;33m:\u001b[0m\u001b[1;33m\u001b[0m\u001b[1;33m\u001b[0m\u001b[0m\n\u001b[0;32m      2\u001b[0m     \u001b[1;32mif\u001b[0m \u001b[0mN\u001b[0m \u001b[1;33m<\u001b[0m \u001b[1;36m0\u001b[0m\u001b[1;33m:\u001b[0m\u001b[1;33m\u001b[0m\u001b[1;33m\u001b[0m\u001b[0m\n\u001b[1;32m----> 3\u001b[1;33m         \u001b[1;32mraise\u001b[0m \u001b[0mValueError\u001b[0m\u001b[1;33m(\u001b[0m\u001b[1;34m\"N no debe ser negativo\"\u001b[0m\u001b[1;33m)\u001b[0m\u001b[1;33m\u001b[0m\u001b[1;33m\u001b[0m\u001b[0m\n\u001b[0m\u001b[0;32m      4\u001b[0m     \u001b[0mL\u001b[0m \u001b[1;33m=\u001b[0m \u001b[1;33m[\u001b[0m\u001b[1;33m]\u001b[0m\u001b[1;33m\u001b[0m\u001b[1;33m\u001b[0m\u001b[0m\n\u001b[0;32m      5\u001b[0m     \u001b[0ma\u001b[0m\u001b[1;33m,\u001b[0m \u001b[0mb\u001b[0m \u001b[1;33m=\u001b[0m \u001b[1;36m0\u001b[0m\u001b[1;33m,\u001b[0m \u001b[1;36m1\u001b[0m\u001b[1;33m\u001b[0m\u001b[1;33m\u001b[0m\u001b[0m\n",
      "\u001b[1;31mValueError\u001b[0m: N no debe ser negativo"
     ]
    }
   ],
   "source": [
    "fibonacci(-90)"
   ]
  },
  {
   "cell_type": "markdown",
   "id": "24b054f2",
   "metadata": {},
   "source": [
    "Ahora el usuario sabe exactamente por qué la entrada no es válida, ¡e incluso podría usar un bloque try... except para manejarla!"
   ]
  },
  {
   "cell_type": "code",
   "execution_count": 37,
   "id": "b9692c1b",
   "metadata": {},
   "outputs": [
    {
     "name": "stdout",
     "output_type": "stream",
     "text": [
      "trying this...\n",
      "Bad value: need to do something else\n"
     ]
    }
   ],
   "source": [
    "N = -10\n",
    "try:\n",
    "    print(\"trying this...\")\n",
    "    print(fibonacci(N))\n",
    "except ValueError:\n",
    "    print(\"Bad value: need to do something else\")"
   ]
  },
  {
   "cell_type": "markdown",
   "id": "7a58c641",
   "metadata": {},
   "source": [
    "#### Profundizando en las excepciones \n",
    "Brevemente, quiero mencionar aquí algunos otros conceptos con los que podría encontrarse. No entraré en detalles sobre estos conceptos y cómo y por qué usarlos, sino que simplemente le mostraré la sintaxis para que pueda explorar más por su cuenta."
   ]
  },
  {
   "cell_type": "markdown",
   "id": "b335f55b",
   "metadata": {},
   "source": [
    "###### Accediendo al mensaje de error \n",
    "A veces, en una declaración try... except, le gustaría poder trabajar con el mensaje de error en sí. Esto se puede hacer con la palabra clave as:"
   ]
  },
  {
   "cell_type": "code",
   "execution_count": 42,
   "id": "87e5cf0b",
   "metadata": {},
   "outputs": [
    {
     "name": "stdout",
     "output_type": "stream",
     "text": [
      "Error class is:   <class 'ZeroDivisionError'>\n",
      "Error message is: division by zero\n"
     ]
    }
   ],
   "source": [
    "try:\n",
    "    x = 1 / 0\n",
    "except ZeroDivisionError as err:\n",
    "    print(\"Error class is:  \", type(err))\n",
    "    print(\"Error message is:\", err)"
   ]
  },
  {
   "cell_type": "markdown",
   "id": "d3eff0db",
   "metadata": {},
   "source": [
    "Con este patrón, puede personalizar aún más el manejo de excepciones de su función."
   ]
  },
  {
   "cell_type": "markdown",
   "id": "111edb1c",
   "metadata": {},
   "source": [
    "##### Definición de excepciones personalizadas \n",
    "Además de las excepciones integradas, es posible definir excepciones personalizadas a través de la herencia de clases . Por ejemplo, si desea un tipo especial de ValueError, puede hacer esto:"
   ]
  },
  {
   "cell_type": "code",
   "execution_count": 43,
   "id": "44581300",
   "metadata": {},
   "outputs": [
    {
     "ename": "MySpecialError",
     "evalue": "here's the message",
     "output_type": "error",
     "traceback": [
      "\u001b[1;31m---------------------------------------------------------------------------\u001b[0m",
      "\u001b[1;31mMySpecialError\u001b[0m                            Traceback (most recent call last)",
      "\u001b[1;32m~\\AppData\\Local\\Temp/ipykernel_20256/931237915.py\u001b[0m in \u001b[0;36m<module>\u001b[1;34m\u001b[0m\n\u001b[0;32m      2\u001b[0m     \u001b[1;32mpass\u001b[0m\u001b[1;33m\u001b[0m\u001b[1;33m\u001b[0m\u001b[0m\n\u001b[0;32m      3\u001b[0m \u001b[1;33m\u001b[0m\u001b[0m\n\u001b[1;32m----> 4\u001b[1;33m \u001b[1;32mraise\u001b[0m \u001b[0mMySpecialError\u001b[0m\u001b[1;33m(\u001b[0m\u001b[1;34m\"here's the message\"\u001b[0m\u001b[1;33m)\u001b[0m\u001b[1;33m\u001b[0m\u001b[1;33m\u001b[0m\u001b[0m\n\u001b[0m",
      "\u001b[1;31mMySpecialError\u001b[0m: here's the message"
     ]
    }
   ],
   "source": [
    "class MySpecialError(ValueError):\n",
    "    pass\n",
    "\n",
    "raise MySpecialError(\"here's the message\")"
   ]
  },
  {
   "cell_type": "markdown",
   "id": "8a58c38f",
   "metadata": {},
   "source": [
    "Esto le permitiría usar un bloque try... exceptque solo detecta este tipo de error:"
   ]
  },
  {
   "cell_type": "code",
   "execution_count": 45,
   "id": "5780410b",
   "metadata": {},
   "outputs": [
    {
     "name": "stdout",
     "output_type": "stream",
     "text": [
      "do something\n",
      "do something else\n"
     ]
    }
   ],
   "source": [
    "try:\n",
    "    print(\"do something\")\n",
    "    raise MySpecialError(\"[informative error message here]\")\n",
    "except MySpecialError:\n",
    "    print(\"do something else\")"
   ]
  },
  {
   "cell_type": "markdown",
   "id": "5b21dbfe",
   "metadata": {},
   "source": [
    "Puede que le resulte útil a medida que desarrolle un código más personalizado.\n",
    "\n",
    "try... except... else... finally\n",
    "Además de try y except, puede utilizar las palabras clave else y finally para ajustar aún más el manejo de excepciones de su código. La estructura básica es esta:"
   ]
  },
  {
   "cell_type": "code",
   "execution_count": 48,
   "id": "a990e063",
   "metadata": {},
   "outputs": [
    {
     "name": "stdout",
     "output_type": "stream",
     "text": [
      "try something here\n",
      "this happens only if it succeeds\n",
      "this happens no matter what\n"
     ]
    }
   ],
   "source": [
    "try:\n",
    "    print(\"try something here\")\n",
    "except:\n",
    "    print(\"this happens only if it fails\")\n",
    "else:\n",
    "    print(\"this happens only if it succeeds\")\n",
    "finally:\n",
    "    print(\"this happens no matter what\")"
   ]
  },
  {
   "cell_type": "markdown",
   "id": "62a782e2",
   "metadata": {},
   "source": [
    "La utilidad de elsea quí es clara, pero ¿de qué sirve finally? Bueno, la finally cláusula realmente se ejecuta sin importar qué : generalmente veo que se usa para hacer algún tipo de limpieza después de que se completa una operación."
   ]
  }
 ],
 "metadata": {
  "kernelspec": {
   "display_name": "ambienteML",
   "language": "python",
   "name": "ambienteml"
  },
  "language_info": {
   "codemirror_mode": {
    "name": "ipython",
    "version": 3
   },
   "file_extension": ".py",
   "mimetype": "text/x-python",
   "name": "python",
   "nbconvert_exporter": "python",
   "pygments_lexer": "ipython3",
   "version": "3.9.7"
  }
 },
 "nbformat": 4,
 "nbformat_minor": 5
}
