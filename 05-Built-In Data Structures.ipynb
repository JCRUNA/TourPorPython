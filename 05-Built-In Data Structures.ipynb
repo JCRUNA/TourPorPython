{
 "cells": [
  {
   "cell_type": "markdown",
   "id": "d5ab07ad",
   "metadata": {},
   "source": [
    "Hemos visto tipos simples de Python: int, float, complex, bool, str, y así sucesivamente. Python también tiene varios tipos de compuestos integrados, que actúan como contenedores para otros tipos. Estos tipos de compuestos son:"
   ]
  },
  {
   "attachments": {
    "estructuras%20de%20datos%20integradas.PNG": {
     "image/png": "[encoded data removed]"
    }
   },
   "cell_type": "markdown",
   "id": "0dc6796c",
   "metadata": {},
   "source": [
    "![estructuras%20de%20datos%20integradas.PNG](attachment:estructuras%20de%20datos%20integradas.PNG)"
   ]
  },
  {
   "cell_type": "markdown",
   "id": "a157d8b1",
   "metadata": {},
   "source": [
    "##### LISTAS\n",
    "\n",
    "Las listas son el tipo básico de recopilación de datos ordenado y mutable en Python. Se pueden definir con valores separados por comas entre corchetes; por ejemplo, aquí hay una lista de los primeros números primos:"
   ]
  },
  {
   "cell_type": "code",
   "execution_count": 11,
   "id": "c7033940",
   "metadata": {},
   "outputs": [],
   "source": [
    "L  =  [2, 3, 5, 7]"
   ]
  },
  {
   "cell_type": "markdown",
   "id": "fa64d871",
   "metadata": {},
   "source": [
    "Las listas tienen una serie de propiedades y métodos útiles disponibles. Aquí echaremos un vistazo rápido a algunos de los más comunes y útiles:"
   ]
  },
  {
   "cell_type": "code",
   "execution_count": 12,
   "id": "c5167c87",
   "metadata": {},
   "outputs": [
    {
     "data": {
      "text/plain": [
       "4"
      ]
     },
     "execution_count": 12,
     "metadata": {},
     "output_type": "execute_result"
    }
   ],
   "source": [
    "# Longitud de una lista \n",
    "len ( L )"
   ]
  },
  {
   "cell_type": "code",
   "execution_count": 13,
   "id": "ef6350f5",
   "metadata": {},
   "outputs": [
    {
     "data": {
      "text/plain": [
       "[2, 3, 5, 7, 10]"
      ]
     },
     "execution_count": 13,
     "metadata": {},
     "output_type": "execute_result"
    }
   ],
   "source": [
    "L.append(10)\n",
    "L"
   ]
  },
  {
   "cell_type": "code",
   "execution_count": 14,
   "id": "3cfb3a6e",
   "metadata": {},
   "outputs": [
    {
     "data": {
      "text/plain": [
       "[2, 3, 5, 7, 10, 13, 14]"
      ]
     },
     "execution_count": 14,
     "metadata": {},
     "output_type": "execute_result"
    }
   ],
   "source": [
    "L + [13,14]"
   ]
  },
  {
   "cell_type": "code",
   "execution_count": 15,
   "id": "bbbc68f3",
   "metadata": {},
   "outputs": [
    {
     "data": {
      "text/plain": [
       "[1, 2, 4, 9, 10]"
      ]
     },
     "execution_count": 15,
     "metadata": {},
     "output_type": "execute_result"
    }
   ],
   "source": [
    "# Sort () tipo de método en el lugar\n",
    "L=[2,4,1,10,9]\n",
    "L.sort()\n",
    "L"
   ]
  },
  {
   "cell_type": "markdown",
   "id": "a6a31bd4",
   "metadata": {},
   "source": [
    "Además, hay muchos más métodos de lista integrados; están bien cubiertos en la documentación en línea de Python .\n",
    "\n",
    "Si bien hemos estado demostrando listas que contienen valores de un solo tipo, una de las características poderosas de los objetos compuestos de Python es que pueden contener objetos de cualquier tipo, o incluso una combinación de tipos. Por ejemplo:"
   ]
  },
  {
   "cell_type": "code",
   "execution_count": 17,
   "id": "d3ce7e8b",
   "metadata": {},
   "outputs": [],
   "source": [
    "L  =  [1 , 'dos', 3,14, [ 0 ,  3 ,  5 ]]"
   ]
  },
  {
   "cell_type": "markdown",
   "id": "ee6bda60",
   "metadata": {},
   "source": [
    "Esta flexibilidad es una consecuencia del sistema de tipos dinámicos de Python. ¡Crear una secuencia tan mixta en un lenguaje de tipado estático como C puede ser mucho más un dolor de cabeza! Vemos que las listas pueden incluso contener otras listas como elementos. Esta flexibilidad de tipos es una parte esencial de lo que hace que el código Python sea relativamente rápido y fácil de escribir.\n",
    "\n",
    "Hasta ahora hemos estado considerando manipulaciones de listas como un todo; otra pieza imprescindible es el acceso a elementos individuales. Esto se hace en Python mediante la indexación y el corte , que exploraremos a continuación."
   ]
  },
  {
   "cell_type": "markdown",
   "id": "d4b120d6",
   "metadata": {},
   "source": [
    "#### Listado de indexación y división\n",
    "Python proporciona acceso a elementos en tipos compuestos mediante la indexación de elementos individuales y la división de varios elementos. Como veremos, ambos se indican mediante una sintaxis de corchetes. Supongamos que volvemos a nuestra lista de los primeros números primos:"
   ]
  },
  {
   "cell_type": "code",
   "execution_count": 21,
   "id": "05e2b576",
   "metadata": {},
   "outputs": [],
   "source": [
    "L  =  [ 2 ,  3 ,  5 ,  7 ,  11 ]"
   ]
  },
  {
   "cell_type": "code",
   "execution_count": 23,
   "id": "cdeca41d",
   "metadata": {},
   "outputs": [
    {
     "data": {
      "text/plain": [
       "[2, 3, 5, 7]"
      ]
     },
     "execution_count": 23,
     "metadata": {},
     "output_type": "execute_result"
    }
   ],
   "source": [
    "L[:-1]"
   ]
  },
  {
   "cell_type": "markdown",
   "id": "036c9df6",
   "metadata": {},
   "source": [
    "Python usa indexación basada en cero , por lo que podemos acceder al primer y segundo elemento usando la siguiente sintaxis:"
   ]
  },
  {
   "cell_type": "code",
   "execution_count": 25,
   "id": "f3a441a3",
   "metadata": {},
   "outputs": [
    {
     "data": {
      "text/plain": [
       "2"
      ]
     },
     "execution_count": 25,
     "metadata": {},
     "output_type": "execute_result"
    }
   ],
   "source": [
    "L [ 0 ]"
   ]
  },
  {
   "cell_type": "code",
   "execution_count": 26,
   "id": "0eec41c9",
   "metadata": {},
   "outputs": [
    {
     "data": {
      "text/plain": [
       "3"
      ]
     },
     "execution_count": 26,
     "metadata": {},
     "output_type": "execute_result"
    }
   ],
   "source": [
    "L [ 1 ]"
   ]
  },
  {
   "cell_type": "markdown",
   "id": "05340825",
   "metadata": {},
   "source": [
    "Se puede acceder a los elementos al final de la lista con números negativos, comenzando desde -1:"
   ]
  },
  {
   "cell_type": "code",
   "execution_count": 28,
   "id": "954bca52",
   "metadata": {},
   "outputs": [
    {
     "data": {
      "text/plain": [
       "11"
      ]
     },
     "execution_count": 28,
     "metadata": {},
     "output_type": "execute_result"
    }
   ],
   "source": [
    "L [ - 1 ]"
   ]
  },
  {
   "cell_type": "code",
   "execution_count": 29,
   "id": "de3323e9",
   "metadata": {},
   "outputs": [
    {
     "data": {
      "text/plain": [
       "7"
      ]
     },
     "execution_count": 29,
     "metadata": {},
     "output_type": "execute_result"
    }
   ],
   "source": [
    "L [ - 2 ]"
   ]
  },
  {
   "attachments": {
    "indexacion.PNG": {
     "image/png": "[encoded data removed]"
    }
   },
   "cell_type": "markdown",
   "id": "d04ab6bc",
   "metadata": {},
   "source": [
    "![indexacion.PNG](attachment:indexacion.PNG)"
   ]
  },
  {
   "cell_type": "markdown",
   "id": "82b17a80",
   "metadata": {},
   "source": [
    "Cuando la indexación es un medio para obtener un único valor de la lista, la segmentación es un medio para acceder a múltiples valores en sublistas. **Utiliza dos puntos para indicar el punto de inicio (incluido) y el punto final (no incluido)**de la submatriz. Por ejemplo, para obtener los primeros tres elementos de la lista, podemos escribir:"
   ]
  },
  {
   "cell_type": "code",
   "execution_count": 31,
   "id": "dd648c3c",
   "metadata": {},
   "outputs": [
    {
     "data": {
      "text/plain": [
       "[2, 3, 5]"
      ]
     },
     "execution_count": 31,
     "metadata": {},
     "output_type": "execute_result"
    }
   ],
   "source": [
    "L [ 0 : 3 ]"
   ]
  },
  {
   "cell_type": "markdown",
   "id": "20b48838",
   "metadata": {},
   "source": [
    "Observe dónde se encuentra 0 y donde se encuentra 3 en el diagrama anterior, y cómo el segmento toma solo los valores entre los índices. Si dejamos fuera el primer índice, 0 se asume, por lo que podemos escribir de manera equivalente:"
   ]
  },
  {
   "cell_type": "code",
   "execution_count": 33,
   "id": "bde7282f",
   "metadata": {},
   "outputs": [
    {
     "data": {
      "text/plain": [
       "[2, 3, 5]"
      ]
     },
     "execution_count": 33,
     "metadata": {},
     "output_type": "execute_result"
    }
   ],
   "source": [
    "L [: 3 ]"
   ]
  },
  {
   "cell_type": "markdown",
   "id": "10a393ae",
   "metadata": {},
   "source": [
    "Del mismo modo, si dejamos fuera el último índice, el valor predeterminado es la longitud de la lista. Así, se puede acceder a los tres últimos elementos de la siguiente manera:"
   ]
  },
  {
   "cell_type": "code",
   "execution_count": 35,
   "id": "0a9e1a33",
   "metadata": {},
   "outputs": [
    {
     "data": {
      "text/plain": [
       "[5, 7, 11]"
      ]
     },
     "execution_count": 35,
     "metadata": {},
     "output_type": "execute_result"
    }
   ],
   "source": [
    "L [ - 3 :]"
   ]
  },
  {
   "cell_type": "markdown",
   "id": "a770dd15",
   "metadata": {},
   "source": [
    "Finalmente, es posible especificar un tercer número entero que representa el tamaño del paso; por ejemplo, para seleccionar cada segundo elemento de la lista, podemos escribir:"
   ]
  },
  {
   "cell_type": "code",
   "execution_count": 37,
   "id": "e265cf3b",
   "metadata": {},
   "outputs": [
    {
     "data": {
      "text/plain": [
       "[2, 5, 11]"
      ]
     },
     "execution_count": 37,
     "metadata": {},
     "output_type": "execute_result"
    }
   ],
   "source": [
    "# L  =  [ 2 ,  3 ,  5 ,  7 ,  11 ]\n",
    "\n",
    "L [:: 2 ]   # equivalente a L [0: len (L): 2]"
   ]
  },
  {
   "cell_type": "markdown",
   "id": "22e30dbb",
   "metadata": {},
   "source": [
    "Una versión particularmente útil de esto es especificar un paso negativo, que revertirá la matriz:"
   ]
  },
  {
   "cell_type": "code",
   "execution_count": 39,
   "id": "dbd0b932",
   "metadata": {},
   "outputs": [
    {
     "data": {
      "text/plain": [
       "[11, 7, 5, 3, 2]"
      ]
     },
     "execution_count": 39,
     "metadata": {},
     "output_type": "execute_result"
    }
   ],
   "source": [
    "L [:: - 1 ]"
   ]
  },
  {
   "cell_type": "markdown",
   "id": "01998de8",
   "metadata": {},
   "source": [
    "Tanto la indexación como la segmentación se pueden utilizar para configurar elementos y acceder a ellos. La sintaxis es la que cabría esperar:"
   ]
  },
  {
   "cell_type": "code",
   "execution_count": 42,
   "id": "ddc278e4",
   "metadata": {},
   "outputs": [
    {
     "name": "stdout",
     "output_type": "stream",
     "text": [
      "[100, 3, 5, 7, 11]\n"
     ]
    }
   ],
   "source": [
    "L [ 0 ]  =  100 \n",
    "print( L )"
   ]
  },
  {
   "cell_type": "code",
   "execution_count": 44,
   "id": "f53c1b6e",
   "metadata": {},
   "outputs": [
    {
     "name": "stdout",
     "output_type": "stream",
     "text": [
      "[100, 55, 56, 7, 11]\n"
     ]
    }
   ],
   "source": [
    "L [ 1 : 3 ]  =  [ 55 ,  56 ] \n",
    "print( L )"
   ]
  },
  {
   "cell_type": "markdown",
   "id": "80b7b09e",
   "metadata": {},
   "source": [
    "También se utiliza una sintaxis de corte muy similar en muchos paquetes orientados a la ciencia de datos, incluidos NumPy y Pandas (mencionados en la introducción).\n",
    "\n",
    "Ahora que hemos visto las listas de Python y cómo acceder a los elementos en tipos compuestos ordenados, echemos un vistazo a los otros tres tipos de datos compuestos estándar mencionados anteriormente."
   ]
  },
  {
   "cell_type": "markdown",
   "id": "ac938d80",
   "metadata": {},
   "source": [
    "##### TUPLAS\n",
    "Las tuplas son similares en muchos aspectos a las listas, pero se definen entre paréntesis en lugar de corchetes:"
   ]
  },
  {
   "cell_type": "code",
   "execution_count": 47,
   "id": "39c6bf65",
   "metadata": {},
   "outputs": [],
   "source": [
    "t  =  ( 1 ,  2 ,  3 )"
   ]
  },
  {
   "cell_type": "code",
   "execution_count": 48,
   "id": "1dfbd28c",
   "metadata": {},
   "outputs": [
    {
     "name": "stdout",
     "output_type": "stream",
     "text": [
      "(1, 2, 3)\n"
     ]
    }
   ],
   "source": [
    "#También se pueden definir sin ningún paréntesis:\n",
    "t  =  1 ,  2 ,  3 \n",
    "print(t)"
   ]
  },
  {
   "cell_type": "markdown",
   "id": "9e090ec4",
   "metadata": {},
   "source": [
    "Al igual que las listas discutidas anteriormente, las tuplas tienen una longitud y los elementos individuales se pueden extraer mediante la indexación de corchetes:"
   ]
  },
  {
   "cell_type": "code",
   "execution_count": 50,
   "id": "08bfee1c",
   "metadata": {},
   "outputs": [
    {
     "data": {
      "text/plain": [
       "3"
      ]
     },
     "execution_count": 50,
     "metadata": {},
     "output_type": "execute_result"
    }
   ],
   "source": [
    "len(t)"
   ]
  },
  {
   "cell_type": "markdown",
   "id": "c84b36e6",
   "metadata": {},
   "source": [
    "**La principal característica distintiva de las tuplas es que son inmutables : esto significa que una vez creadas, su tamaño y contenido no se pueden cambiar:**"
   ]
  },
  {
   "cell_type": "code",
   "execution_count": 52,
   "id": "33ad990b",
   "metadata": {},
   "outputs": [
    {
     "ename": "TypeError",
     "evalue": "'tuple' object does not support item assignment",
     "output_type": "error",
     "traceback": [
      "\u001b[1;31m---------------------------------------------------------------------------\u001b[0m",
      "\u001b[1;31mTypeError\u001b[0m                                 Traceback (most recent call last)",
      "\u001b[1;32m~\\AppData\\Local\\Temp/ipykernel_1420/2074230207.py\u001b[0m in \u001b[0;36m<module>\u001b[1;34m\u001b[0m\n\u001b[1;32m----> 1\u001b[1;33m \u001b[0mt\u001b[0m \u001b[1;33m[\u001b[0m \u001b[1;36m1\u001b[0m \u001b[1;33m]\u001b[0m  \u001b[1;33m=\u001b[0m  \u001b[1;36m4\u001b[0m\u001b[1;33m\u001b[0m\u001b[1;33m\u001b[0m\u001b[0m\n\u001b[0m",
      "\u001b[1;31mTypeError\u001b[0m: 'tuple' object does not support item assignment"
     ]
    }
   ],
   "source": [
    "t [ 1 ]  =  4"
   ]
  },
  {
   "cell_type": "code",
   "execution_count": 53,
   "id": "23f1d470",
   "metadata": {},
   "outputs": [
    {
     "ename": "AttributeError",
     "evalue": "'tuple' object has no attribute 'append'",
     "output_type": "error",
     "traceback": [
      "\u001b[1;31m---------------------------------------------------------------------------\u001b[0m",
      "\u001b[1;31mAttributeError\u001b[0m                            Traceback (most recent call last)",
      "\u001b[1;32m~\\AppData\\Local\\Temp/ipykernel_1420/1693476538.py\u001b[0m in \u001b[0;36m<module>\u001b[1;34m\u001b[0m\n\u001b[1;32m----> 1\u001b[1;33m \u001b[0mt\u001b[0m\u001b[1;33m.\u001b[0m\u001b[0mappend\u001b[0m\u001b[1;33m(\u001b[0m\u001b[1;36m4\u001b[0m\u001b[1;33m)\u001b[0m\u001b[1;33m\u001b[0m\u001b[1;33m\u001b[0m\u001b[0m\n\u001b[0m",
      "\u001b[1;31mAttributeError\u001b[0m: 'tuple' object has no attribute 'append'"
     ]
    }
   ],
   "source": [
    "t.append(4)"
   ]
  },
  {
   "cell_type": "markdown",
   "id": "cdd19cd1",
   "metadata": {},
   "source": [
    "Las tuplas se utilizan a menudo en un programa de Python; un caso particularmente común es en funciones que tienen múltiples valores de retorno. Por ejemplo, el as_integer_ratio() método de los objetos de punto flotante devuelve un numerador y un denominador; este valor de retorno dual viene en forma de tupla:"
   ]
  },
  {
   "cell_type": "code",
   "execution_count": 56,
   "id": "bcd9eab9",
   "metadata": {},
   "outputs": [
    {
     "data": {
      "text/plain": [
       "(1, 8)"
      ]
     },
     "execution_count": 56,
     "metadata": {},
     "output_type": "execute_result"
    }
   ],
   "source": [
    "x  =  0.125 \n",
    "x.as_integer_ratio ()"
   ]
  },
  {
   "cell_type": "markdown",
   "id": "63c8f312",
   "metadata": {},
   "source": [
    "Estos múltiples valores de retorno se pueden asignar individualmente de la siguiente manera:"
   ]
  },
  {
   "cell_type": "code",
   "execution_count": 58,
   "id": "d8b9ca7a",
   "metadata": {},
   "outputs": [
    {
     "name": "stdout",
     "output_type": "stream",
     "text": [
      "0.125\n"
     ]
    }
   ],
   "source": [
    "numerador ,  denominador  =  x.as_integer_ratio () \n",
    "print( numerador  /  denominador )"
   ]
  },
  {
   "cell_type": "markdown",
   "id": "92a2cf7c",
   "metadata": {},
   "source": [
    "La lógica de indexación y división cubierta anteriormente para las listas también funciona para tuplas, junto con una serie de otros métodos. Consulte la documentación de Python en línea para obtener una lista más completa de estos."
   ]
  },
  {
   "cell_type": "markdown",
   "id": "1217bfe1",
   "metadata": {},
   "source": [
    "#### DICCIONARIOS\n",
    "Los diccionarios son asignaciones extremadamente flexibles de claves a valores y forman la base de gran parte de la implementación interna de Python. Se pueden crear mediante una lista de key:pares de valor separados por comas dentro de llaves:"
   ]
  },
  {
   "cell_type": "code",
   "execution_count": 62,
   "id": "0600d40a",
   "metadata": {},
   "outputs": [],
   "source": [
    "números  =  { 'uno' : 1 ,  'dos' : 2 ,  'tres' : 3 }"
   ]
  },
  {
   "cell_type": "markdown",
   "id": "a00eebed",
   "metadata": {},
   "source": [
    "Se accede a los elementos y se configuran a través de la sintaxis de indexación utilizada para listas y tuplas, excepto que aquí el índice no es un orden de base cero sino una clave válida en el diccionario:"
   ]
  },
  {
   "cell_type": "code",
   "execution_count": 83,
   "id": "c9c7d3ba",
   "metadata": {},
   "outputs": [
    {
     "data": {
      "text/plain": [
       "2"
      ]
     },
     "execution_count": 83,
     "metadata": {},
     "output_type": "execute_result"
    }
   ],
   "source": [
    "# Acceda a un valor a través de los \n",
    "números[ 'dos' ]"
   ]
  },
  {
   "cell_type": "code",
   "execution_count": 85,
   "id": "c807f539",
   "metadata": {},
   "outputs": [
    {
     "data": {
      "text/plain": [
       "dict_values([1, 2, 3, 90])"
      ]
     },
     "execution_count": 85,
     "metadata": {},
     "output_type": "execute_result"
    }
   ],
   "source": [
    "números.values()"
   ]
  },
  {
   "cell_type": "code",
   "execution_count": 86,
   "id": "000502b6",
   "metadata": {},
   "outputs": [
    {
     "data": {
      "text/plain": [
       "dict_keys(['uno', 'dos', 'tres', 'noventa'])"
      ]
     },
     "execution_count": 86,
     "metadata": {},
     "output_type": "execute_result"
    }
   ],
   "source": [
    "números.keys()"
   ]
  },
  {
   "cell_type": "code",
   "execution_count": 94,
   "id": "72b66932",
   "metadata": {},
   "outputs": [
    {
     "data": {
      "text/plain": [
       "dict_items([('uno', 1), ('dos', 2), ('tres', 3), ('noventa', 90)])"
      ]
     },
     "execution_count": 94,
     "metadata": {},
     "output_type": "execute_result"
    }
   ],
   "source": [
    "números.items()"
   ]
  },
  {
   "cell_type": "markdown",
   "id": "c84aa458",
   "metadata": {},
   "source": [
    "También se pueden agregar nuevos elementos al diccionario mediante la indexación:"
   ]
  },
  {
   "cell_type": "code",
   "execution_count": 66,
   "id": "7d76ed78",
   "metadata": {},
   "outputs": [
    {
     "name": "stdout",
     "output_type": "stream",
     "text": [
      "{'uno': 1, 'dos': 2, 'tres': 3, 'noventa': 90}\n"
     ]
    }
   ],
   "source": [
    "# Establecer una nueva clave: \n",
    "números[ 'noventa' ]  =  90 \n",
    "print( números )"
   ]
  },
  {
   "cell_type": "markdown",
   "id": "3172d4cd",
   "metadata": {},
   "source": [
    "Tenga en cuenta que los diccionarios no mantienen ningún orden de los parámetros de entrada; esto es por diseño. Esta falta de orden permite que los diccionarios se implementen de manera muy eficiente, por lo que el acceso a elementos aleatorios es muy rápido, independientemente del tamaño del diccionario (si tiene curiosidad por saber cómo funciona esto, lea sobre el concepto de tabla hash ). La documentación de Python tiene una lista completa de los métodos disponibles para los diccionarios."
   ]
  },
  {
   "cell_type": "markdown",
   "id": "6f2aff81",
   "metadata": {},
   "source": [
    "##### SETS\n",
    "La cuarta colección básica es el conjunto, que contiene colecciones desordenadas de elementos únicos. Se definen de forma muy parecida a las listas y tuplas, excepto que utilizan las llaves de los diccionarios:"
   ]
  },
  {
   "cell_type": "code",
   "execution_count": 70,
   "id": "2c94f272",
   "metadata": {},
   "outputs": [],
   "source": [
    "primos={2,3,5,7}\n",
    "probabilidades  =  { 1 ,  3 ,  5 ,  7 ,  9 }\n"
   ]
  },
  {
   "cell_type": "markdown",
   "id": "02fdc8a3",
   "metadata": {},
   "source": [
    "Si está familiarizado con las matemáticas de conjuntos, estará familiarizado con operaciones como unión, intersección, diferencia, diferencia simétrica y otras. Los conjuntos de Python tienen todas estas operaciones integradas, a través de métodos u operadores. Para cada uno, mostraremos los dos métodos equivalentes:"
   ]
  },
  {
   "cell_type": "code",
   "execution_count": 72,
   "id": "b22460f7",
   "metadata": {},
   "outputs": [
    {
     "data": {
      "text/plain": [
       "{1, 2, 3, 5, 7, 9}"
      ]
     },
     "execution_count": 72,
     "metadata": {},
     "output_type": "execute_result"
    }
   ],
   "source": [
    "# union: elementos que aparecen en \n",
    "primos  |  probabilidades       # con un operador \n",
    "primos.union( probabilidades )  # de forma equivalente a un método"
   ]
  },
  {
   "cell_type": "code",
   "execution_count": 74,
   "id": "f03a89b6",
   "metadata": {},
   "outputs": [
    {
     "data": {
      "text/plain": [
       "6"
      ]
     },
     "execution_count": 74,
     "metadata": {},
     "output_type": "execute_result"
    }
   ],
   "source": [
    "len(primos.union( probabilidades ))"
   ]
  },
  {
   "cell_type": "code",
   "execution_count": 78,
   "id": "06e195ea",
   "metadata": {},
   "outputs": [
    {
     "data": {
      "text/plain": [
       "{3, 5, 7}"
      ]
     },
     "execution_count": 78,
     "metadata": {},
     "output_type": "execute_result"
    }
   ],
   "source": [
    "# interseccion: los puntos que aparecen en los dos \n",
    "primos  &  probabilidades              # con un operador de \n",
    "primos.intersection (probabilidades)  # de manera equivalente con un método"
   ]
  },
  {
   "cell_type": "code",
   "execution_count": 79,
   "id": "eb8a8d81",
   "metadata": {},
   "outputs": [
    {
     "data": {
      "text/plain": [
       "{2}"
      ]
     },
     "execution_count": 79,
     "metadata": {},
     "output_type": "execute_result"
    }
   ],
   "source": [
    "# diferencia: elementos que estan en primos pero no en probabilidades\n",
    "primos -  probabilidades            # con un operador \n",
    "primos.difference( probabilidades )  # de forma equivalente a un método"
   ]
  },
  {
   "cell_type": "code",
   "execution_count": 80,
   "id": "cd9c1632",
   "metadata": {},
   "outputs": [
    {
     "data": {
      "text/plain": [
       "{1, 2, 9}"
      ]
     },
     "execution_count": 80,
     "metadata": {},
     "output_type": "execute_result"
    }
   ],
   "source": [
    "# diferencia simétrica: elementos que aparecen en un solo conjunto \n",
    "primos  ^  probabilidades                      # con un operador \n",
    "primos.symmetric_difference ( probabilidades )  # equivalentemente con un método"
   ]
  },
  {
   "cell_type": "markdown",
   "id": "059b2840",
   "metadata": {},
   "source": [
    "Hay disponibles muchos más métodos y operaciones establecidos. Probablemente ya haya adivinado lo que diré a continuación: consulte la documentación en línea de Python para obtener una referencia completa."
   ]
  },
  {
   "cell_type": "markdown",
   "id": "e3a2b032",
   "metadata": {},
   "source": [
    "##### Estructuras de datos más especializadas\n",
    "\n",
    "Python contiene varias otras estructuras de datos que pueden resultarle útiles; estos generalmente se pueden encontrar en el collectionsmódulo incorporado . El módulo de colecciones está completamente documentado en la documentación en línea de Python , y puede leer más sobre los diversos objetos disponibles allí.\n",
    "\n",
    "En particular, he encontrado lo siguiente muy útil en ocasiones:\n",
    "\n",
    "collections.namedtuple: Como una tupla, pero cada valor tiene un nombre\n",
    "\n",
    "collections.defaultdict: Como un diccionario, pero las claves no especificadas tienen un valor predeterminado especificado por el usuario\n",
    "\n",
    "collections.OrderedDict: Como un diccionario, pero se mantiene el orden de las claves.\n",
    "\n",
    "Una vez que haya visto los tipos de colección incorporados estándar, el uso de estas funcionalidades extendidas es muy intuitivo y le sugiero que lea sobre su uso ."
   ]
  }
 ],
 "metadata": {
  "kernelspec": {
   "display_name": "ambienteML",
   "language": "python",
   "name": "ambienteml"
  },
  "language_info": {
   "codemirror_mode": {
    "name": "ipython",
    "version": 3
   },
   "file_extension": ".py",
   "mimetype": "text/x-python",
   "name": "python",
   "nbconvert_exporter": "python",
   "pygments_lexer": "ipython3",
   "version": "3.9.7"
  }
 },
 "nbformat": 4,
 "nbformat_minor": 5
}
