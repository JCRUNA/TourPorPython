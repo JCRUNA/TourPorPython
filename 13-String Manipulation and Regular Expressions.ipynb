{
 "cells": [
  {
   "cell_type": "markdown",
   "id": "8771ae88",
   "metadata": {},
   "source": [
    "Un lugar donde el lenguaje Python realmente brilla es en la manipulación de cadenas.\n",
    "\n",
    "Esta sección cubrirá algunos de los métodos de cadena incorporados de Python y las operaciones de formato, antes de pasar a una guía rápida sobre el tema extremadamente útil de las expresiones regulares . \n",
    "\n",
    "Tales patrones de manipulación de cadenas surgen a menudo en el contexto del trabajo de ciencia de datos y es una gran ventaja de Python en este contexto.\n",
    "\n",
    "Las cadenas en Python se pueden definir usando comillas simples o dobles (son funcionalmente equivalentes):"
   ]
  },
  {
   "cell_type": "code",
   "execution_count": 2,
   "id": "ae718b9c",
   "metadata": {},
   "outputs": [
    {
     "data": {
      "text/plain": [
       "True"
      ]
     },
     "execution_count": 2,
     "metadata": {},
     "output_type": "execute_result"
    }
   ],
   "source": [
    "x = 'a string'\n",
    "y = \"a string\"\n",
    "x == y"
   ]
  },
  {
   "cell_type": "markdown",
   "id": "9a44997d",
   "metadata": {},
   "source": [
    "Además, es posible definir cadenas de varias líneas utilizando una sintaxis de comillas triples:"
   ]
  },
  {
   "cell_type": "code",
   "execution_count": 4,
   "id": "b780bcbb",
   "metadata": {},
   "outputs": [],
   "source": [
    "multiline = \"\"\"\n",
    "one\n",
    "two\n",
    "three\n",
    "\"\"\"\n"
   ]
  },
  {
   "cell_type": "markdown",
   "id": "1e4b6dc4",
   "metadata": {},
   "source": [
    "Con esto, hagamos un recorrido rápido por algunas de las herramientas de manipulación de cadenas de Python."
   ]
  },
  {
   "cell_type": "markdown",
   "id": "3318a342",
   "metadata": {},
   "source": [
    "#### Manipulación simple de cadenas en Python \n",
    "Para la manipulación básica de cadenas, los métodos de cadena incorporados de Python pueden ser extremadamente convenientes. Si tiene experiencia trabajando en C u otro lenguaje de bajo nivel, probablemente encontrará la simplicidad de los métodos de Python extremadamente refrescante. Introdujimos el tipo de cadena de Python y algunos de estos métodos anteriormente; aquí nos sumergiremos un poco más profundo"
   ]
  },
  {
   "cell_type": "markdown",
   "id": "08a11bea",
   "metadata": {},
   "source": [
    "#### Formateo de cadenas: ajuste de mayúsculas y minúsculas \n",
    "Python hace que sea bastante fácil ajustar el caso de una cadena. Aquí vamos a ver en los upper(), lower(), capitalize(), title(), y swapcase()métodos, utilizando la siguiente secuencia desordenada como un ejemplo:"
   ]
  },
  {
   "cell_type": "code",
   "execution_count": 20,
   "id": "629fa331",
   "metadata": {},
   "outputs": [],
   "source": [
    "desc  = \"juan es buena gente\""
   ]
  },
  {
   "cell_type": "code",
   "execution_count": 21,
   "id": "e9aecddc",
   "metadata": {},
   "outputs": [
    {
     "data": {
      "text/plain": [
       "'JUAN ES BUENA GENTE'"
      ]
     },
     "execution_count": 21,
     "metadata": {},
     "output_type": "execute_result"
    }
   ],
   "source": [
    "desc.upper()"
   ]
  },
  {
   "cell_type": "code",
   "execution_count": 22,
   "id": "082743bd",
   "metadata": {},
   "outputs": [
    {
     "data": {
      "text/plain": [
       "'juan es buena gente'"
      ]
     },
     "execution_count": 22,
     "metadata": {},
     "output_type": "execute_result"
    }
   ],
   "source": [
    "desc.lower()"
   ]
  },
  {
   "cell_type": "code",
   "execution_count": 23,
   "id": "297e5884",
   "metadata": {},
   "outputs": [
    {
     "data": {
      "text/plain": [
       "'Juan es buena gente'"
      ]
     },
     "execution_count": 23,
     "metadata": {},
     "output_type": "execute_result"
    }
   ],
   "source": [
    "desc.capitalize()"
   ]
  },
  {
   "cell_type": "code",
   "execution_count": 24,
   "id": "2983f0d3",
   "metadata": {},
   "outputs": [
    {
     "data": {
      "text/plain": [
       "'Juan Es Buena Gente'"
      ]
     },
     "execution_count": 24,
     "metadata": {},
     "output_type": "execute_result"
    }
   ],
   "source": [
    "desc.title()"
   ]
  },
  {
   "cell_type": "markdown",
   "id": "f04d2880",
   "metadata": {},
   "source": [
    "Los casos se pueden intercambiar utilizando el método swapcase():"
   ]
  },
  {
   "cell_type": "code",
   "execution_count": 25,
   "id": "84aea948",
   "metadata": {},
   "outputs": [
    {
     "data": {
      "text/plain": [
       "'JUAN ES BUENA GENTE'"
      ]
     },
     "execution_count": 25,
     "metadata": {},
     "output_type": "execute_result"
    }
   ],
   "source": [
    "desc.swapcase()"
   ]
  },
  {
   "cell_type": "markdown",
   "id": "7dbf76e4",
   "metadata": {},
   "source": [
    "#### Formatear cadenas: agregar y eliminar espacios \n",
    "Otra necesidad común es eliminar espacios (u otros caracteres) al principio o al final de la cadena. El método básico para eliminar caracteres es el método strip(), que elimina los espacios en blanco del principio y el final de la línea:"
   ]
  },
  {
   "cell_type": "code",
   "execution_count": 33,
   "id": "c917c704",
   "metadata": {},
   "outputs": [
    {
     "data": {
      "text/plain": [
       "' el tio del marido de pampita   '"
      ]
     },
     "execution_count": 33,
     "metadata": {},
     "output_type": "execute_result"
    }
   ],
   "source": [
    "linea=' el tio del marido de pampita   '\n",
    "linea"
   ]
  },
  {
   "cell_type": "code",
   "execution_count": 35,
   "id": "c7a2ca8c",
   "metadata": {},
   "outputs": [
    {
     "data": {
      "text/plain": [
       "'el tio del marido de pampita'"
      ]
     },
     "execution_count": 35,
     "metadata": {},
     "output_type": "execute_result"
    }
   ],
   "source": [
    "linea.strip()\n",
    "\n",
    "#Para eliminar solo el espacio a la derecha o izquierda, use rstrip()o lstrip() respectivamente:"
   ]
  },
  {
   "cell_type": "markdown",
   "id": "f57cf71e",
   "metadata": {},
   "source": [
    "Para eliminar caracteres que no sean espacios, puede pasar el carácter deseado al método strip():"
   ]
  },
  {
   "cell_type": "code",
   "execution_count": 37,
   "id": "b423755c",
   "metadata": {},
   "outputs": [
    {
     "data": {
      "text/plain": [
       "'pajero'"
      ]
     },
     "execution_count": 37,
     "metadata": {},
     "output_type": "execute_result"
    }
   ],
   "source": [
    "ej='pajero'\n",
    "ej"
   ]
  },
  {
   "cell_type": "code",
   "execution_count": 49,
   "id": "efd84a2c",
   "metadata": {},
   "outputs": [
    {
     "data": {
      "text/plain": [
       "'ajero'"
      ]
     },
     "execution_count": 49,
     "metadata": {},
     "output_type": "execute_result"
    }
   ],
   "source": [
    "ej.strip('p')"
   ]
  },
  {
   "cell_type": "markdown",
   "id": "ecc4bb2a",
   "metadata": {},
   "source": [
    "Lo contrario de esta operación, la adición de espacios u otros caracteres, se puede lograr utilizando los métodos center(), ljust()y rjust().\n",
    "\n",
    "Por ejemplo, podemos usar el método center() para centrar una cadena dada dentro de un número determinado de espacios:"
   ]
  },
  {
   "cell_type": "code",
   "execution_count": 50,
   "id": "8417be2b",
   "metadata": {},
   "outputs": [
    {
     "data": {
      "text/plain": [
       "'     this is the content      '"
      ]
     },
     "execution_count": 50,
     "metadata": {},
     "output_type": "execute_result"
    }
   ],
   "source": [
    "line = \"this is the content\"\n",
    "line.center(30)"
   ]
  },
  {
   "cell_type": "markdown",
   "id": "40ed6763",
   "metadata": {},
   "source": [
    "De manera similar, ljust()y rjust() justificará a la izquierda o a la derecha la cadena dentro de los espacios de una longitud determinada:"
   ]
  },
  {
   "cell_type": "code",
   "execution_count": 51,
   "id": "a6940ca9",
   "metadata": {},
   "outputs": [
    {
     "data": {
      "text/plain": [
       "'this is the content           '"
      ]
     },
     "execution_count": 51,
     "metadata": {},
     "output_type": "execute_result"
    }
   ],
   "source": [
    "line.ljust(30)"
   ]
  },
  {
   "cell_type": "markdown",
   "id": "130925c2",
   "metadata": {},
   "source": [
    "Todos estos métodos aceptan adicionalmente cualquier carácter que se utilizará para llenar el espacio. Por ejemplo:"
   ]
  },
  {
   "cell_type": "code",
   "execution_count": 59,
   "id": "3e1bd649",
   "metadata": {},
   "outputs": [
    {
     "data": {
      "text/plain": [
       "'0435'"
      ]
     },
     "execution_count": 59,
     "metadata": {},
     "output_type": "execute_result"
    }
   ],
   "source": [
    "'435'.rjust(4, '0')"
   ]
  },
  {
   "cell_type": "markdown",
   "id": "ed477c78",
   "metadata": {},
   "source": [
    "**Debido a que el llenado de ceros es una necesidad tan común, Python también proporciona zfill(), que es un método especial para rellenar una cadena con ceros a la derecha:**"
   ]
  },
  {
   "cell_type": "code",
   "execution_count": 61,
   "id": "1073cc6b",
   "metadata": {},
   "outputs": [
    {
     "data": {
      "text/plain": [
       "'0000000435'"
      ]
     },
     "execution_count": 61,
     "metadata": {},
     "output_type": "execute_result"
    }
   ],
   "source": [
    "'435'.zfill(10)"
   ]
  },
  {
   "cell_type": "markdown",
   "id": "4b343a98",
   "metadata": {},
   "source": [
    "#### Encontrar y reemplazar subcadenas \n",
    "Si desea encontrar apariciones de un determinado carácter en una cadena, los métodos find()/ rfind(), index()/ rindex()y replace() son los mejores métodos integrados.\n",
    "\n",
    "find() y index() son muy similares, ya que buscan la primera aparición de un carácter o subcadena dentro de una cadena y devuelven el índice de la subcadena:"
   ]
  },
  {
   "cell_type": "code",
   "execution_count": 69,
   "id": "97ee970d",
   "metadata": {},
   "outputs": [
    {
     "data": {
      "text/plain": [
       "5"
      ]
     },
     "execution_count": 69,
     "metadata": {},
     "output_type": "execute_result"
    }
   ],
   "source": [
    "line = 'el 50% de los argentinos son pobres'\n",
    "line.find('%')"
   ]
  },
  {
   "cell_type": "code",
   "execution_count": 70,
   "id": "9b266218",
   "metadata": {},
   "outputs": [
    {
     "data": {
      "text/plain": [
       "5"
      ]
     },
     "execution_count": 70,
     "metadata": {},
     "output_type": "execute_result"
    }
   ],
   "source": [
    "line.index('%')"
   ]
  },
  {
   "cell_type": "markdown",
   "id": "f1965f90",
   "metadata": {},
   "source": [
    "La única diferencia entre find() y index() es su comportamiento cuando no se encuentra la cadena de búsqueda; find() devuelve -1, mientras que index() genera un ValueError:"
   ]
  },
  {
   "cell_type": "code",
   "execution_count": 73,
   "id": "adc57f26",
   "metadata": {},
   "outputs": [
    {
     "data": {
      "text/plain": [
       "-1"
      ]
     },
     "execution_count": 73,
     "metadata": {},
     "output_type": "execute_result"
    }
   ],
   "source": [
    "line.find('w')"
   ]
  },
  {
   "cell_type": "code",
   "execution_count": 74,
   "id": "290bd4c9",
   "metadata": {},
   "outputs": [
    {
     "ename": "ValueError",
     "evalue": "substring not found",
     "output_type": "error",
     "traceback": [
      "\u001b[1;31m---------------------------------------------------------------------------\u001b[0m",
      "\u001b[1;31mValueError\u001b[0m                                Traceback (most recent call last)",
      "\u001b[1;32m~\\AppData\\Local\\Temp/ipykernel_2760/4064409562.py\u001b[0m in \u001b[0;36m<module>\u001b[1;34m\u001b[0m\n\u001b[1;32m----> 1\u001b[1;33m \u001b[0mline\u001b[0m\u001b[1;33m.\u001b[0m\u001b[0mindex\u001b[0m\u001b[1;33m(\u001b[0m\u001b[1;34m'w'\u001b[0m\u001b[1;33m)\u001b[0m\u001b[1;33m\u001b[0m\u001b[1;33m\u001b[0m\u001b[0m\n\u001b[0m",
      "\u001b[1;31mValueError\u001b[0m: substring not found"
     ]
    }
   ],
   "source": [
    "line.index('w')"
   ]
  },
  {
   "cell_type": "markdown",
   "id": "b9971bb1",
   "metadata": {},
   "source": [
    "Los relacionados rfind() y rindex() funcionan de manera similar, excepto que buscan la primera aparición desde el final en lugar del comienzo de la cadena:"
   ]
  },
  {
   "cell_type": "code",
   "execution_count": 79,
   "id": "59cc6a14",
   "metadata": {},
   "outputs": [
    {
     "data": {
      "text/plain": [
       "33"
      ]
     },
     "execution_count": 79,
     "metadata": {},
     "output_type": "execute_result"
    }
   ],
   "source": [
    "line.rfind('e')"
   ]
  },
  {
   "cell_type": "markdown",
   "id": "837fe7c7",
   "metadata": {},
   "source": [
    "Para el caso especial de buscar una subcadena al principio o al final de una cadena, Python proporciona los métodos startswith()y endswith():"
   ]
  },
  {
   "cell_type": "code",
   "execution_count": 83,
   "id": "b272a223",
   "metadata": {},
   "outputs": [
    {
     "data": {
      "text/plain": [
       "True"
      ]
     },
     "execution_count": 83,
     "metadata": {},
     "output_type": "execute_result"
    }
   ],
   "source": [
    "line.startswith('el')"
   ]
  },
  {
   "cell_type": "code",
   "execution_count": 89,
   "id": "cb8568a0",
   "metadata": {},
   "outputs": [
    {
     "data": {
      "text/plain": [
       "True"
      ]
     },
     "execution_count": 89,
     "metadata": {},
     "output_type": "execute_result"
    }
   ],
   "source": [
    "line.endswith('pobres')"
   ]
  },
  {
   "cell_type": "markdown",
   "id": "5fd41bb6",
   "metadata": {},
   "source": [
    "Para ir un paso más allá y reemplazar una subcadena dada con una nueva cadena, puede usar el método replace(). Aquí, reemplacemos 'brown'con 'red':"
   ]
  },
  {
   "cell_type": "code",
   "execution_count": 91,
   "id": "7bad74ad",
   "metadata": {},
   "outputs": [
    {
     "data": {
      "text/plain": [
       "'el 50% de los venezolanos son pobres'"
      ]
     },
     "execution_count": 91,
     "metadata": {},
     "output_type": "execute_result"
    }
   ],
   "source": [
    "line.replace('argentinos','venezolanos')"
   ]
  },
  {
   "cell_type": "markdown",
   "id": "34a4c85b",
   "metadata": {},
   "source": [
    "La función replace() devuelve una nueva cadena y reemplazará todas las apariciones de la entrada:"
   ]
  },
  {
   "cell_type": "code",
   "execution_count": 94,
   "id": "a3b5388b",
   "metadata": {},
   "outputs": [
    {
     "data": {
      "text/plain": [
       "'el 50% de l--s argentin--s s--n p--bres'"
      ]
     },
     "execution_count": 94,
     "metadata": {},
     "output_type": "execute_result"
    }
   ],
   "source": [
    "line.replace('o', '--')"
   ]
  },
  {
   "cell_type": "markdown",
   "id": "776bc0c2",
   "metadata": {},
   "source": [
    "Para obtener un enfoque más flexible de esta replace()funcionalidad, consulte la discusión sobre expresiones regulares en Coincidencia de patrones flexibles con expresiones regulares ."
   ]
  },
  {
   "cell_type": "markdown",
   "id": "260487c2",
   "metadata": {},
   "source": [
    "#### Dividir y particionar cadenas \n",
    "Si desea encontrar una subcadena y luego dividir la cadena según su ubicación, los métodos partition() y / o split() son lo que está buscando. Ambos devolverán una secuencia de subcadenas.\n",
    "\n",
    "\n",
    "El método partition() devuelve una tupla con tres elementos: la subcadena antes de la primera instancia del punto de división, el punto de división en sí y la subcadena después:"
   ]
  },
  {
   "cell_type": "code",
   "execution_count": 96,
   "id": "1408c4cb",
   "metadata": {},
   "outputs": [
    {
     "data": {
      "text/plain": [
       "('el 50% de los ', 'argentinos', ' son pobres')"
      ]
     },
     "execution_count": 96,
     "metadata": {},
     "output_type": "execute_result"
    }
   ],
   "source": [
    "line.partition('argentinos')"
   ]
  },
  {
   "cell_type": "markdown",
   "id": "801ce3bd",
   "metadata": {},
   "source": [
    "El método split() es quizás más útil; encuentra todas las instancias del punto de división y devuelve las subcadenas intermedias.\n",
    "El valor predeterminado es dividir en cualquier espacio en blanco, devolviendo una lista de las palabras individuales en una cadena:"
   ]
  },
  {
   "cell_type": "code",
   "execution_count": 103,
   "id": "ddd9f9d4",
   "metadata": {},
   "outputs": [
    {
     "data": {
      "text/plain": [
       "['el', '50%', 'de', 'los', 'argentinos', 'son', 'pobres']"
      ]
     },
     "execution_count": 103,
     "metadata": {},
     "output_type": "execute_result"
    }
   ],
   "source": [
    "line.split()"
   ]
  },
  {
   "cell_type": "code",
   "execution_count": 104,
   "id": "b1462955",
   "metadata": {},
   "outputs": [
    {
     "data": {
      "text/plain": [
       "'pobres'"
      ]
     },
     "execution_count": 104,
     "metadata": {},
     "output_type": "execute_result"
    }
   ],
   "source": [
    "#si quiero acceder al ultimo elemento de la lista despues de aplicar spplit\n",
    "line.split()[-1]"
   ]
  },
  {
   "cell_type": "code",
   "execution_count": 97,
   "id": "7b8f349c",
   "metadata": {},
   "outputs": [
    {
     "data": {
      "text/plain": [
       "['el 50% de los ', ' son pobres']"
      ]
     },
     "execution_count": 97,
     "metadata": {},
     "output_type": "execute_result"
    }
   ],
   "source": [
    "line.split('argentinos')"
   ]
  },
  {
   "cell_type": "markdown",
   "id": "3bf0b5b5",
   "metadata": {},
   "source": [
    "Un método relacionado es el splitlines() que se divide en caracteres de nueva línea. Hagamos esto con un Haiku, atribuido popularmente al poeta del siglo XVII Matsuo Bashō:"
   ]
  },
  {
   "cell_type": "code",
   "execution_count": 107,
   "id": "5e69b951",
   "metadata": {},
   "outputs": [
    {
     "data": {
      "text/plain": [
       "['matsushima-ya', 'aah matsushima-ya', 'matsushima-ya']"
      ]
     },
     "execution_count": 107,
     "metadata": {},
     "output_type": "execute_result"
    }
   ],
   "source": [
    "haiku = \"\"\"matsushima-ya\n",
    "aah matsushima-ya\n",
    "matsushima-ya\"\"\"\n",
    "\n",
    "haiku.splitlines()"
   ]
  },
  {
   "cell_type": "markdown",
   "id": "22dbf50e",
   "metadata": {},
   "source": [
    "Tenga en cuenta que si desea deshacer un split(), puede usar el método join(), que devuelve una cadena construida a partir de un punto de división y un iterable:"
   ]
  },
  {
   "cell_type": "code",
   "execution_count": 108,
   "id": "d19efd14",
   "metadata": {},
   "outputs": [
    {
     "data": {
      "text/plain": [
       "'1--2--3'"
      ]
     },
     "execution_count": 108,
     "metadata": {},
     "output_type": "execute_result"
    }
   ],
   "source": [
    "'--'.join(['1', '2', '3'])"
   ]
  },
  {
   "cell_type": "code",
   "execution_count": 112,
   "id": "fe9a117f",
   "metadata": {},
   "outputs": [
    {
     "data": {
      "text/plain": [
       "'1&2&5'"
      ]
     },
     "execution_count": 112,
     "metadata": {},
     "output_type": "execute_result"
    }
   ],
   "source": [
    "'&'.join(('1','2','5'))"
   ]
  },
  {
   "cell_type": "markdown",
   "id": "9558fee0",
   "metadata": {},
   "source": [
    "Un patrón común es usar el carácter especial \"\\n\"(nueva línea) para unir líneas que se han dividido previamente y recuperar la entrada:"
   ]
  },
  {
   "cell_type": "code",
   "execution_count": 116,
   "id": "7c4a1e0b",
   "metadata": {},
   "outputs": [
    {
     "name": "stdout",
     "output_type": "stream",
     "text": [
      "matsushima-ya\n",
      "aah matsushima-ya\n",
      "matsushima-ya\n"
     ]
    }
   ],
   "source": [
    "print(\"\\n\".join(['matsushima-ya', 'aah matsushima-ya', 'matsushima-ya']))\n"
   ]
  },
  {
   "cell_type": "markdown",
   "id": "508c2c67",
   "metadata": {},
   "source": [
    "### Formatear cadenas \n",
    "En los métodos anteriores, hemos aprendido a extraer valores de cadenas y a manipular las propias cadenas en los formatos deseados. Otro uso de los métodos de cadena es manipular representaciones de cadena de valores de otros tipos. Por supuesto, las representaciones de cadenas siempre se pueden encontrar usando la función str()función; por ejemplo:"
   ]
  },
  {
   "cell_type": "code",
   "execution_count": 118,
   "id": "bbf2318d",
   "metadata": {},
   "outputs": [
    {
     "data": {
      "text/plain": [
       "'3.14159'"
      ]
     },
     "execution_count": 118,
     "metadata": {},
     "output_type": "execute_result"
    }
   ],
   "source": [
    "pi=3.14159\n",
    "str(pi)"
   ]
  },
  {
   "cell_type": "markdown",
   "id": "dcc946ae",
   "metadata": {},
   "source": [
    "Para formatos más complicados, puede tener la tentación de usar aritmética de cadenas como se describe en Semántica básica de Python: Operadores :"
   ]
  },
  {
   "cell_type": "code",
   "execution_count": 120,
   "id": "33268d4a",
   "metadata": {},
   "outputs": [
    {
     "data": {
      "text/plain": [
       "'The value of pi is 3.14159'"
      ]
     },
     "execution_count": 120,
     "metadata": {},
     "output_type": "execute_result"
    }
   ],
   "source": [
    "\"The value of pi is \" + str(pi)"
   ]
  },
  {
   "cell_type": "markdown",
   "id": "597d7bb4",
   "metadata": {},
   "source": [
    "**Una forma más flexible de hacer esto es usar cadenas de formato , que son cadenas con marcadores especiales (señalados por llaves) en los que se insertarán valores con formato de cadena.**\n",
    "\n",
    "A continuación, se muestra un ejemplo básico:"
   ]
  },
  {
   "cell_type": "code",
   "execution_count": 123,
   "id": "cd09cea5",
   "metadata": {},
   "outputs": [
    {
     "name": "stdout",
     "output_type": "stream",
     "text": [
      "The value of pi is 3.14159\n"
     ]
    }
   ],
   "source": [
    "print('The value of pi is {}'.format(pi))"
   ]
  },
  {
   "cell_type": "markdown",
   "id": "4bd7ce7f",
   "metadata": {},
   "source": [
    "Dentro del marcador {} también puede incluir información sobre exactamente lo que le gustaría que aparezca allí. Si incluye un número, se referirá al índice del argumento a insertar:"
   ]
  },
  {
   "cell_type": "code",
   "execution_count": 125,
   "id": "6c6c9073",
   "metadata": {},
   "outputs": [
    {
     "data": {
      "text/plain": [
       "'First letter: A. Last letter: Z.'"
      ]
     },
     "execution_count": 125,
     "metadata": {},
     "output_type": "execute_result"
    }
   ],
   "source": [
    "\"\"\"First letter: {0}. Last letter: {1}.\"\"\".format('A', 'Z')"
   ]
  },
  {
   "cell_type": "markdown",
   "id": "90508fa4",
   "metadata": {},
   "source": [
    "Si incluye una cadena, se referirá a la clave de cualquier argumento de palabra clave:"
   ]
  },
  {
   "cell_type": "code",
   "execution_count": 127,
   "id": "f97b9d39",
   "metadata": {},
   "outputs": [
    {
     "data": {
      "text/plain": [
       "'First letter: A. Last letter: Z.'"
      ]
     },
     "execution_count": 127,
     "metadata": {},
     "output_type": "execute_result"
    }
   ],
   "source": [
    "\"\"\"First letter: {first}. Last letter: {last}.\"\"\".format(last='Z', first='A')"
   ]
  },
  {
   "cell_type": "markdown",
   "id": "74f59fa0",
   "metadata": {},
   "source": [
    "Finalmente, para las entradas numéricas, puede incluir códigos de formato que controlan cómo se convierte el valor en una cadena. Por ejemplo, para imprimir un número como un punto flotante con tres dígitos después del punto decimal, puede usar lo siguiente:"
   ]
  },
  {
   "cell_type": "code",
   "execution_count": 131,
   "id": "e7e61210",
   "metadata": {},
   "outputs": [
    {
     "data": {
      "text/plain": [
       "'pi = 3.142'"
      ]
     },
     "execution_count": 131,
     "metadata": {},
     "output_type": "execute_result"
    }
   ],
   "source": [
    "\"pi = {0:.3f}\".format(pi)"
   ]
  },
  {
   "cell_type": "markdown",
   "id": "bbb40a5f",
   "metadata": {},
   "source": [
    "Como antes, aquí el \" 0\" se refiere al índice del valor que se va a insertar. Las \" :\" marcas que seguirán los códigos de formato. El \" .3f\" codifica la precisión deseada: tres dígitos más allá del punto decimal, formato de punto flotante.\n",
    "\n",
    "Este estilo de especificación de formato es muy flexible, y los ejemplos aquí apenas raspan la superficie de las opciones de formato disponibles. Para obtener más información sobre la sintaxis de estas cadenas de formato, consulte la sección Especificación de formato de la documentación en línea de Python."
   ]
  },
  {
   "cell_type": "markdown",
   "id": "56644aff",
   "metadata": {},
   "source": [
    "## Coincidencia de patrones flexibles con expresiones regulares\n",
    "\n",
    "Los métodos del tipo str de Python le brindan un poderoso conjunto de herramientas para formatear, dividir y manipular datos de cadena. \n",
    "\n",
    "Pero hay herramientas aún más poderosas disponibles en el módulo de expresión regular incorporado de Python . Las expresiones regulares son un tema enorme; Hay libros completos escritos sobre el tema (incluido Mastering Regular Expressions, de Jeffrey EF Friedl , tercera edición ), por lo que será difícil hacer justicia en una sola subsección.\n",
    "\n",
    "Mi objetivo aquí es darte una idea de los tipos de problemas que podrían abordarse usando expresiones regulares, así como una idea básica de cómo usarlos en Python. Sugeriré algunas referencias para aprender más en Recursos adicionales sobre expresiones regulares .\n",
    "\n",
    "Básicamente, las expresiones regulares son un medio de coincidencia de patrones flexible en cadenas. Si utiliza con frecuencia la línea de comandos, probablemente esté familiarizado con este tipo de coincidencia flexible con el carácter \" * \", que actúa como comodín. Por ejemplo, podemos listar todos los cuadernos de IPython (es decir, archivos con extensión .ipynb ) con \"Python\" en su nombre de archivo usando el * comodín para hacer coincidir cualquier carácter entre:"
   ]
  },
  {
   "cell_type": "code",
   "execution_count": 136,
   "id": "68ea1589",
   "metadata": {},
   "outputs": [
    {
     "name": "stderr",
     "output_type": "stream",
     "text": [
      "'ls' is not recognized as an internal or external command,\n",
      "operable program or batch file.\n"
     ]
    }
   ],
   "source": [
    "!ls *Python*.ipynb"
   ]
  },
  {
   "cell_type": "markdown",
   "id": "dc1ab773",
   "metadata": {},
   "source": [
    "Las expresiones regulares generalizan esta idea de \"comodín\" a una amplia gama de sintaxis flexibles de coincidencia de cadenas. \n",
    "La interfaz de Python para expresiones regulares está contenida en el remódulo incorporado ; como un ejemplo simple, usémoslo para duplicar la funcionalidad del split()método de cadena :"
   ]
  },
  {
   "cell_type": "code",
   "execution_count": 137,
   "id": "db772d52",
   "metadata": {},
   "outputs": [
    {
     "data": {
      "text/plain": [
       "['el', '50%', 'de', 'los', 'argentinos', 'son', 'pobres']"
      ]
     },
     "execution_count": 137,
     "metadata": {},
     "output_type": "execute_result"
    }
   ],
   "source": [
    "import re\n",
    "regex = re.compile('\\s+')\n",
    "regex.split(line)"
   ]
  },
  {
   "cell_type": "markdown",
   "id": "57dc8c2e",
   "metadata": {},
   "source": [
    "Aquí primero compilamos una expresión regular y luego la usamos para dividir una cadena. Así como el método split() de Python devuelve una lista de todas las subcadenas entre espacios en blanco, el método split() de expresión regular devuelve una lista de todas las subcadenas entre coincidencias con el patrón de entrada.\n",
    "\n",
    "En este caso, la entrada es \"\\s+\": \" \\s\" es un carácter especial que coincide con cualquier espacio en blanco (espacio, tabulación, nueva línea, etc.), y \" +\" es un carácter que indica una o más de las entidades que lo preceden. Por tanto, la expresión regular coincide con cualquier subcadena que consta de uno o más espacios.\n",
    "\n",
    "El método split() aquí es básicamente una rutina de conveniencia construida sobre este comportamiento de coincidencia de patrones ; más fundamental es el método match(), que le dirá si el comienzo de una cadena coincide con el patrón:"
   ]
  },
  {
   "cell_type": "code",
   "execution_count": 141,
   "id": "d6a7e504",
   "metadata": {},
   "outputs": [
    {
     "name": "stdout",
     "output_type": "stream",
     "text": [
      "'     ' matches\n",
      "'abc  ' does not match\n",
      "'  abc' matches\n"
     ]
    }
   ],
   "source": [
    "for s in [\"     \", \"abc  \", \"  abc\"]:\n",
    "    if regex.match(s):\n",
    "        print(repr(s), \"matches\")\n",
    "    else:\n",
    "        print(repr(s), \"does not match\")"
   ]
  },
  {
   "cell_type": "markdown",
   "id": "8276d337",
   "metadata": {},
   "source": [
    "Me gusta split(), existen rutinas de conveniencia similares para encontrar la primera coincidencia (me gusta str.index()o str.find()) o para buscar y reemplazar (me gusta str.replace()). Usaremos nuevamente la línea de antes:"
   ]
  },
  {
   "cell_type": "code",
   "execution_count": 142,
   "id": "3fe3011c",
   "metadata": {},
   "outputs": [],
   "source": [
    "line = 'el 50% de los argentinos son pobres'"
   ]
  },
  {
   "cell_type": "markdown",
   "id": "80ec7dd7",
   "metadata": {},
   "source": [
    "Con esto, podemos ver que el método regex.search() método funciona de manera muy similar a str.index()o str.find():"
   ]
  },
  {
   "cell_type": "code",
   "execution_count": 143,
   "id": "ed92aa4c",
   "metadata": {},
   "outputs": [
    {
     "data": {
      "text/plain": [
       "29"
      ]
     },
     "execution_count": 143,
     "metadata": {},
     "output_type": "execute_result"
    }
   ],
   "source": [
    "line.index('pobres')"
   ]
  },
  {
   "cell_type": "code",
   "execution_count": 144,
   "id": "1ec0528a",
   "metadata": {},
   "outputs": [
    {
     "data": {
      "text/plain": [
       "29"
      ]
     },
     "execution_count": 144,
     "metadata": {},
     "output_type": "execute_result"
    }
   ],
   "source": [
    "regex = re.compile('pobres')\n",
    "match = regex.search(line)\n",
    "match.start()"
   ]
  },
  {
   "cell_type": "markdown",
   "id": "62c15756",
   "metadata": {},
   "source": [
    "De manera similar, el método regex.sub() funciona de manera muy similar a str.replace():"
   ]
  },
  {
   "cell_type": "code",
   "execution_count": 149,
   "id": "482797c5",
   "metadata": {},
   "outputs": [
    {
     "data": {
      "text/plain": [
       "'el 50% de los venezolanos son pobres'"
      ]
     },
     "execution_count": 149,
     "metadata": {},
     "output_type": "execute_result"
    }
   ],
   "source": [
    "line.replace('argentinos', 'venezolanos')"
   ]
  },
  {
   "cell_type": "code",
   "execution_count": 150,
   "id": "40fca9fb",
   "metadata": {},
   "outputs": [
    {
     "data": {
      "text/plain": [
       "'el 50% de los argentinos son argentinos'"
      ]
     },
     "execution_count": 150,
     "metadata": {},
     "output_type": "execute_result"
    }
   ],
   "source": [
    "regex.sub('argentinos',line)"
   ]
  },
  {
   "cell_type": "markdown",
   "id": "de9f18da",
   "metadata": {},
   "source": [
    "Con un poco de pensamiento, otras operaciones de cadenas nativas también se pueden convertir como expresiones regulares."
   ]
  },
  {
   "cell_type": "markdown",
   "id": "49699aba",
   "metadata": {},
   "source": [
    "#### Un ejemplo más sofisticado \n",
    "Pero, podría preguntarse, ¿por qué querría usar la sintaxis más complicada y detallada de las expresiones regulares en lugar de los métodos de cadena más intuitivos y simples? La ventaja es que las expresiones regulares ofrecen mucha más flexibilidad.\n",
    "\n",
    "Aquí consideraremos un ejemplo más complicado: la tarea común de hacer coincidir direcciones de correo electrónico. Comenzaré simplemente escribiendo una expresión regular (algo indescifrable) y luego repasaré lo que está sucediendo. Aquí va:"
   ]
  },
  {
   "cell_type": "code",
   "execution_count": 154,
   "id": "d9dc8f3b",
   "metadata": {},
   "outputs": [],
   "source": [
    "email = re.compile('\\w+@\\w+\\.[a-z]{3}')"
   ]
  },
  {
   "cell_type": "code",
   "execution_count": null,
   "id": "e512762c",
   "metadata": {},
   "outputs": [],
   "source": [
    "Con esto, si nos dan una línea de un documento, podemos extraer rápidamente cosas que parecen direcciones de correo electrónico."
   ]
  },
  {
   "cell_type": "code",
   "execution_count": 155,
   "id": "35b66d8d",
   "metadata": {},
   "outputs": [
    {
     "data": {
      "text/plain": [
       "['guido@python.org', 'guido@google.com']"
      ]
     },
     "execution_count": 155,
     "metadata": {},
     "output_type": "execute_result"
    }
   ],
   "source": [
    "text = \"To email Guido, try guido@python.org or the older address guido@google.com.\"\n",
    "email.findall(text)"
   ]
  },
  {
   "cell_type": "markdown",
   "id": "eb80ea68",
   "metadata": {},
   "source": [
    "(Tenga en cuenta que estas direcciones están completamente inventadas; probablemente haya mejores formas de ponerse en contacto con Guido).\n",
    "\n",
    "Podemos hacer más operaciones, como reemplazar estas direcciones de correo electrónico con otra cadena, quizás para ocultar direcciones en la salida:"
   ]
  },
  {
   "cell_type": "code",
   "execution_count": 157,
   "id": "aa0719bd",
   "metadata": {},
   "outputs": [
    {
     "data": {
      "text/plain": [
       "'To email Guido, try --@--.-- or the older address --@--.--.'"
      ]
     },
     "execution_count": 157,
     "metadata": {},
     "output_type": "execute_result"
    }
   ],
   "source": [
    "email.sub('--@--.--', text)"
   ]
  },
  {
   "cell_type": "markdown",
   "id": "70dcd2e0",
   "metadata": {},
   "source": [
    "Por último, tenga en cuenta que si realmente desea hacer coincidir cualquier dirección de correo electrónico, la expresión regular anterior es demasiado simple. Por ejemplo, solo permite direcciones compuestas por caracteres alfanuméricos que terminan en uno de varios sufijos de dominio comunes. Entonces, por ejemplo, el período usado aquí significa que solo encontramos parte de la dirección:"
   ]
  },
  {
   "cell_type": "code",
   "execution_count": 159,
   "id": "7fec52ed",
   "metadata": {},
   "outputs": [
    {
     "data": {
      "text/plain": [
       "['obama@whitehouse.gov']"
      ]
     },
     "execution_count": 159,
     "metadata": {},
     "output_type": "execute_result"
    }
   ],
   "source": [
    "email.findall('barack.obama@whitehouse.gov')"
   ]
  },
  {
   "cell_type": "markdown",
   "id": "cdb33a01",
   "metadata": {},
   "source": [
    "¡Esto demuestra lo implacables que pueden ser las expresiones regulares si no tienes cuidado! Si busca en línea, puede encontrar algunas sugerencias de expresiones regulares que coincidirán con todos los correos electrónicos válidos, pero tenga cuidado: ¡son mucho más complicadas que la expresión simple que se usa aquí!"
   ]
  },
  {
   "cell_type": "markdown",
   "id": "e1030db6",
   "metadata": {},
   "source": [
    "#### Conceptos básicos de la sintaxis de expresiones regulares \n",
    "\n",
    "La sintaxis de las expresiones regulares es un tema demasiado extenso para esta breve sección. Aún así, un poco de familiaridad puede ser de gran ayuda: analizaré algunas de las construcciones básicas aquí y luego enumeraré algunos recursos más completos de los que puede aprender más. Espero que el siguiente manual rápido le permita utilizar estos recursos de forma eficaz."
   ]
  },
  {
   "cell_type": "markdown",
   "id": "da352030",
   "metadata": {},
   "source": [
    "#### Las cadenas simples se combinan directamente \n",
    "Si crea una expresión regular en una cadena simple de caracteres o dígitos, coincidirá con esa cadena exacta:"
   ]
  },
  {
   "cell_type": "code",
   "execution_count": 166,
   "id": "0fa1d9d3",
   "metadata": {},
   "outputs": [
    {
     "data": {
      "text/plain": [
       "['ion']"
      ]
     },
     "execution_count": 166,
     "metadata": {},
     "output_type": "execute_result"
    }
   ],
   "source": [
    "regex = re.compile('ion')\n",
    "regex.findall('Great Expectations')"
   ]
  },
  {
   "cell_type": "markdown",
   "id": "ecba90f4",
   "metadata": {},
   "source": [
    "#### Algunos caracteres tienen significados especiales \n",
    "Si bien las letras o los números simples son coincidencias directas, hay un puñado de caracteres que tienen significados especiales dentro de las expresiones regulares. Son:\n",
    "\n",
    "'  . ^ $ * + ? { } [ ] \\ | ( )\n",
    "   '"
   ]
  },
  {
   "cell_type": "markdown",
   "id": "95a323ec",
   "metadata": {},
   "source": [
    "Discutiremos el significado de algunos de estos momentáneamente. Mientras tanto, debe saber que si desea hacer coincidir alguno de estos caracteres directamente, puede escapar de ellos con una barra invertida:"
   ]
  },
  {
   "cell_type": "code",
   "execution_count": 171,
   "id": "cdc8fb45",
   "metadata": {},
   "outputs": [
    {
     "data": {
      "text/plain": [
       "['$']"
      ]
     },
     "execution_count": 171,
     "metadata": {},
     "output_type": "execute_result"
    }
   ],
   "source": [
    "regex = re.compile(r'\\$')\n",
    "regex.findall(\"the cost is $20\")"
   ]
  },
  {
   "cell_type": "markdown",
   "id": "afe59252",
   "metadata": {},
   "source": [
    "El prefacio en r'\\$'indica una cadena sin procesar ; en cadenas estándar de Python, la barra invertida se usa para indicar caracteres especiales. Por ejemplo, una pestaña se indica mediante \"\\t\""
   ]
  },
  {
   "cell_type": "code",
   "execution_count": 173,
   "id": "dfe89286",
   "metadata": {},
   "outputs": [
    {
     "name": "stdout",
     "output_type": "stream",
     "text": [
      "a\tb\tc\n"
     ]
    }
   ],
   "source": [
    "print('a\\tb\\tc')"
   ]
  },
  {
   "cell_type": "code",
   "execution_count": null,
   "id": "0311f0a8",
   "metadata": {},
   "outputs": [],
   "source": [
    "Tales sustituciones no se realizan en una cadena sin formato:"
   ]
  },
  {
   "cell_type": "code",
   "execution_count": 174,
   "id": "5fa5e747",
   "metadata": {},
   "outputs": [
    {
     "name": "stdout",
     "output_type": "stream",
     "text": [
      "a\\tb\\tc\n"
     ]
    }
   ],
   "source": [
    "print(r'a\\tb\\tc')"
   ]
  },
  {
   "cell_type": "markdown",
   "id": "b2f50493",
   "metadata": {},
   "source": [
    "**Por esta razón, siempre que use barras invertidas en una expresión regular, es una buena práctica usar una cadena sin formato.**"
   ]
  },
  {
   "cell_type": "markdown",
   "id": "d4cff9df",
   "metadata": {},
   "source": [
    "#### Los caracteres especiales pueden coincidir con grupos de caracteres \n",
    "Así como el \"\\\"carácter dentro de las expresiones regulares puede escapar de los caracteres especiales, convirtiéndolos en caracteres normales, también se puede usar para dar un significado especial a los caracteres normales. Estos caracteres especiales coinciden con grupos específicos de caracteres, y los hemos visto antes.\n",
    "\n",
    "En la expresión regular de la dirección de correo electrónico de antes, usamos el carácter \"\\w\", que es un marcador especial que coincide con cualquier carácter alfanumérico . De manera similar, en el ejemplo split() , también vimos \"\\s\"un marcador especial que indica cualquier carácter de espacio en blanco .\n",
    "\n",
    "Al juntarlos, podemos crear una expresión regular que coincidirá con dos letras / dígitos con espacios en blanco entre ellos :"
   ]
  },
  {
   "cell_type": "code",
   "execution_count": 185,
   "id": "312e46e5",
   "metadata": {},
   "outputs": [
    {
     "data": {
      "text/plain": [
       "['e f', 'x i', 's 9', 's o']"
      ]
     },
     "execution_count": 185,
     "metadata": {},
     "output_type": "execute_result"
    }
   ],
   "source": [
    "regex = re.compile(r'\\w\\s\\w')\n",
    "regex.findall('the fox is 9 years old')"
   ]
  },
  {
   "cell_type": "markdown",
   "id": "8370ff53",
   "metadata": {},
   "source": [
    "Este ejemplo comienza a insinuar el poder y la flexibilidad de las expresiones regulares."
   ]
  },
  {
   "attachments": {
    "Caracteres%20Regex.PNG": {
     "image/png": "[encoded data removed]"
    }
   },
   "cell_type": "markdown",
   "id": "ed2ec183",
   "metadata": {},
   "source": [
    "![Caracteres%20Regex.PNG](attachment:Caracteres%20Regex.PNG)"
   ]
  },
  {
   "cell_type": "markdown",
   "id": "fd49dd0b",
   "metadata": {},
   "source": [
    "#### Los corchetes coinciden con grupos de caracteres personalizados \n",
    "Si los grupos de caracteres integrados no son lo suficientemente específicos para usted, puede usar corchetes para especificar cualquier conjunto de caracteres que le interese. Por ejemplo, lo siguiente coincidirá con cualquier vocal en minúscula:"
   ]
  },
  {
   "cell_type": "code",
   "execution_count": 187,
   "id": "b077fbbf",
   "metadata": {},
   "outputs": [
    {
     "data": {
      "text/plain": [
       "['c', 'ns', 'q', '', 'nt', '', 'l']"
      ]
     },
     "execution_count": 187,
     "metadata": {},
     "output_type": "execute_result"
    }
   ],
   "source": [
    "regex = re.compile('[aeiou]')\n",
    "regex.split('consequential')"
   ]
  },
  {
   "cell_type": "markdown",
   "id": "c8b2c71b",
   "metadata": {},
   "source": [
    "Del mismo modo, se puede utilizar un guión para especificar un rango: por ejemplo, \"[a-z]\"coincidirá con cualquier letra minúscula, y \"[1-3]\"coincidirá con cualquiera de \"1\", \"2\"o \"3\". \n",
    "\n",
    "Por ejemplo, es posible que deba extraer de un documento códigos numéricos específicos que consisten en una letra mayúscula seguida de un dígito. Puede hacer esto de la siguiente manera:"
   ]
  },
  {
   "cell_type": "code",
   "execution_count": 189,
   "id": "b0f096b3",
   "metadata": {},
   "outputs": [
    {
     "data": {
      "text/plain": [
       "['G2', 'H6']"
      ]
     },
     "execution_count": 189,
     "metadata": {},
     "output_type": "execute_result"
    }
   ],
   "source": [
    "regex = re.compile('[A-Z][0-9]')\n",
    "regex.findall('1043879, G2, H6')"
   ]
  },
  {
   "cell_type": "markdown",
   "id": "da0368c8",
   "metadata": {},
   "source": [
    "Los comodines coinciden con caracteres repetidos \n",
    "Si desea hacer coincidir una cadena con, digamos, tres caracteres alfanuméricos seguidos, es posible escribir, por ejemplo \"\\w\\w\\w\",. Debido a que esta es una necesidad tan común, existe una sintaxis específica para hacer coincidir las repeticiones: llaves con un número:"
   ]
  },
  {
   "cell_type": "code",
   "execution_count": 192,
   "id": "d18cd5c5",
   "metadata": {},
   "outputs": [
    {
     "data": {
      "text/plain": [
       "['The', 'qui', 'bro', 'fox']"
      ]
     },
     "execution_count": 192,
     "metadata": {},
     "output_type": "execute_result"
    }
   ],
   "source": [
    "regex = re.compile(r'\\w{3}')\n",
    "regex.findall('The quick brown fox')"
   ]
  },
  {
   "cell_type": "markdown",
   "id": "48addd52",
   "metadata": {},
   "source": [
    "También hay marcadores disponibles para coincidir con cualquier número de repeticiones; por ejemplo, el caracter \"+\" coincidirá con una o más repeticiones de lo que le precede:"
   ]
  },
  {
   "cell_type": "code",
   "execution_count": 196,
   "id": "7dfcdd91",
   "metadata": {},
   "outputs": [
    {
     "data": {
      "text/plain": [
       "['The', 'quick', 'brown', 'fox']"
      ]
     },
     "execution_count": 196,
     "metadata": {},
     "output_type": "execute_result"
    }
   ],
   "source": [
    "regex = re.compile(r'\\w+')\n",
    "regex.findall('The quick brown fox')"
   ]
  },
  {
   "cell_type": "markdown",
   "id": "d5725515",
   "metadata": {},
   "source": [
    "La siguiente es una tabla de los marcadores de repetición disponibles para usar en expresiones regulares:"
   ]
  },
  {
   "attachments": {
    "regex%20expresions-2.PNG": {
     "image/png": "[encoded data removed]"
    }
   },
   "cell_type": "markdown",
   "id": "b37e458e",
   "metadata": {},
   "source": [
    "![regex%20expresions-2.PNG](attachment:regex%20expresions-2.PNG)"
   ]
  },
  {
   "cell_type": "markdown",
   "id": "ffa6b803",
   "metadata": {},
   "source": [
    "Con estos conceptos básicos en mente, volvamos a nuestro comparador de direcciones de correo electrónico:"
   ]
  },
  {
   "cell_type": "code",
   "execution_count": 201,
   "id": "5c7d4746",
   "metadata": {},
   "outputs": [],
   "source": [
    "email = re.compile(r'\\w+@\\w+\\.[a-z]{3}')"
   ]
  },
  {
   "cell_type": "markdown",
   "id": "17bc4609",
   "metadata": {},
   "source": [
    "Ahora podemos entender lo que esto significa: queremos uno o más caracteres alfanuméricos ( \"\\w+\") seguidos del signo arroba ( \"@\"), seguidos de uno o más caracteres alfanuméricos ( \"\\w+\"), seguidos de un punto ( \"\\.\"- tenga en cuenta la necesidad de un escape de barra invertida), seguido de exactamente tres letras minúsculas.\n",
    "\n",
    "Si queremos modificar esto ahora para que coincida con la dirección de correo electrónico de Obama, podemos hacerlo usando la notación de corchetes:"
   ]
  },
  {
   "cell_type": "code",
   "execution_count": 202,
   "id": "00396147",
   "metadata": {},
   "outputs": [
    {
     "data": {
      "text/plain": [
       "['barack.obama@whitehouse.gov']"
      ]
     },
     "execution_count": 202,
     "metadata": {},
     "output_type": "execute_result"
    }
   ],
   "source": [
    "email2 = re.compile(r'[\\w.]+@\\w+\\.[a-z]{3}')\n",
    "email2.findall('barack.obama@whitehouse.gov')"
   ]
  },
  {
   "cell_type": "markdown",
   "id": "53e91e0b",
   "metadata": {},
   "source": [
    "Hemos cambiado \"\\w+\"a \"[\\w.]+\", por lo que coincidiremos con cualquier carácter alfanumérico o un punto. Con esta expresión más flexible, podemos hacer coincidir una gama más amplia de direcciones de correo electrónico (aunque todavía no todas, ¿puede identificar otras deficiencias de esta expresión?)."
   ]
  },
  {
   "cell_type": "markdown",
   "id": "5462f9d8",
   "metadata": {},
   "source": [
    "#### Los paréntesis indican grupos para extraer \n",
    "Para expresiones regulares compuestas como nuestro comparador de correo electrónico, a menudo queremos extraer sus componentes en lugar de la coincidencia completa. Esto se puede hacer usando paréntesis para agrupar los resultados:"
   ]
  },
  {
   "cell_type": "code",
   "execution_count": 206,
   "id": "4d7cbde5",
   "metadata": {},
   "outputs": [],
   "source": [
    "email3 = re.compile(r'([\\w.]+)@(\\w+)\\.([a-z]{3})')"
   ]
  },
  {
   "cell_type": "code",
   "execution_count": 207,
   "id": "3ef7acf6",
   "metadata": {},
   "outputs": [
    {
     "data": {
      "text/plain": [
       "[('guido', 'python', 'org'), ('guido', 'google', 'com')]"
      ]
     },
     "execution_count": 207,
     "metadata": {},
     "output_type": "execute_result"
    }
   ],
   "source": [
    "text = \"To email Guido, try guido@python.org or the older address guido@google.com.\"\n",
    "email3.findall(text)"
   ]
  },
  {
   "cell_type": "markdown",
   "id": "0ea99cde",
   "metadata": {},
   "source": [
    "Como vemos, esta agrupación en realidad extrae una lista de los subcomponentes de la dirección de correo electrónico.\n",
    "\n",
    "Podemos ir un poco más allá y nombrar los componentes extraídos usando la sintaxis (?P <names>),  en cuyo caso los grupos se pueden extraer como un diccionario de Python:"
   ]
  },
  {
   "cell_type": "code",
   "execution_count": 208,
   "id": "0d1225cf",
   "metadata": {},
   "outputs": [
    {
     "data": {
      "text/plain": [
       "{'user': 'guido', 'domain': 'python', 'suffix': 'org'}"
      ]
     },
     "execution_count": 208,
     "metadata": {},
     "output_type": "execute_result"
    }
   ],
   "source": [
    "email4 = re.compile(r'(?P<user>[\\w.]+)@(?P<domain>\\w+)\\.(?P<suffix>[a-z]{3})')\n",
    "match = email4.match('guido@python.org')\n",
    "match.groupdict()"
   ]
  },
  {
   "cell_type": "markdown",
   "id": "12233ed3",
   "metadata": {},
   "source": [
    "La combinación de estas ideas (así como algunas de las poderosas sintaxis de expresiones regulares que no hemos cubierto aquí) le permite extraer información de forma flexible y rápida de cadenas en Python."
   ]
  },
  {
   "cell_type": "markdown",
   "id": "c9df82f0",
   "metadata": {},
   "source": [
    "#### Recursos adicionales sobre expresiones regulares \n",
    "La discusión anterior es solo un tratamiento rápido (y lejos de ser completo) de este gran tema. Si desea obtener más información, le recomiendo los siguientes recursos:\n",
    "    \n",
    "   **Python's re package Documentation**: Encuentro que rápidamente olvido cómo usar expresiones regulares cada vez que las uso. Ahora que tengo los conceptos básicos, he descubierto que esta página es un recurso increíblemente valioso para recordar lo que significa cada carácter o secuencia específicos dentro de una expresión regular.\n",
    "    \n",
    "**Python's official regular expression HOWTO** : un enfoque más narrativo de las expresiones regulares en Python. https://docs.python.org/3/howto/regex.html\n",
    "\n",
    "**Dominar las expresiones regulares (OReilly, 2006)**: es un libro de más de 500 páginas sobre el tema. Si quieres un tratamiento realmente completo de este tema, este es el recurso para ti.\n",
    "\n",
    "Para ver algunos ejemplos de manipulación de cadenas y expresiones regulares en acción a mayor escala, consulte Pandas: datos orientados a columnas etiquetadas , donde analizamos la aplicación de este tipo de expresiones en tablas de datos de cadenas dentro del paquete Pandas. https://jakevdp.github.io/WhirlwindTourOfPython/15-preview-of-data-science-tools.html#Pandas:-Labeled-Column-oriented-Data"
   ]
  },
  {
   "cell_type": "code",
   "execution_count": null,
   "id": "208fee28",
   "metadata": {},
   "outputs": [],
   "source": []
  },
  {
   "cell_type": "code",
   "execution_count": null,
   "id": "7a74040c",
   "metadata": {},
   "outputs": [],
   "source": []
  },
  {
   "cell_type": "code",
   "execution_count": null,
   "id": "ec731506",
   "metadata": {},
   "outputs": [],
   "source": []
  },
  {
   "cell_type": "code",
   "execution_count": null,
   "id": "b8aa9ef3",
   "metadata": {},
   "outputs": [],
   "source": []
  },
  {
   "cell_type": "code",
   "execution_count": null,
   "id": "485c861d",
   "metadata": {},
   "outputs": [],
   "source": []
  },
  {
   "cell_type": "code",
   "execution_count": null,
   "id": "92e35a25",
   "metadata": {},
   "outputs": [],
   "source": []
  },
  {
   "cell_type": "code",
   "execution_count": null,
   "id": "ead541bd",
   "metadata": {},
   "outputs": [],
   "source": []
  },
  {
   "cell_type": "code",
   "execution_count": null,
   "id": "6d900370",
   "metadata": {},
   "outputs": [],
   "source": []
  }
 ],
 "metadata": {
  "kernelspec": {
   "display_name": "ambienteML",
   "language": "python",
   "name": "ambienteml"
  },
  "language_info": {
   "codemirror_mode": {
    "name": "ipython",
    "version": 3
   },
   "file_extension": ".py",
   "mimetype": "text/x-python",
   "name": "python",
   "nbconvert_exporter": "python",
   "pygments_lexer": "ipython3",
   "version": "3.9.7"
  }
 },
 "nbformat": 4,
 "nbformat_minor": 5
}
