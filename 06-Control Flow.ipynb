{
 "cells": [
  {
   "cell_type": "markdown",
   "id": "f7197a24",
   "metadata": {},
   "source": [
    "El flujo de control es donde el caucho realmente se encuentra con el camino en la programación. Sin él, un programa es simplemente una lista de declaraciones que se ejecutan secuencialmente. Con el flujo de control, puede ejecutar ciertos bloques de código de forma condicional y / o repetida: ¡estos bloques de construcción básicos se pueden combinar para crear programas sorprendentemente sofisticados!\n",
    "\n",
    "Aquí cubriremos declaraciones condicionales (incluidas \" if\", \" elif\" y \" else\"), declaraciones de bucle (incluidas \" for\" y \" while\" y las \" break\", \" continue\" y \" pass\" que las acompañan )."
   ]
  },
  {
   "cell_type": "markdown",
   "id": "2a0e0685",
   "metadata": {},
   "source": [
    "##### Declaraciones condicionales: if- elif- else: \n",
    "Las declaraciones condicionales, a menudo denominadas declaraciones if-then , permiten al programador ejecutar ciertos fragmentos de código dependiendo de alguna condición booleana. Un ejemplo básico de una declaración condicional de Python es este:"
   ]
  },
  {
   "cell_type": "code",
   "execution_count": 1,
   "id": "1c9424a3",
   "metadata": {},
   "outputs": [
    {
     "name": "stdout",
     "output_type": "stream",
     "text": [
      "-15 es negativo\n"
     ]
    }
   ],
   "source": [
    "x  =  -15\n",
    "\n",
    "if  x  ==  0 : \n",
    "    print ( x ,  \"es cero\" ) \n",
    "elif  x  >  0 : \n",
    "    print ( x ,  \"es positivo\" ) \n",
    "elif  x  <  0 : \n",
    "    print ( x ,  \"es negativo\" ) \n",
    "else : \n",
    "    print ( x ,  \" no se parece a nada que haya visto en mi vida ... \" )"
   ]
  },
  {
   "cell_type": "markdown",
   "id": "94b9ecb0",
   "metadata": {},
   "source": [
    "Tenga en cuenta especialmente el uso de dos puntos ( :) y espacios en blanco para indicar bloques de código separados.\n",
    "\n",
    "Python adopta if y else se usa con frecuencia en otros lenguajes; su palabra clave más exclusiva es elif que es una contracción de \"else if\". En estas cláusulas condicionales, los bloques elif y else son opcionales; Además, opcionalmente puede incluir tan pocas o tantas elif declaraciones como desee."
   ]
  },
  {
   "cell_type": "markdown",
   "id": "e0f54d5d",
   "metadata": {},
   "source": [
    "#### BUCLES FOR\n",
    "Los bucles en Python son una forma de ejecutar repetidamente alguna declaración de código. Entonces, por ejemplo, si quisiéramos imprimir cada uno de los elementos en una lista, podemos usar un forciclo:"
   ]
  },
  {
   "cell_type": "code",
   "execution_count": 2,
   "id": "3ce1ec66",
   "metadata": {},
   "outputs": [
    {
     "name": "stdout",
     "output_type": "stream",
     "text": [
      "1\n",
      "2\n",
      "4\n",
      "7\n"
     ]
    }
   ],
   "source": [
    "L=[1,2,4,7]\n",
    "for num in L:\n",
    "    print(num)"
   ]
  },
  {
   "cell_type": "code",
   "execution_count": 3,
   "id": "453db637",
   "metadata": {},
   "outputs": [
    {
     "name": "stdout",
     "output_type": "stream",
     "text": [
      "2357"
     ]
    }
   ],
   "source": [
    "for  N  in  [ 2 ,  3 ,  5 ,  7 ]: \n",
    "    print ( N ,  end = '' )"
   ]
  },
  {
   "cell_type": "markdown",
   "id": "1ecff82d",
   "metadata": {},
   "source": [
    "Observe la simplicidad del ciclo: especificamos la variable que queremos usar, la secuencia sobre la que queremos hacer el ciclo, y usamos el operador in para vincularlos juntos de una manera intuitiva y legible. \n",
    "\n",
    "Más precisamente, el objeto a la derecha de in puede ser cualquier iterador de Python . Se puede pensar en un iterador como una secuencia generalizada, y los discutiremos en Iteradores ."
   ]
  },
  {
   "cell_type": "markdown",
   "id": "b1a8865c",
   "metadata": {},
   "source": [
    "Por ejemplo, uno de los iteradores más utilizados en Python es el rangeobjeto, que genera una secuencia de números:"
   ]
  },
  {
   "cell_type": "code",
   "execution_count": 4,
   "id": "9dae8793",
   "metadata": {},
   "outputs": [
    {
     "name": "stdout",
     "output_type": "stream",
     "text": [
      "0123456789"
     ]
    }
   ],
   "source": [
    "for i in range(10):\n",
    "    print(i,end='')"
   ]
  },
  {
   "cell_type": "markdown",
   "id": "53c28480",
   "metadata": {},
   "source": [
    "Tenga en cuenta que el rango comienza en cero de forma predeterminada y que, por convención, la parte superior del rango no se incluye en la salida. Los objetos de rango también pueden tener valores más complicados:"
   ]
  },
  {
   "cell_type": "code",
   "execution_count": 5,
   "id": "4817dfbd",
   "metadata": {},
   "outputs": [
    {
     "data": {
      "text/plain": [
       "[5, 6, 7, 8, 9]"
      ]
     },
     "execution_count": 5,
     "metadata": {},
     "output_type": "execute_result"
    }
   ],
   "source": [
    "#rango  de 5 a 10\n",
    "list(range(5,10))"
   ]
  },
  {
   "cell_type": "code",
   "execution_count": 6,
   "id": "736e02e0",
   "metadata": {},
   "outputs": [
    {
     "data": {
      "text/plain": [
       "[0, 2, 4, 6, 8]"
      ]
     },
     "execution_count": 6,
     "metadata": {},
     "output_type": "execute_result"
    }
   ],
   "source": [
    "# range from 0 to 10 by 2\n",
    "list(range(0, 10, 2))"
   ]
  },
  {
   "cell_type": "markdown",
   "id": "4e481989",
   "metadata": {},
   "source": [
    "Puede notar que el significado de los range argumentos es muy similar a la sintaxis de corte que cubrimos en Listas .\n",
    "\n",
    "***Tenga en cuenta que el comportamiento de range()es una de las diferencias entre Python 2 y Python 3: en Python 2, range()produce una lista, mientras que en Python 3, range() produce un objeto iterable.***"
   ]
  },
  {
   "cell_type": "markdown",
   "id": "03c523a2",
   "metadata": {},
   "source": [
    "#### BUCLES WHILE\n",
    "\n",
    "El otro tipo de bucle en Python es un whilebucle, que se repite hasta que se cumple alguna condición:"
   ]
  },
  {
   "cell_type": "code",
   "execution_count": 7,
   "id": "efa603ea",
   "metadata": {},
   "outputs": [
    {
     "name": "stdout",
     "output_type": "stream",
     "text": [
      "2\n",
      "3\n",
      "0\n",
      "1\n",
      "6\n",
      "7\n",
      "4\n",
      "5\n",
      "10\n",
      "11\n"
     ]
    }
   ],
   "source": [
    "i=0\n",
    "while i<10:\n",
    "    b=i^2\n",
    "    i=i+1\n",
    "    print(b)"
   ]
  },
  {
   "cell_type": "markdown",
   "id": "de712e1f",
   "metadata": {},
   "source": [
    "El argumento del bucle while se evalúa como una declaración booleana y el bucle se ejecuta hasta que la declaración se evalúa como False."
   ]
  },
  {
   "cell_type": "markdown",
   "id": "4d4ada08",
   "metadata": {},
   "source": [
    "#### BREAK Y CONTINUE: AJUSTES DEL BUCLE\n",
    "Hay dos declaraciones útiles que se pueden usar dentro de los bucles para ajustar cómo se ejecutan:\n",
    "\n",
    "La declaración break se sale del bucle por completo\n",
    "\n",
    "La declaración continue omite el resto del ciclo actual y pasa a la siguiente iteración.\n",
    "\n",
    "Estos se pueden utilizar tanto en bucles for como en while.\n",
    "\n",
    "A continuación, se muestra un ejemplo de cómo se usa continuepara imprimir una cadena de números impares. En este caso, el resultado podría lograrse igualmente bien con una if-elsedeclaración, pero a veces la continuedeclaración puede ser una forma más conveniente de expresar la idea que tiene en mente:"
   ]
  },
  {
   "cell_type": "code",
   "execution_count": 14,
   "id": "935c8a15",
   "metadata": {},
   "outputs": [
    {
     "name": "stdout",
     "output_type": "stream",
     "text": [
      "1 3 5 7 9 11 13 15 17 19 "
     ]
    }
   ],
   "source": [
    "for i in range(20):\n",
    "    if i%2==0: # si el resto de n / 2 es 0, omita el resto del ciclo\n",
    "        continue\n",
    "    print(i,end=' ')"
   ]
  },
  {
   "cell_type": "markdown",
   "id": "49e95b6a",
   "metadata": {},
   "source": [
    "A continuación se muestra un ejemplo de una breakdeclaración utilizada para una tarea menos trivial. Este ciclo llenará una lista con todos los números de Fibonacci hasta un cierto valor"
   ]
  },
  {
   "cell_type": "code",
   "execution_count": 16,
   "id": "ef72c730",
   "metadata": {},
   "outputs": [
    {
     "name": "stdout",
     "output_type": "stream",
     "text": [
      "[1, 1, 2, 3, 5, 8, 13, 21, 34, 55, 89]\n"
     ]
    }
   ],
   "source": [
    "a, b = 0, 1\n",
    "amax = 100\n",
    "L = []\n",
    "\n",
    "while True:\n",
    "    (a, b) = (b, a + b)\n",
    "    if a > amax:\n",
    "        break\n",
    "    L.append(a)\n",
    "\n",
    "print(L)"
   ]
  },
  {
   "cell_type": "markdown",
   "id": "e26b73f5",
   "metadata": {},
   "source": [
    "Tenga en cuenta que usamos un while True bucle, que se repetirá para siempre a menos que tengamos una declaración de interrupción."
   ]
  },
  {
   "cell_type": "markdown",
   "id": "f8f2064b",
   "metadata": {},
   "source": [
    "### Bucles con un bloque else\n",
    "Un patrón que se usa raramente disponible en Python es la elsedeclaración como parte de un ciclo for while. Hablamos del elsebloque anteriormente: se ejecuta si todas las declaraciones if y elif  se evalúan como False. El bucle else es quizás una de las declaraciones con nombres más confusos en Python; Prefiero pensar en ello como una no break declaración: es decir, el else bloque se ejecuta solo si el bucle termina de forma natural, sin encontrar una declaración break.\n",
    "\n",
    "Como ejemplo de dónde esto podría ser útil, considere la siguiente implementación (no optimizada) del Tamiz de Eratóstenes , un algoritmo bien conocido para encontrar números primos:"
   ]
  },
  {
   "cell_type": "code",
   "execution_count": 19,
   "id": "eb5106f6",
   "metadata": {},
   "outputs": [
    {
     "name": "stdout",
     "output_type": "stream",
     "text": [
      "[2, 3, 5, 7, 11, 13, 17, 19, 23, 29]\n"
     ]
    }
   ],
   "source": [
    "L = []\n",
    "nmax = 30\n",
    "\n",
    "for n in range(2, nmax):\n",
    "    for factor in L:\n",
    "        if n % factor == 0:\n",
    "            break\n",
    "    else: # no break\n",
    "        L.append(n)\n",
    "print(L)"
   ]
  },
  {
   "cell_type": "markdown",
   "id": "ae60176c",
   "metadata": {},
   "source": [
    "La declaración else solo se ejecuta si ninguno de los factores divide el número dado. La elsedeclaración funciona de manera similar con el whilebucle."
   ]
  },
  {
   "cell_type": "code",
   "execution_count": null,
   "id": "f5ad8ff7",
   "metadata": {},
   "outputs": [],
   "source": []
  },
  {
   "cell_type": "code",
   "execution_count": null,
   "id": "df04add2",
   "metadata": {},
   "outputs": [],
   "source": []
  },
  {
   "cell_type": "code",
   "execution_count": null,
   "id": "7453b077",
   "metadata": {},
   "outputs": [],
   "source": []
  },
  {
   "cell_type": "code",
   "execution_count": null,
   "id": "97b86615",
   "metadata": {},
   "outputs": [],
   "source": []
  },
  {
   "cell_type": "code",
   "execution_count": null,
   "id": "1ef425b9",
   "metadata": {},
   "outputs": [],
   "source": []
  },
  {
   "cell_type": "code",
   "execution_count": null,
   "id": "8297381d",
   "metadata": {},
   "outputs": [],
   "source": []
  },
  {
   "cell_type": "code",
   "execution_count": null,
   "id": "c604368d",
   "metadata": {},
   "outputs": [],
   "source": []
  },
  {
   "cell_type": "code",
   "execution_count": null,
   "id": "c716884f",
   "metadata": {},
   "outputs": [],
   "source": []
  }
 ],
 "metadata": {
  "kernelspec": {
   "display_name": "ambienteML",
   "language": "python",
   "name": "ambienteml"
  },
  "language_info": {
   "codemirror_mode": {
    "name": "ipython",
    "version": 3
   },
   "file_extension": ".py",
   "mimetype": "text/x-python",
   "name": "python",
   "nbconvert_exporter": "python",
   "pygments_lexer": "ipython3",
   "version": "3.9.7"
  }
 },
 "nbformat": 4,
 "nbformat_minor": 5
}
