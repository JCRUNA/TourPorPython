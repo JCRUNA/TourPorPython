{
 "cells": [
  {
   "cell_type": "markdown",
   "id": "86b35f7b",
   "metadata": {},
   "source": [
    "Si lee suficiente código Python, eventualmente se encontrará con la construcción concisa y eficiente conocida como comprensión de lista . Esta es una característica de Python de la que espero que se enamore si no la ha usado antes; se parece a esto:"
   ]
  },
  {
   "cell_type": "code",
   "execution_count": 1,
   "id": "7aa546ef",
   "metadata": {},
   "outputs": [
    {
     "data": {
      "text/plain": [
       "[1, 2, 4, 5, 7, 8, 10, 11, 13, 14, 16, 17, 19]"
      ]
     },
     "execution_count": 1,
     "metadata": {},
     "output_type": "execute_result"
    }
   ],
   "source": [
    "[i for i in range(20) if i % 3 > 0]"
   ]
  },
  {
   "cell_type": "markdown",
   "id": "1c31f038",
   "metadata": {},
   "source": [
    "El resultado de esto es una lista de números que excluye múltiplos de 3. Si bien este ejemplo puede parecer un poco confuso al principio, a medida que aumenta la familiaridad con Python, la comprensión de la lista de lectura y escritura se convertirá en una segunda naturaleza."
   ]
  },
  {
   "cell_type": "markdown",
   "id": "1a293bbe",
   "metadata": {},
   "source": [
    "#### Comprensiones de  Listas básicas \n",
    "***Las listas por comprensión son simplemente una forma de comprimir un bucle for de construcción de listas en una sola línea corta y legible.***\n",
    "\n",
    "Por ejemplo, aquí hay un ciclo que construye una lista de los primeros 12 números enteros cuadrados:"
   ]
  },
  {
   "cell_type": "code",
   "execution_count": 5,
   "id": "67aaa799",
   "metadata": {},
   "outputs": [
    {
     "data": {
      "text/plain": [
       "[0, 1, 4, 9, 16, 25, 36, 49, 64, 81, 100, 121]"
      ]
     },
     "execution_count": 5,
     "metadata": {},
     "output_type": "execute_result"
    }
   ],
   "source": [
    "L = []\n",
    "for n in range(12):\n",
    "    L.append(n ** 2)\n",
    "L"
   ]
  },
  {
   "cell_type": "markdown",
   "id": "211feeda",
   "metadata": {},
   "source": [
    "el equivalente en lista de comprension es:"
   ]
  },
  {
   "cell_type": "code",
   "execution_count": 6,
   "id": "188becbd",
   "metadata": {},
   "outputs": [
    {
     "data": {
      "text/plain": [
       "[0, 1, 4, 9, 16, 25, 36, 49, 64, 81, 100, 121]"
      ]
     },
     "execution_count": 6,
     "metadata": {},
     "output_type": "execute_result"
    }
   ],
   "source": [
    "[n**2 for n in range(12)]"
   ]
  },
  {
   "cell_type": "markdown",
   "id": "79b2c6de",
   "metadata": {},
   "source": [
    "Al igual que con muchas declaraciones de Python, casi puede leer el significado de esta declaración en un lenguaje sencillo: \"construya una lista que consista en el cuadrado de n para cada n hasta 12\".\n",
    "\n",
    "Esta sintaxis básica, entonces, es **[expr for var in iterable]** , donde **expr** es cualquier expresión válida, **var** es un nombre de variable y **iterable** es cualquier objeto de Python iterable."
   ]
  },
  {
   "cell_type": "code",
   "execution_count": null,
   "id": "e9420282",
   "metadata": {},
   "outputs": [],
   "source": []
  },
  {
   "cell_type": "markdown",
   "id": "b711126e",
   "metadata": {},
   "source": [
    "#### Iteración múltiple \n",
    "A veces, desea crear una lista no solo a partir de un valor, sino a partir de dos. Para hacer esto, simplemente agregue otra expresión  for en la comprensión:"
   ]
  },
  {
   "cell_type": "code",
   "execution_count": 10,
   "id": "1255f92c",
   "metadata": {},
   "outputs": [
    {
     "data": {
      "text/plain": [
       "[(0, 0), (0, 1), (0, 2), (1, 0), (1, 1), (1, 2)]"
      ]
     },
     "execution_count": 10,
     "metadata": {},
     "output_type": "execute_result"
    }
   ],
   "source": [
    "[(i, j) for i in range(2) for j in range(3)]"
   ]
  },
  {
   "cell_type": "markdown",
   "id": "2cf78b5a",
   "metadata": {},
   "source": [
    "Observe que la segunda expresión for actúa como índice interior, variando más rápido en la lista resultante.\n",
    "\n",
    "Este tipo de construcción se puede extender a tres, cuatro o más iteradores dentro de la comprensión, ¡aunque en algún momento la legibilidad del código se verá afectada!"
   ]
  },
  {
   "cell_type": "markdown",
   "id": "b077eb12",
   "metadata": {},
   "source": [
    "#### Condicionales en el iterador \n",
    "Puede controlar aún más la iteración agregando un condicional al final de la expresión. En el primer ejemplo de la sección, iteramos sobre todos los números del 1 al 20, pero omitimos los múltiplos de 3. Mire esto nuevamente y observe la construcción:"
   ]
  },
  {
   "cell_type": "code",
   "execution_count": 14,
   "id": "2d7eeb79",
   "metadata": {},
   "outputs": [
    {
     "data": {
      "text/plain": [
       "[1, 2, 4, 5, 7, 8, 10, 11, 13, 14, 16, 17, 19]"
      ]
     },
     "execution_count": 14,
     "metadata": {},
     "output_type": "execute_result"
    }
   ],
   "source": [
    "[val for val in range(20) if val % 3 > 0]"
   ]
  },
  {
   "cell_type": "markdown",
   "id": "a968e02f",
   "metadata": {},
   "source": [
    "La expresión  (i % 3 > 0) se evalúa como True a menos que val sea divisible por 3. \n",
    "\n",
    "Nuevamente, el significado del idioma inglés se puede leer inmediatamente: \"Construya una lista de valores para cada valor hasta 20, pero solo si el valor no es divisible por 3\". Una vez que se sienta cómodo con él, es mucho más fácil de escribir, y de entender de un vistazo, que la sintaxis de bucle equivalente:"
   ]
  },
  {
   "cell_type": "code",
   "execution_count": 15,
   "id": "2233dd44",
   "metadata": {},
   "outputs": [
    {
     "data": {
      "text/plain": [
       "[1, 2, 4, 5, 7, 8, 10, 11, 13, 14, 16, 17, 19]"
      ]
     },
     "execution_count": 15,
     "metadata": {},
     "output_type": "execute_result"
    }
   ],
   "source": [
    "L = []\n",
    "for val in range(20):\n",
    "    if val % 3:\n",
    "        L.append(val)\n",
    "L"
   ]
  },
  {
   "cell_type": "markdown",
   "id": "263bb8d7",
   "metadata": {},
   "source": [
    "Si ha programado en C, es posible que esté familiarizado con el condicional de línea única habilitado por el operador ?:"
   ]
  },
  {
   "cell_type": "code",
   "execution_count": null,
   "id": "0f3f1ff3",
   "metadata": {},
   "outputs": [],
   "source": [
    "int absval = (val < 0) ? -val : val"
   ]
  },
  {
   "cell_type": "markdown",
   "id": "c2afc12f",
   "metadata": {},
   "source": [
    "Python tiene algo muy similar a esto, que se usa con mayor frecuencia dentro de listas por comprensión, funciones lambda y otros lugares donde se desea una expresión simple:"
   ]
  },
  {
   "cell_type": "code",
   "execution_count": 18,
   "id": "44cc2e76",
   "metadata": {},
   "outputs": [
    {
     "data": {
      "text/plain": [
       "10"
      ]
     },
     "execution_count": 18,
     "metadata": {},
     "output_type": "execute_result"
    }
   ],
   "source": [
    "val = -10\n",
    "val if val >= 0 else -val"
   ]
  },
  {
   "cell_type": "markdown",
   "id": "e4fe4666",
   "metadata": {},
   "source": [
    "Vemos que esto simplemente duplica la funcionalidad de la función incorporada abs(), pero la construcción le permite hacer algunas cosas realmente interesantes dentro de las listas por comprensión.\n",
    "\n",
    "Esto se está volviendo bastante complicado ahora, pero podrías hacer algo como esto:"
   ]
  },
  {
   "cell_type": "code",
   "execution_count": 32,
   "id": "49ebe43f",
   "metadata": {},
   "outputs": [
    {
     "data": {
      "text/plain": [
       "[1, -2, -4, 5, 7, -8, -10, 11, 13, -14, -16, 17, 19]"
      ]
     },
     "execution_count": 32,
     "metadata": {},
     "output_type": "execute_result"
    }
   ],
   "source": [
    "[val if (val % 2)!=0 else -val\n",
    " for val in range(20) if (val % 3)!=0]"
   ]
  },
  {
   "cell_type": "markdown",
   "id": "a57045e3",
   "metadata": {},
   "source": [
    "Tenga en cuenta el salto de línea dentro de la comprensión de la lista antes de la expresión for: \n",
    "esto es válido en Python y, a menudo, es una buena manera de dividir las comprensiones de listas largas para una mayor legibilidad.\n",
    "\n",
    "Mire esto: lo que estamos haciendo es construir una lista, omitiendo múltiplos de 3 y negando todos los múltiplos de 2."
   ]
  },
  {
   "cell_type": "markdown",
   "id": "e68f33f0",
   "metadata": {},
   "source": [
    "Una vez que comprenda la dinámica de las comprensiones de listas, es sencillo pasar a otros tipos de comprensiones. La sintaxis es básicamente la misma; la única diferencia es el tipo de soporte que utiliza.\n",
    "\n",
    "Por ejemplo, con llaves puedes crear un set con una comprensión establecida :"
   ]
  },
  {
   "cell_type": "code",
   "execution_count": 24,
   "id": "8dc98773",
   "metadata": {},
   "outputs": [
    {
     "data": {
      "text/plain": [
       "{0, 1, 4, 9, 16, 25, 36, 49, 64, 81, 100, 121}"
      ]
     },
     "execution_count": 24,
     "metadata": {},
     "output_type": "execute_result"
    }
   ],
   "source": [
    "{n**2 for n in range(12)}"
   ]
  },
  {
   "cell_type": "markdown",
   "id": "7056fe8a",
   "metadata": {},
   "source": [
    "Recuerde que a set es una colección que no contiene duplicados. La comprensión del conjunto respeta esta regla y elimina cualquier entrada duplicada:"
   ]
  },
  {
   "cell_type": "code",
   "execution_count": 25,
   "id": "c37175f7",
   "metadata": {},
   "outputs": [
    {
     "data": {
      "text/plain": [
       "{0, 1, 2}"
      ]
     },
     "execution_count": 25,
     "metadata": {},
     "output_type": "execute_result"
    }
   ],
   "source": [
    "{a % 3 for a in range(1000)}"
   ]
  },
  {
   "cell_type": "markdown",
   "id": "b6f790ad",
   "metadata": {},
   "source": [
    "Con un ligero ajuste, puede agregar dos puntos ( :) para crear un dict comprensivo :"
   ]
  },
  {
   "cell_type": "code",
   "execution_count": 29,
   "id": "8206649a",
   "metadata": {},
   "outputs": [
    {
     "data": {
      "text/plain": [
       "{0: 0, 1: 1, 2: 4, 3: 9, 4: 16, 5: 25}"
      ]
     },
     "execution_count": 29,
     "metadata": {},
     "output_type": "execute_result"
    }
   ],
   "source": [
    "{n:n**2 for n in range(6)}"
   ]
  },
  {
   "cell_type": "markdown",
   "id": "7a9d7ee5",
   "metadata": {},
   "source": [
    "Finalmente, si usa paréntesis en lugar de corchetes, obtiene lo que se llama una expresión generadora :"
   ]
  },
  {
   "cell_type": "code",
   "execution_count": 30,
   "id": "3a44dffb",
   "metadata": {},
   "outputs": [
    {
     "data": {
      "text/plain": [
       "<generator object <genexpr> at 0x000001D437C8DA50>"
      ]
     },
     "execution_count": 30,
     "metadata": {},
     "output_type": "execute_result"
    }
   ],
   "source": [
    "(n**2 for n in range(12))"
   ]
  },
  {
   "cell_type": "markdown",
   "id": "43619a62",
   "metadata": {},
   "source": [
    "**Una expresión generadora es esencialmente una lista de comprensión en la que los elementos se generan según sea necesario en lugar de todos a la vez, y la simplicidad aquí contradice el poder de esta característica del lenguaje: exploraremos esto más a continuación.**"
   ]
  }
 ],
 "metadata": {
  "kernelspec": {
   "display_name": "ambienteML",
   "language": "python",
   "name": "ambienteml"
  },
  "language_info": {
   "codemirror_mode": {
    "name": "ipython",
    "version": 3
   },
   "file_extension": ".py",
   "mimetype": "text/x-python",
   "name": "python",
   "nbconvert_exporter": "python",
   "pygments_lexer": "ipython3",
   "version": "3.9.7"
  }
 },
 "nbformat": 4,
 "nbformat_minor": 5
}
