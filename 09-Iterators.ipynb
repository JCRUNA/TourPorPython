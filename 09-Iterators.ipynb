{
 "cells": [
  {
   "cell_type": "markdown",
   "id": "8ea70ede",
   "metadata": {},
   "source": [
    "A menudo, una parte importante del análisis de datos es repetir un cálculo similar, una y otra vez, de forma automatizada. Por ejemplo, puede tener una tabla de nombres que le gustaría dividir en nombre y apellido , o quizás de fechas que le gustaría convertir a algún formato estándar. Una de las respuestas de Python a esto es la sintaxis del iterador . Ya hemos visto esto con el iterador range:"
   ]
  },
  {
   "cell_type": "code",
   "execution_count": 4,
   "id": "5b28a25f",
   "metadata": {},
   "outputs": [
    {
     "name": "stdout",
     "output_type": "stream",
     "text": [
      "0 1 2 3 4 5 6 7 8 9 "
     ]
    }
   ],
   "source": [
    "for i in range(10):\n",
    "    print(i, end=' ')"
   ]
  },
  {
   "cell_type": "markdown",
   "id": "a9171153",
   "metadata": {},
   "source": [
    "**Aquí vamos a profundizar un poco más. Resulta que en Python 3, range no es una lista, sino algo llamado iterador , y aprender cómo funciona es clave para comprender una amplia clase de funcionalidades de Python muy útiles.**"
   ]
  },
  {
   "cell_type": "markdown",
   "id": "39a640b1",
   "metadata": {},
   "source": [
    "##### Iterando sobre listas \n",
    "Los iteradores quizás se entiendan más fácilmente en el caso concreto de iterar a través de una lista. Considera lo siguiente:"
   ]
  },
  {
   "cell_type": "code",
   "execution_count": 8,
   "id": "d6c24eee",
   "metadata": {},
   "outputs": [
    {
     "name": "stdout",
     "output_type": "stream",
     "text": [
      "3 5 7 9 11 "
     ]
    }
   ],
   "source": [
    "for value in [2, 4, 6, 8, 10]:\n",
    "    # do some operation\n",
    "    print(value + 1, end=' ')"
   ]
  },
  {
   "cell_type": "markdown",
   "id": "6380b40d",
   "metadata": {},
   "source": [
    "La sintaxis familiar for x in y nos permite repetir alguna operación para cada valor de la lista.\n",
    "\n",
    "El hecho de que la sintaxis del código esté tan cerca de su descripción en inglés (\" para [cada] valor en [la] lista \") es solo una de las opciones sintácticas que hacen de Python un lenguaje tan intuitivo para aprender y usar.\n",
    "\n",
    "Pero el comportamiento nominal no es lo que realmente está sucediendo. Cuando escribe algo como \" for val in L\", el intérprete de Python comprueba si tiene una interfaz de iterador , que puede comprobar usted mismo con la función incorporada iter:"
   ]
  },
  {
   "cell_type": "code",
   "execution_count": 9,
   "id": "26df41a7",
   "metadata": {},
   "outputs": [
    {
     "data": {
      "text/plain": [
       "<list_iterator at 0x16c4e118040>"
      ]
     },
     "execution_count": 9,
     "metadata": {},
     "output_type": "execute_result"
    }
   ],
   "source": [
    "iter([2,4,6,8,10])"
   ]
  },
  {
   "cell_type": "markdown",
   "id": "10dd0bd5",
   "metadata": {},
   "source": [
    "Es este objeto iterador el que proporciona la funcionalidad requerida por el bucle for. El objeto iter es un contenedor que le da acceso al siguiente objeto mientras sea válido, que se puede ver con la función incorporada next:"
   ]
  },
  {
   "cell_type": "code",
   "execution_count": 22,
   "id": "c27a5799",
   "metadata": {},
   "outputs": [],
   "source": [
    "I = iter([2, 4, 6, ])"
   ]
  },
  {
   "cell_type": "code",
   "execution_count": 23,
   "id": "bbd217bb",
   "metadata": {},
   "outputs": [
    {
     "data": {
      "text/plain": [
       "<list_iterator at 0x16c4e118220>"
      ]
     },
     "execution_count": 23,
     "metadata": {},
     "output_type": "execute_result"
    }
   ],
   "source": [
    "I"
   ]
  },
  {
   "cell_type": "code",
   "execution_count": 24,
   "id": "918bf69a",
   "metadata": {},
   "outputs": [
    {
     "name": "stdout",
     "output_type": "stream",
     "text": [
      "2\n"
     ]
    }
   ],
   "source": [
    "print(next(I))"
   ]
  },
  {
   "cell_type": "code",
   "execution_count": 25,
   "id": "41741566",
   "metadata": {},
   "outputs": [
    {
     "name": "stdout",
     "output_type": "stream",
     "text": [
      "4\n"
     ]
    }
   ],
   "source": [
    "print(next(I))"
   ]
  },
  {
   "cell_type": "code",
   "execution_count": 26,
   "id": "d5977a98",
   "metadata": {},
   "outputs": [
    {
     "name": "stdout",
     "output_type": "stream",
     "text": [
      "6\n"
     ]
    }
   ],
   "source": [
    "print(next(I))"
   ]
  },
  {
   "cell_type": "code",
   "execution_count": 27,
   "id": "f7a95884",
   "metadata": {},
   "outputs": [
    {
     "ename": "StopIteration",
     "evalue": "",
     "output_type": "error",
     "traceback": [
      "\u001b[1;31m---------------------------------------------------------------------------\u001b[0m",
      "\u001b[1;31mStopIteration\u001b[0m                             Traceback (most recent call last)",
      "\u001b[1;32m~\\AppData\\Local\\Temp/ipykernel_8464/3668504933.py\u001b[0m in \u001b[0;36m<module>\u001b[1;34m\u001b[0m\n\u001b[1;32m----> 1\u001b[1;33m \u001b[0mprint\u001b[0m\u001b[1;33m(\u001b[0m\u001b[0mnext\u001b[0m\u001b[1;33m(\u001b[0m\u001b[0mI\u001b[0m\u001b[1;33m)\u001b[0m\u001b[1;33m)\u001b[0m\u001b[1;33m\u001b[0m\u001b[1;33m\u001b[0m\u001b[0m\n\u001b[0m",
      "\u001b[1;31mStopIteration\u001b[0m: "
     ]
    }
   ],
   "source": [
    "print(next(I))"
   ]
  },
  {
   "cell_type": "markdown",
   "id": "cb609fbc",
   "metadata": {},
   "source": [
    "¿Cuál es el propósito de este nivel de indirección? Bueno, resulta que esto es increíblemente útil, porque le permite a Python tratar las cosas como listas que en realidad no son listas ."
   ]
  },
  {
   "cell_type": "markdown",
   "id": "2fd0eb2e",
   "metadata": {},
   "source": [
    "###### range(): Una lista no es siempre una lista \n",
    "Quizás el ejemplo más común de esta iteración indirecta es la función range() en Python 3 (nombrada xrange()en Python 2), que devuelve no una lista, sino un objeto especial range() :"
   ]
  },
  {
   "cell_type": "code",
   "execution_count": 30,
   "id": "a2a2872c",
   "metadata": {},
   "outputs": [
    {
     "data": {
      "text/plain": [
       "range(0, 10)"
      ]
     },
     "execution_count": 30,
     "metadata": {},
     "output_type": "execute_result"
    }
   ],
   "source": [
    "range(10)"
   ]
  },
  {
   "cell_type": "code",
   "execution_count": 31,
   "id": "e2edf890",
   "metadata": {},
   "outputs": [
    {
     "data": {
      "text/plain": [
       "<range_iterator at 0x16c4e122130>"
      ]
     },
     "execution_count": 31,
     "metadata": {},
     "output_type": "execute_result"
    }
   ],
   "source": [
    "#range, como una lista, expone un iterador:\n",
    "iter(range(10))"
   ]
  },
  {
   "cell_type": "markdown",
   "id": "c6b9005e",
   "metadata": {},
   "source": [
    "Entonces Python sabe tratarlo como si fuera una lista:"
   ]
  },
  {
   "cell_type": "code",
   "execution_count": 34,
   "id": "9f356e4b",
   "metadata": {},
   "outputs": [
    {
     "name": "stdout",
     "output_type": "stream",
     "text": [
      "0-1-2-3-4-5-6-7-8-9-"
     ]
    }
   ],
   "source": [
    "for i in range(10):\n",
    "    print(i,end='-')"
   ]
  },
  {
   "cell_type": "markdown",
   "id": "c79547c2",
   "metadata": {},
   "source": [
    "**El beneficio de la indirección del iterador es que la lista completa nunca se crea explícitamente.**\n",
    "\n",
    "Podemos ver esto haciendo un cálculo de rango que abrumaría la memoria de nuestro sistema si realmente lo instanciamos (tenga en cuenta que en Python 2, rangecrea una lista, por lo que ejecutar lo siguiente no conducirá a cosas buenas):"
   ]
  },
  {
   "cell_type": "code",
   "execution_count": 38,
   "id": "c51d8d16",
   "metadata": {},
   "outputs": [
    {
     "name": "stdout",
     "output_type": "stream",
     "text": [
      "0, 1, 2, 3, 4, 5, 6, 7, 8, 9, "
     ]
    }
   ],
   "source": [
    "N = 10 ** 12\n",
    "for i in range(N):\n",
    "    if i >= 10:\n",
    "        break\n",
    "    print(i, end=', ')"
   ]
  },
  {
   "cell_type": "markdown",
   "id": "2d126386",
   "metadata": {},
   "source": [
    "**Si range realmente creara esa lista de un billón de valores, ocuparía decenas de terabytes de memoria de la máquina: un desperdicio, dado que estamos ignorando todos los valores excepto los primeros 10.**\n",
    "\n",
    "De hecho, ¡no hay ninguna razón por la que los iteradores tengan que terminar! La biblioteca itertools de Python contiene una función count que actúa como un rango infinito:"
   ]
  },
  {
   "cell_type": "code",
   "execution_count": 39,
   "id": "ab8c85d2",
   "metadata": {},
   "outputs": [
    {
     "name": "stdout",
     "output_type": "stream",
     "text": [
      "0, 1, 2, 3, 4, 5, 6, 7, 8, 9, "
     ]
    }
   ],
   "source": [
    "from itertools import count\n",
    "\n",
    "for i in count():\n",
    "    if i >= 10:\n",
    "        break\n",
    "    print(i, end=', ')"
   ]
  },
  {
   "cell_type": "markdown",
   "id": "d4ed98da",
   "metadata": {},
   "source": [
    "Si no hubiéramos lanzado una ruptura de bucle aquí, continuaría contando felizmente hasta que el proceso se interrumpa o elimine manualmente (usando, por ejemplo, ctrl-C)."
   ]
  },
  {
   "cell_type": "markdown",
   "id": "a4b3c802",
   "metadata": {},
   "source": [
    "#### Iteradores útiles \n",
    "Esta sintaxis de iterador se usa casi universalmente en los tipos integrados de Python, así como en los objetos más específicos de la ciencia de datos que exploraremos en secciones posteriores. Aquí cubriremos algunos de los iteradores más útiles en el lenguaje Python:"
   ]
  },
  {
   "cell_type": "markdown",
   "id": "3bdfac48",
   "metadata": {},
   "source": [
    "#### enumerate\n",
    "**A menudo es necesario iterar no solo los valores de una matriz, sino también realizar un seguimiento del índice**. Es posible que tenga la tentación de hacer las cosas de esta manera:"
   ]
  },
  {
   "cell_type": "code",
   "execution_count": 45,
   "id": "97d26371",
   "metadata": {},
   "outputs": [
    {
     "name": "stdout",
     "output_type": "stream",
     "text": [
      "0 2\n",
      "1 4\n",
      "2 6\n",
      "3 8\n",
      "4 10\n"
     ]
    }
   ],
   "source": [
    "L = [2, 4, 6, 8, 10]\n",
    "for i in range(len(L)):\n",
    "    print(i, L[i])"
   ]
  },
  {
   "cell_type": "markdown",
   "id": "a3b7347a",
   "metadata": {},
   "source": [
    "Aunque esto funciona, Python proporciona una sintaxis más limpia usando el enumerateiterador:"
   ]
  },
  {
   "cell_type": "code",
   "execution_count": 46,
   "id": "00129121",
   "metadata": {},
   "outputs": [
    {
     "name": "stdout",
     "output_type": "stream",
     "text": [
      "0 2\n",
      "1 4\n",
      "2 6\n",
      "3 8\n",
      "4 10\n"
     ]
    }
   ],
   "source": [
    "for i,val in enumerate(L):\n",
    "    print(i,val)\n"
   ]
  },
  {
   "cell_type": "markdown",
   "id": "0c7204cd",
   "metadata": {},
   "source": [
    "Esta es la forma más \"Pythonic\" de enumerar los índices y valores en una lista."
   ]
  },
  {
   "cell_type": "markdown",
   "id": "1cecb0f8",
   "metadata": {},
   "source": [
    "#### ZIP\n",
    "**Otras veces, es posible que tenga varias listas sobre las que desee iterar simultáneamente.**\n",
    "\n",
    "Ciertamente, podría iterar sobre el índice como en el ejemplo no Pythonic que vimos anteriormente, pero es mejor usar el iterador zip, que junta los iterables:\n"
   ]
  },
  {
   "cell_type": "code",
   "execution_count": 48,
   "id": "2c765b43",
   "metadata": {},
   "outputs": [
    {
     "name": "stdout",
     "output_type": "stream",
     "text": [
      "2 3\n",
      "4 6\n",
      "6 9\n",
      "8 12\n",
      "10 15\n"
     ]
    }
   ],
   "source": [
    "L = [2, 4, 6, 8, 10]\n",
    "R = [3, 6, 9, 12, 15]\n",
    "for lval, rval in zip(L, R):\n",
    "    print(lval, rval)"
   ]
  },
  {
   "cell_type": "markdown",
   "id": "85f86082",
   "metadata": {},
   "source": [
    "Se puede comprimir cualquier número de iterables juntos, y si tienen diferentes longitudes, el más corto determinará la longitud del zip."
   ]
  },
  {
   "cell_type": "code",
   "execution_count": 52,
   "id": "a309f820",
   "metadata": {},
   "outputs": [
    {
     "name": "stdout",
     "output_type": "stream",
     "text": [
      "1 3\n",
      "4 33\n"
     ]
    }
   ],
   "source": [
    "small=[1,4]\n",
    "big=[3,33,1]\n",
    "\n",
    "for s,b in zip(small,big):\n",
    "    print(s,b)"
   ]
  },
  {
   "cell_type": "markdown",
   "id": "0be5a164",
   "metadata": {},
   "source": [
    "### map y filter\n",
    "**El iterador map toma una función y la aplica a los valores en un iterador:**"
   ]
  },
  {
   "cell_type": "code",
   "execution_count": 56,
   "id": "5a036051",
   "metadata": {},
   "outputs": [
    {
     "name": "stdout",
     "output_type": "stream",
     "text": [
      "0 1 4 9 16 25 36 49 64 81 "
     ]
    }
   ],
   "source": [
    "# averiguar los 10 primeros cuadrados\n",
    "square = lambda x: x ** 2\n",
    "for val in map(square, range(10)):\n",
    "    print(val, end=' ')"
   ]
  },
  {
   "cell_type": "markdown",
   "id": "7b43a192",
   "metadata": {},
   "source": [
    "**El iterador filter tiene un aspecto similar, excepto que solo transfiere valores para los que la función de filtro se evalúa como Verdadero:**"
   ]
  },
  {
   "cell_type": "code",
   "execution_count": 57,
   "id": "2375c4af",
   "metadata": {},
   "outputs": [
    {
     "name": "stdout",
     "output_type": "stream",
     "text": [
      "0 2 4 6 8 "
     ]
    }
   ],
   "source": [
    "# find values up to 10 for which x % 2 is zero\n",
    "is_even = lambda x: x % 2 == 0\n",
    "for val in filter(is_even, range(10)):\n",
    "    print(val, end=' ')"
   ]
  },
  {
   "cell_type": "markdown",
   "id": "8a302e96",
   "metadata": {},
   "source": [
    "Las funciones map y filter, junto con la función reduce(que vive en el módulo functools de Python ) son componentes fundamentales del estilo de programación funcional , que, aunque no es un estilo de programación dominante en el mundo de Python, tiene sus defensores abiertos (ver, por ejemplo, la biblioteca pytoolz )."
   ]
  },
  {
   "cell_type": "markdown",
   "id": "745b5f2a",
   "metadata": {},
   "source": [
    "##### Iteradores como argumentos de función ¶\n",
    "Vimos en * args y ** kwargs: Argumentos flexibles .  * args y ** kwargs se puede utilizar para pasar secuencias y diccionarios a funciones. Resulta que la sintaxis * args funciona no solo con secuencias, sino con cualquier iterador:"
   ]
  },
  {
   "cell_type": "code",
   "execution_count": 61,
   "id": "eda5c5ce",
   "metadata": {},
   "outputs": [
    {
     "name": "stdout",
     "output_type": "stream",
     "text": [
      "0 1 2 3 4 5 6 7 8 9\n"
     ]
    }
   ],
   "source": [
    "print(*range(10))"
   ]
  },
  {
   "cell_type": "markdown",
   "id": "a9e6e001",
   "metadata": {},
   "source": [
    "Entonces, por ejemplo, podemos complicarnos y comprimir el ejemplo anterior de map en lo siguiente:"
   ]
  },
  {
   "cell_type": "code",
   "execution_count": 63,
   "id": "4e2e615e",
   "metadata": {},
   "outputs": [
    {
     "name": "stdout",
     "output_type": "stream",
     "text": [
      "0 1 4 9 16 25 36 49 64 81\n"
     ]
    }
   ],
   "source": [
    "print(*map(lambda x: x ** 2, range(10)))"
   ]
  },
  {
   "cell_type": "markdown",
   "id": "66bf31c8",
   "metadata": {},
   "source": [
    "El uso de este truco nos permite responder la antigua pregunta que surge en los foros de estudiantes de Python: ¿por qué no hay una funcion unzip() que haga lo contrario de zip()? \n",
    "\n",
    "Si te encierras en un armario oscuro y lo piensas por un tiempo, es posible que te des cuenta de que lo opuesto zip()es ... zip()! La clave es que zip()puede unir cualquier número de iteradores o secuencias. Observar:"
   ]
  },
  {
   "cell_type": "code",
   "execution_count": 65,
   "id": "a9c02280",
   "metadata": {},
   "outputs": [],
   "source": [
    "L1 = (1, 2, 3, 4)\n",
    "L2 = ('a', 'b', 'c', 'd')"
   ]
  },
  {
   "cell_type": "code",
   "execution_count": 68,
   "id": "519c0472",
   "metadata": {},
   "outputs": [
    {
     "name": "stdout",
     "output_type": "stream",
     "text": [
      "(1, 'a') (2, 'b') (3, 'c') (4, 'd')\n"
     ]
    }
   ],
   "source": [
    "z  =  zip ( L1 ,  L2 ) \n",
    "print(  *z )"
   ]
  },
  {
   "cell_type": "code",
   "execution_count": 70,
   "id": "edc50b32",
   "metadata": {},
   "outputs": [
    {
     "name": "stdout",
     "output_type": "stream",
     "text": [
      "(1, 2, 3, 4) ('a', 'b', 'c', 'd')\n"
     ]
    }
   ],
   "source": [
    "z = zip(L1, L2)\n",
    "new_L1, new_L2 = zip(*z)\n",
    "print(new_L1, new_L2)"
   ]
  },
  {
   "cell_type": "markdown",
   "id": "5428b9f0",
   "metadata": {},
   "source": [
    "Reflexiona sobre esto por un momento. Si comprende por qué funciona, ¡habrá recorrido un largo camino en la comprensión de los iteradores de Python!"
   ]
  },
  {
   "cell_type": "markdown",
   "id": "fd1f8181",
   "metadata": {},
   "source": [
    "#### Iteradores especializados: itertools\n",
    "Antes miramos brevemente al iterador infinito range, itertools.count. El módulo itertools contiene una gran cantidad de iteradores útiles; Vale la pena explorar el módulo para ver qué hay disponible. \n",
    "Como ejemplo, considere la función itertools.permutations, que itera sobre todas las permutaciones de una secuencia:"
   ]
  },
  {
   "cell_type": "code",
   "execution_count": 72,
   "id": "726574c9",
   "metadata": {},
   "outputs": [
    {
     "name": "stdout",
     "output_type": "stream",
     "text": [
      "(0, 1, 2) (0, 2, 1) (1, 0, 2) (1, 2, 0) (2, 0, 1) (2, 1, 0)\n"
     ]
    }
   ],
   "source": [
    "from itertools import permutations\n",
    "p = permutations(range(3))\n",
    "print(*p)"
   ]
  },
  {
   "cell_type": "markdown",
   "id": "f4068883",
   "metadata": {},
   "source": [
    "De manera similar, la itertools.combinationsfunción itera sobre todas las combinaciones únicas de N valores dentro de una lista:"
   ]
  },
  {
   "cell_type": "code",
   "execution_count": 74,
   "id": "9a3437a3",
   "metadata": {},
   "outputs": [
    {
     "name": "stdout",
     "output_type": "stream",
     "text": [
      "(0, 1) (0, 2) (0, 3) (1, 2) (1, 3) (2, 3)\n"
     ]
    }
   ],
   "source": [
    "from itertools import combinations\n",
    "c = combinations(range(4), 2)\n",
    "print(*c)"
   ]
  },
  {
   "cell_type": "markdown",
   "id": "9ff3e900",
   "metadata": {},
   "source": [
    "Algo relacionado es el iterador product, que itera sobre todos los conjuntos de pares entre dos o más iterables:"
   ]
  },
  {
   "cell_type": "code",
   "execution_count": 76,
   "id": "36ae4b6b",
   "metadata": {},
   "outputs": [
    {
     "name": "stdout",
     "output_type": "stream",
     "text": [
      "('a', 0) ('a', 1) ('a', 2) ('b', 0) ('b', 1) ('b', 2)\n"
     ]
    }
   ],
   "source": [
    "from itertools import product\n",
    "p = product('ab', range(3))\n",
    "print(*p)"
   ]
  },
  {
   "cell_type": "markdown",
   "id": "0328741d",
   "metadata": {},
   "source": [
    "Existen muchos más iteradores útiles en itertools: la lista completa se puede encontrar, junto con algunos ejemplos, en la documentación en línea de Python ."
   ]
  }
 ],
 "metadata": {
  "kernelspec": {
   "display_name": "ambienteML",
   "language": "python",
   "name": "ambienteml"
  },
  "language_info": {
   "codemirror_mode": {
    "name": "ipython",
    "version": 3
   },
   "file_extension": ".py",
   "mimetype": "text/x-python",
   "name": "python",
   "nbconvert_exporter": "python",
   "pygments_lexer": "ipython3",
   "version": "3.9.7"
  }
 },
 "nbformat": 4,
 "nbformat_minor": 5
}
