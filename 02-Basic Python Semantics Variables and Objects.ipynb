{
 "cells": [
  {
   "cell_type": "markdown",
   "id": "81c857fe",
   "metadata": {},
   "source": [
    "Esta sección comenzará a cubrir la semántica básica del lenguaje Python. A diferencia de la sintaxis cubierta en la sección anterior, la semántica de un lenguaje involucra el significado de las declaraciones. Al igual que con nuestra discusión sobre la sintaxis, aquí presentaremos una vista previa de algunas de las construcciones semánticas esenciales en Python para brindarle un mejor marco de referencia para comprender el código en las siguientes secciones.\n",
    "\n",
    "Esta sección cubrirá la semántica de variables y objetos, que son las principales formas en que almacena, hace referencia y opera datos dentro de una secuencia de comandos de Python."
   ]
  },
  {
   "cell_type": "markdown",
   "id": "36986397",
   "metadata": {},
   "source": [
    "Las variables de Python son punteros\n",
    "\n",
    "Asignar variables en Python es tan fácil como poner un nombre de variable a la izquierda del signo igual (=):"
   ]
  },
  {
   "cell_type": "code",
   "execution_count": 3,
   "id": "69ab1176",
   "metadata": {},
   "outputs": [],
   "source": [
    "# assign 4 to the variable x\n",
    "x = 4"
   ]
  },
  {
   "cell_type": "markdown",
   "id": "77f4a7d6",
   "metadata": {},
   "source": [
    "Esto puede parecer sencillo, pero si tiene el modelo mental incorrecto de lo que hace esta operación, la forma en que funciona Python puede parecer confusa. Profundizaremos brevemente en eso aquí.\n",
    "\n",
    "En muchos lenguajes de programación, es mejor pensar en las variables como contenedores o depósitos en los que se colocan los datos. Entonces, en C, por ejemplo, cuando escribes"
   ]
  },
  {
   "cell_type": "code",
   "execution_count": 5,
   "id": "1c19a23e",
   "metadata": {},
   "outputs": [
    {
     "ename": "SyntaxError",
     "evalue": "invalid syntax (Temp/ipykernel_11864/3896809634.py, line 1)",
     "output_type": "error",
     "traceback": [
      "\u001b[1;36m  File \u001b[1;32m\"C:\\Users\\joaqu\\AppData\\Local\\Temp/ipykernel_11864/3896809634.py\"\u001b[1;36m, line \u001b[1;32m1\u001b[0m\n\u001b[1;33m    // C code\u001b[0m\n\u001b[1;37m    ^\u001b[0m\n\u001b[1;31mSyntaxError\u001b[0m\u001b[1;31m:\u001b[0m invalid syntax\n"
     ]
    }
   ],
   "source": [
    "// C code\n",
    "int x = 4;"
   ]
  },
  {
   "cell_type": "markdown",
   "id": "25e4e8aa",
   "metadata": {},
   "source": [
    "esencialmente está definiendo un \"depósito de memoria\" llamado x, y poniendo el valor 4 en él. En Python, por el contrario, es mejor pensar en las variables no como contenedores sino como punteros. Entonces en Python, cuando escribes"
   ]
  },
  {
   "cell_type": "code",
   "execution_count": 7,
   "id": "31e7b7b0",
   "metadata": {},
   "outputs": [],
   "source": [
    "x = 4\n",
    "\n",
    "\n"
   ]
  },
  {
   "cell_type": "markdown",
   "id": "c0e610c9",
   "metadata": {},
   "source": [
    "Básicamente, está definiendo un puntero llamado x que apunta a algún otro depósito que contiene el valor 4. \n",
    "\n",
    "Tenga en cuenta una consecuencia de esto: debido a que las variables de Python solo apuntan a varios objetos, no es necesario \"declarar\" la variable, o incluso requerir la variable para apuntar siempre a información del mismo tipo! Este es el sentido en el que la gente dice que Python se escribe dinámicamente: los nombres de las variables pueden apuntar a objetos de cualquier tipo. Entonces, en Python, puedes hacer cosas como esta:"
   ]
  },
  {
   "cell_type": "code",
   "execution_count": 9,
   "id": "619c9c38",
   "metadata": {},
   "outputs": [],
   "source": [
    "x = 1         # x is an integer\n",
    "x = 'hello'   # now x is a string\n",
    "x = [1, 2, 3] # now x is a list"
   ]
  },
  {
   "cell_type": "markdown",
   "id": "0f97e56f",
   "metadata": {},
   "source": [
    "esta escritura dinámica es una de las piezas que hace que Python sea tan rápido de escribir y fácil de leer.\n",
    "\n",
    "Hay una consecuencia de este enfoque de \"variable como puntero\" que debe conocer. Si tenemos dos nombres de variables que apuntan al mismo objeto mutable, ¡cambiar uno también cambiará el otro! Por ejemplo, creemos y modifiquemos una lista:"
   ]
  },
  {
   "cell_type": "code",
   "execution_count": 11,
   "id": "d01cd790",
   "metadata": {},
   "outputs": [],
   "source": [
    "x = [1, 2, 3]\n",
    "y = x"
   ]
  },
  {
   "cell_type": "markdown",
   "id": "3cb4a604",
   "metadata": {},
   "source": [
    "Hemos creado dos variables x e y que apuntan al mismo objeto. Por eso, si modificamos la lista a través de uno de sus nombres, veremos que la \"otra\" lista también se modificará:"
   ]
  },
  {
   "cell_type": "code",
   "execution_count": 13,
   "id": "1d908b25",
   "metadata": {},
   "outputs": [
    {
     "name": "stdout",
     "output_type": "stream",
     "text": [
      "[1, 2, 3]\n"
     ]
    }
   ],
   "source": [
    "print(y)"
   ]
  },
  {
   "cell_type": "code",
   "execution_count": 14,
   "id": "8bebddf1",
   "metadata": {},
   "outputs": [
    {
     "name": "stdout",
     "output_type": "stream",
     "text": [
      "[1, 2, 3, 4]\n"
     ]
    }
   ],
   "source": [
    "x.append(4) # append 4 to the list pointed to by x\n",
    "print(y) # y's list is modified as well!"
   ]
  },
  {
   "cell_type": "markdown",
   "id": "e4b4fee3",
   "metadata": {},
   "source": [
    "Este comportamiento puede parecer confuso si piensa erróneamente en las variables como depósitos que contienen datos. Pero si está pensando correctamente en las variables como punteros a objetos, entonces este comportamiento tiene sentido.\n",
    "\n",
    "Tenga en cuenta también que si usamos \"=\" para asignar otro valor a x, esto no afectará el valor de y; la asignación es simplemente un cambio del objeto al que apunta la variable:"
   ]
  },
  {
   "cell_type": "code",
   "execution_count": 16,
   "id": "853a7b0b",
   "metadata": {},
   "outputs": [
    {
     "name": "stdout",
     "output_type": "stream",
     "text": [
      "[1, 2, 3, 4]\n"
     ]
    }
   ],
   "source": [
    "x = 'something else'\n",
    "print(y)  # y is unchanged"
   ]
  },
  {
   "cell_type": "markdown",
   "id": "149f957f",
   "metadata": {},
   "source": [
    "Nuevamente, esto tiene mucho sentido si piensa en x e y como punteros, y el operador \"=\" como una operación que cambia lo que apunta el nombre.\n",
    "\n",
    "Quizás se pregunte si este puntero dificulta el seguimiento de las operaciones aritméticas en Python, pero Python está configurado para que esto no sea un problema. Los números, cadenas y otros tipos simples son inmutables: no puede cambiar su valor; solo puede cambiar los valores a los que apuntan las variables. Entonces, por ejemplo, es perfectamente seguro realizar operaciones como las siguientes:"
   ]
  },
  {
   "cell_type": "code",
   "execution_count": 18,
   "id": "4321b037",
   "metadata": {},
   "outputs": [
    {
     "name": "stdout",
     "output_type": "stream",
     "text": [
      "x = 15\n",
      "y = 10\n"
     ]
    }
   ],
   "source": [
    "x = 10\n",
    "y = x\n",
    "x += 5  # add 5 to x's value, and assign it to x\n",
    "print(\"x =\", x)\n",
    "print(\"y =\", y)"
   ]
  },
  {
   "cell_type": "markdown",
   "id": "9523c564",
   "metadata": {},
   "source": [
    "Cuando llamamos x + = 5, no estamos modificando el valor del objeto 10 al que apunta x; más bien estamos cambiando la variable x para que apunte a un nuevo objeto entero con valor 15. Por esta razón, el valor de y no se ve afectado por la operación."
   ]
  },
  {
   "cell_type": "markdown",
   "id": "e5af5e1b",
   "metadata": {},
   "source": [
    "#### Todo es un objeto\n",
    "Python es un lenguaje de programación orientado a objetos, y en Python todo es un objeto.\n",
    "\n",
    "Desarrollemos lo que esto significa. Anteriormente vimos que las variables son simplemente punteros y los nombres de las variables en sí mismos no tienen información de tipo adjunta. Esto lleva a algunos a afirmar erróneamente que Python es un lenguaje libre de tipos. ¡Pero este no es el caso! Considera lo siguiente:"
   ]
  },
  {
   "cell_type": "code",
   "execution_count": 21,
   "id": "e8980e6d",
   "metadata": {},
   "outputs": [
    {
     "data": {
      "text/plain": [
       "int"
      ]
     },
     "execution_count": 21,
     "metadata": {},
     "output_type": "execute_result"
    }
   ],
   "source": [
    "x = 4\n",
    "type(x)"
   ]
  },
  {
   "cell_type": "code",
   "execution_count": 23,
   "id": "8afba0b6",
   "metadata": {},
   "outputs": [
    {
     "data": {
      "text/plain": [
       "str"
      ]
     },
     "execution_count": 23,
     "metadata": {},
     "output_type": "execute_result"
    }
   ],
   "source": [
    "x = 'hello'\n",
    "type(x)"
   ]
  },
  {
   "cell_type": "code",
   "execution_count": 22,
   "id": "609af765",
   "metadata": {},
   "outputs": [
    {
     "data": {
      "text/plain": [
       "float"
      ]
     },
     "execution_count": 22,
     "metadata": {},
     "output_type": "execute_result"
    }
   ],
   "source": [
    "x = 3.14159\n",
    "type(x)"
   ]
  },
  {
   "cell_type": "markdown",
   "id": "0fa77895",
   "metadata": {},
   "source": [
    "Python tiene tipos; sin embargo, los tipos están vinculados no a los nombres de las variables sino a los propios objetos.\n",
    "\n",
    "En los lenguajes de programación orientados a objetos como Python, un objeto es una entidad que contiene datos junto con metadatos y / o funcionalidad asociados. En Python todo es un objeto, lo que significa que cada entidad tiene algunos metadatos (llamados atributos) y una funcionalidad asociada (llamados métodos). Se accede a estos atributos y métodos mediante la sintaxis de puntos.\n",
    "\n",
    "Por ejemplo, antes vimos que las listas tienen un método de adición, que agrega un elemento a la lista, y se accede a través de la sintaxis de punto (\".\"):"
   ]
  },
  {
   "cell_type": "code",
   "execution_count": 25,
   "id": "5e1b48fb",
   "metadata": {},
   "outputs": [
    {
     "name": "stdout",
     "output_type": "stream",
     "text": [
      "[1, 2, 3, 100]\n"
     ]
    }
   ],
   "source": [
    "L = [1, 2, 3]\n",
    "L.append(100)\n",
    "print(L)"
   ]
  },
  {
   "cell_type": "markdown",
   "id": "510da0a7",
   "metadata": {},
   "source": [
    "Si bien podría esperarse que los objetos compuestos, como las listas, tengan atributos y métodos, lo que a veces es inesperado es que en Python incluso los tipos simples tienen atributos y métodos adjuntos. Por ejemplo, los tipos numéricos tienen un atributo real e imag que devuelve la parte real e imaginaria del valor, si se ve como un número complejo."
   ]
  },
  {
   "cell_type": "code",
   "execution_count": 27,
   "id": "60470dea",
   "metadata": {},
   "outputs": [
    {
     "name": "stdout",
     "output_type": "stream",
     "text": [
      "4.5 + 0.0 i\n"
     ]
    }
   ],
   "source": [
    "x = 4.5\n",
    "print(x.real, \"+\", x.imag, 'i')"
   ]
  },
  {
   "cell_type": "markdown",
   "id": "fb9f18bb",
   "metadata": {},
   "source": [
    "Los métodos son como atributos, excepto que son funciones que puede llamar usando paréntesis de apertura y cierre. Por ejemplo, los números de punto flotante tienen un método llamado is_integer que verifica si el valor es un entero:"
   ]
  },
  {
   "cell_type": "code",
   "execution_count": 29,
   "id": "c50bf257",
   "metadata": {},
   "outputs": [
    {
     "data": {
      "text/plain": [
       "False"
      ]
     },
     "execution_count": 29,
     "metadata": {},
     "output_type": "execute_result"
    }
   ],
   "source": [
    "x = 4.5\n",
    "x.is_integer()"
   ]
  },
  {
   "cell_type": "code",
   "execution_count": 30,
   "id": "3b57ea81",
   "metadata": {},
   "outputs": [
    {
     "data": {
      "text/plain": [
       "True"
      ]
     },
     "execution_count": 30,
     "metadata": {},
     "output_type": "execute_result"
    }
   ],
   "source": [
    "x = 4.0\n",
    "x.is_integer()"
   ]
  },
  {
   "cell_type": "markdown",
   "id": "5d3e0c4e",
   "metadata": {},
   "source": [
    "Cuando decimos que todo en Python es un objeto, realmente queremos decir que todo es un objeto, incluso los atributos y métodos de los objetos son en sí mismos objetos con su propia información de tipo:"
   ]
  },
  {
   "cell_type": "code",
   "execution_count": 32,
   "id": "5c8c0381",
   "metadata": {},
   "outputs": [
    {
     "data": {
      "text/plain": [
       "builtin_function_or_method"
      ]
     },
     "execution_count": 32,
     "metadata": {},
     "output_type": "execute_result"
    }
   ],
   "source": [
    "type(x.is_integer)"
   ]
  },
  {
   "cell_type": "markdown",
   "id": "60e2cbb4",
   "metadata": {},
   "source": [
    "Descubriremos que la opción de diseño de todo es objeto de Python permite algunas construcciones de lenguaje muy convenientes."
   ]
  },
  {
   "cell_type": "code",
   "execution_count": null,
   "id": "df5d195a",
   "metadata": {},
   "outputs": [],
   "source": []
  },
  {
   "cell_type": "code",
   "execution_count": null,
   "id": "ea60eb6b",
   "metadata": {},
   "outputs": [],
   "source": []
  }
 ],
 "metadata": {
  "kernelspec": {
   "display_name": "ambienteML",
   "language": "python",
   "name": "ambienteml"
  },
  "language_info": {
   "codemirror_mode": {
    "name": "ipython",
    "version": 3
   },
   "file_extension": ".py",
   "mimetype": "text/x-python",
   "name": "python",
   "nbconvert_exporter": "python",
   "pygments_lexer": "ipython3",
   "version": "3.9.7"
  }
 },
 "nbformat": 4,
 "nbformat_minor": 5
}
