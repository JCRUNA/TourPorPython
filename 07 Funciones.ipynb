{
 "cells": [
  {
   "cell_type": "markdown",
   "id": "66ce14cc",
   "metadata": {},
   "source": [
    "Hasta ahora, nuestros scripts han sido bloques de código simples de un solo uso. Una forma de organizar nuestro código Python y hacerlo más legible y reutilizable es dividir las piezas útiles en funciones reutilizables .\n",
    "\n",
    "Aquí cubriremos dos formas de crear funciones: la declaración **def**, útil para cualquier tipo de función, y la declaración **lambda**, útil para crear funciones anónimas breves."
   ]
  },
  {
   "cell_type": "markdown",
   "id": "e36ad7cf",
   "metadata": {},
   "source": [
    "Las funciones son grupos de código que tienen un nombre y se pueden llamar usando paréntesis. Hemos visto funciones antes. Por ejemplo, print en Python 3 hay una función:"
   ]
  },
  {
   "cell_type": "code",
   "execution_count": 3,
   "id": "aa05e550",
   "metadata": {},
   "outputs": [
    {
     "name": "stdout",
     "output_type": "stream",
     "text": [
      "abc\n"
     ]
    }
   ],
   "source": [
    "print ( 'abc' )"
   ]
  },
  {
   "cell_type": "markdown",
   "id": "5aabeaeb",
   "metadata": {},
   "source": [
    "Aquí print es el nombre de la función y 'abc' el argumento de la función .\n",
    "\n",
    "Además de los argumentos, existen argumentos de palabras clave que se especifican por nombre. Un argumento de palabra clave disponible para la print()función (en Python 3) es sep, que indica qué carácter o caracteres deben usarse para separar varios elementos:"
   ]
  },
  {
   "cell_type": "code",
   "execution_count": 5,
   "id": "1fc9f4ec",
   "metadata": {},
   "outputs": [
    {
     "name": "stdout",
     "output_type": "stream",
     "text": [
      "1 2 3\n"
     ]
    }
   ],
   "source": [
    "print(1,2,3)"
   ]
  },
  {
   "cell_type": "code",
   "execution_count": 6,
   "id": "478a8d97",
   "metadata": {},
   "outputs": [
    {
     "name": "stdout",
     "output_type": "stream",
     "text": [
      "1/2/3\n"
     ]
    }
   ],
   "source": [
    "print(1,2,3,sep='/')"
   ]
  },
  {
   "cell_type": "markdown",
   "id": "96122bc2",
   "metadata": {},
   "source": [
    "Cuando se utilizan argumentos que no son palabras clave junto con argumentos de palabra clave, los argumentos de palabra clave deben ir al final."
   ]
  },
  {
   "cell_type": "markdown",
   "id": "e8fcffd3",
   "metadata": {},
   "source": [
    "#### Definición de funciones \n",
    "Las funciones se vuelven aún más útiles cuando comenzamos a definir las nuestras, organizando la funcionalidad para ser utilizada en múltiples lugares. En Python, las funciones se definen con la declaración def. Por ejemplo, podemos encapsular una versión de nuestro código de secuencia de Fibonacci de la sección anterior de la siguiente manera:\n"
   ]
  },
  {
   "cell_type": "code",
   "execution_count": 9,
   "id": "44ed2e3f",
   "metadata": {},
   "outputs": [],
   "source": [
    "def fibonacci(N):\n",
    "    L = []\n",
    "    a, b = 0, 1\n",
    "    while len(L) < N:\n",
    "        a, b = b, a + b\n",
    "        L.append(a)\n",
    "    return L"
   ]
  },
  {
   "cell_type": "code",
   "execution_count": 11,
   "id": "479ba615",
   "metadata": {},
   "outputs": [
    {
     "data": {
      "text/plain": [
       "[1, 1, 2, 3, 5, 8, 13, 21, 34, 55]"
      ]
     },
     "execution_count": 11,
     "metadata": {},
     "output_type": "execute_result"
    }
   ],
   "source": [
    "fibonacci(10)"
   ]
  },
  {
   "cell_type": "markdown",
   "id": "8a588a64",
   "metadata": {},
   "source": [
    "Ahora tenemos una función nombrada fibonaccique toma un solo argumento N, hace algo con este argumento y regresa un valor; en este caso, una lista de los primeros Nnúmeros de Fibonacci:"
   ]
  },
  {
   "cell_type": "markdown",
   "id": "58381560",
   "metadata": {},
   "source": [
    "Si está familiarizado con lenguajes fuertemente tipados como C, notará inmediatamente que no hay información de tipo asociada con las entradas o salidas de la función. Las funciones de Python pueden devolver cualquier objeto de Python, simple o compuesto, lo que significa que las construcciones que pueden ser difíciles en otros lenguajes son sencillas en Python.\n",
    "\n",
    "Por ejemplo, varios valores devueltos simplemente se colocan en una tupla, que se indica con comas:"
   ]
  },
  {
   "cell_type": "code",
   "execution_count": 14,
   "id": "7d97c57c",
   "metadata": {},
   "outputs": [
    {
     "name": "stdout",
     "output_type": "stream",
     "text": [
      "3.0 4.0 (3-4j)\n"
     ]
    }
   ],
   "source": [
    "def real_imag_conj(val):\n",
    "    return val.real, val.imag, val.conjugate()\n",
    "\n",
    "r, i, c = real_imag_conj(3 + 4j)\n",
    "print(r, i, c)"
   ]
  },
  {
   "cell_type": "markdown",
   "id": "0d18def9",
   "metadata": {},
   "source": [
    "##### Valores de argumento predeterminados \n",
    "A menudo, al definir una función, hay ciertos valores que queremos que la función utilice la mayor parte del tiempo, pero también nos gustaría darle al usuario cierta flexibilidad. En este caso, podemos usar valores predeterminados para argumentos. Considere la función fibonacci de antes. ¿Y si quisiéramos que el usuario pudiera jugar con los valores iniciales? Podríamos hacer eso de la siguiente manera:"
   ]
  },
  {
   "cell_type": "code",
   "execution_count": 16,
   "id": "b359c076",
   "metadata": {},
   "outputs": [],
   "source": [
    "def fibonacci(N, a=0, b=1):\n",
    "    L = []\n",
    "    while len(L) < N:\n",
    "        a, b = b, a + b\n",
    "        L.append(a)\n",
    "    return L"
   ]
  },
  {
   "cell_type": "code",
   "execution_count": null,
   "id": "37285007",
   "metadata": {},
   "outputs": [],
   "source": [
    "Con un solo argumento, el resultado de la llamada a la función es idéntico al anterior:"
   ]
  },
  {
   "cell_type": "code",
   "execution_count": 17,
   "id": "7ca615da",
   "metadata": {},
   "outputs": [
    {
     "data": {
      "text/plain": [
       "[1, 1, 2, 3, 5, 8, 13, 21, 34, 55]"
      ]
     },
     "execution_count": 17,
     "metadata": {},
     "output_type": "execute_result"
    }
   ],
   "source": [
    "fibonacci(10)"
   ]
  },
  {
   "cell_type": "code",
   "execution_count": null,
   "id": "983ed874",
   "metadata": {},
   "outputs": [],
   "source": [
    "Pero ahora podemos usar la función para explorar cosas nuevas, como el efecto de nuevos valores iniciales:"
   ]
  },
  {
   "cell_type": "code",
   "execution_count": 18,
   "id": "bd793ee8",
   "metadata": {},
   "outputs": [
    {
     "data": {
      "text/plain": [
       "[2, 2, 4, 6, 10, 16, 26, 42, 68, 110]"
      ]
     },
     "execution_count": 18,
     "metadata": {},
     "output_type": "execute_result"
    }
   ],
   "source": [
    "fibonacci(10, 0, 2)"
   ]
  },
  {
   "cell_type": "code",
   "execution_count": null,
   "id": "1efb382b",
   "metadata": {},
   "outputs": [],
   "source": [
    "Los valores también se pueden especificar por nombre si se desea, en cuyo caso el orden de los valores nombrados no importa:"
   ]
  },
  {
   "cell_type": "code",
   "execution_count": 19,
   "id": "6a0a5f4b",
   "metadata": {},
   "outputs": [
    {
     "data": {
      "text/plain": [
       "[3, 4, 7, 11, 18, 29, 47, 76, 123, 199]"
      ]
     },
     "execution_count": 19,
     "metadata": {},
     "output_type": "execute_result"
    }
   ],
   "source": [
    "fibonacci(10, b=3, a=1)"
   ]
  },
  {
   "cell_type": "markdown",
   "id": "c0a87f18",
   "metadata": {},
   "source": [
    "#### *args and **kwargs: Flexible Arguments\n",
    "A veces, es posible que desee escribir una función en la que inicialmente no sepa cuántos argumentos pasará el usuario. En este caso, puede utilizar la forma especial *argsy **kwargs y capturar todos los argumentos que se pasan. Aquí hay un ejemplo:"
   ]
  },
  {
   "cell_type": "code",
   "execution_count": 21,
   "id": "fd4872af",
   "metadata": {},
   "outputs": [],
   "source": [
    "def catch_all(*args, **kwargs):\n",
    "    print(\"args =\", args)\n",
    "    print(\"kwargs = \", kwargs)"
   ]
  },
  {
   "cell_type": "code",
   "execution_count": 22,
   "id": "7d138f0f",
   "metadata": {},
   "outputs": [
    {
     "name": "stdout",
     "output_type": "stream",
     "text": [
      "args = (1, 2, 3)\n",
      "kwargs =  {'a': 4, 'b': 5}\n"
     ]
    }
   ],
   "source": [
    "catch_all(1, 2, 3, a=4, b=5)"
   ]
  },
  {
   "cell_type": "code",
   "execution_count": 23,
   "id": "2a11dd06",
   "metadata": {},
   "outputs": [
    {
     "name": "stdout",
     "output_type": "stream",
     "text": [
      "args = ('a',)\n",
      "kwargs =  {'keyword': 2}\n"
     ]
    }
   ],
   "source": [
    "catch_all('a', keyword=2)"
   ]
  },
  {
   "cell_type": "markdown",
   "id": "8518a0d8",
   "metadata": {},
   "source": [
    "Aquí no son los nombres args y lo kwargs que es importante, sino los caracteres '*' que los preceden. args y kwargs son solo los nombres de variables que se utilizan a menudo por convención, abreviatura de \"argumentos\" y \"argumentos de palabra clave\". \n",
    "\n",
    "La diferencia operativa son los caracteres de asterisco: un solo * antes de una variable significa \"expandir esto como una secuencia\", mientras que un doble '**' antes de una variable significa \"expandir esto como un diccionario.\n",
    "\n",
    "De hecho, esta sintaxis se puede usar no solo con la definición de la función, ¡sino también con la llamada a la función!"
   ]
  },
  {
   "cell_type": "code",
   "execution_count": 25,
   "id": "b33f1580",
   "metadata": {},
   "outputs": [
    {
     "name": "stdout",
     "output_type": "stream",
     "text": [
      "args = (1, 2, 3)\n",
      "kwargs =  {'pi': 3.14}\n"
     ]
    }
   ],
   "source": [
    "inputs = (1, 2, 3)\n",
    "keywords = {'pi': 3.14}\n",
    "\n",
    "catch_all(*inputs, **keywords)"
   ]
  },
  {
   "cell_type": "markdown",
   "id": "f653fea6",
   "metadata": {},
   "source": [
    "##### Funciones anónimas lambda ( ) \n",
    "Anteriormente, cubrimos rápidamente la forma más común de definir funciones, la declaración def. Es probable que encuentre otra forma de definir funciones breves y únicas con la declaración lambda. Se parece a esto:"
   ]
  },
  {
   "cell_type": "code",
   "execution_count": 27,
   "id": "452b5334",
   "metadata": {},
   "outputs": [
    {
     "data": {
      "text/plain": [
       "3"
      ]
     },
     "execution_count": 27,
     "metadata": {},
     "output_type": "execute_result"
    }
   ],
   "source": [
    "add = lambda x, y: x + y\n",
    "add(1, 2)"
   ]
  },
  {
   "cell_type": "code",
   "execution_count": 28,
   "id": "9d6d3081",
   "metadata": {},
   "outputs": [],
   "source": [
    "#This lambda function is roughly equivalent to\n",
    "\n",
    "def add(x, y):\n",
    "    return x + y"
   ]
  },
  {
   "cell_type": "markdown",
   "id": "2747df74",
   "metadata": {},
   "source": [
    "Entonces, ¿por qué querrías usar algo así? En primer lugar, todo se reduce al hecho de que todo es un objeto en Python, ¡incluso las funciones mismas! Eso significa que las funciones se pueden pasar como argumentos a funciones.\n",
    "\n",
    "Como ejemplo de esto, supongamos que tenemos algunos datos almacenados en una lista de diccionarios:"
   ]
  },
  {
   "cell_type": "code",
   "execution_count": 35,
   "id": "15c3dc64",
   "metadata": {},
   "outputs": [],
   "source": [
    "data = [{'first':'Guido', 'last':'Van Rossum', 'YOB':1956},\n",
    "        {'first':'Grace', 'last':'Hopper',     'YOB':1906},\n",
    "        {'first':'Alan',  'last':'Turing',     'YOB':1912}]"
   ]
  },
  {
   "cell_type": "markdown",
   "id": "75126f80",
   "metadata": {},
   "source": [
    "Ahora suponga que queremos ordenar estos datos. Python tiene una función sorted que hace esto"
   ]
  },
  {
   "cell_type": "code",
   "execution_count": 36,
   "id": "f8c6d314",
   "metadata": {},
   "outputs": [
    {
     "data": {
      "text/plain": [
       "[1, 2, 3, 4, 5, 6]"
      ]
     },
     "execution_count": 36,
     "metadata": {},
     "output_type": "execute_result"
    }
   ],
   "source": [
    "sorted([2,4,3,5,1,6])"
   ]
  },
  {
   "cell_type": "markdown",
   "id": "ea7ab336",
   "metadata": {},
   "source": [
    "Pero los diccionarios no se pueden ordenar: necesitamos una forma de decirle a la función cómo ordenar nuestros datos. \n",
    "\n",
    "Podemos hacer esto especificando la función key, una función que dado un elemento devuelve la clave de clasificación para ese elemento"
   ]
  },
  {
   "cell_type": "code",
   "execution_count": 37,
   "id": "d7e50fe6",
   "metadata": {},
   "outputs": [
    {
     "data": {
      "text/plain": [
       "[{'first': 'Alan', 'last': 'Turing', 'YOB': 1912},\n",
       " {'first': 'Grace', 'last': 'Hopper', 'YOB': 1906},\n",
       " {'first': 'Guido', 'last': 'Van Rossum', 'YOB': 1956}]"
      ]
     },
     "execution_count": 37,
     "metadata": {},
     "output_type": "execute_result"
    }
   ],
   "source": [
    "# ordenar alfabéticamente por nombre \n",
    "sorted(data, key=lambda item: item['first'])"
   ]
  },
  {
   "cell_type": "code",
   "execution_count": 38,
   "id": "86e21d4c",
   "metadata": {},
   "outputs": [
    {
     "data": {
      "text/plain": [
       "[{'first': 'Grace', 'last': 'Hopper', 'YOB': 1906},\n",
       " {'first': 'Alan', 'last': 'Turing', 'YOB': 1912},\n",
       " {'first': 'Guido', 'last': 'Van Rossum', 'YOB': 1956}]"
      ]
     },
     "execution_count": 38,
     "metadata": {},
     "output_type": "execute_result"
    }
   ],
   "source": [
    "# ordenar por año de nacimiento\n",
    "sorted(data, key=lambda item: item['YOB'])"
   ]
  },
  {
   "cell_type": "markdown",
   "id": "157ff2ee",
   "metadata": {},
   "source": [
    "Si bien estas funciones clave ciertamente podrían ser creadas por la defsintaxis normal, la lambdasintaxis es conveniente para funciones tan breves y únicas como estas."
   ]
  },
  {
   "cell_type": "code",
   "execution_count": null,
   "id": "97efedf7",
   "metadata": {},
   "outputs": [],
   "source": []
  },
  {
   "cell_type": "code",
   "execution_count": null,
   "id": "fd4861df",
   "metadata": {},
   "outputs": [],
   "source": []
  },
  {
   "cell_type": "code",
   "execution_count": null,
   "id": "250637c2",
   "metadata": {},
   "outputs": [],
   "source": []
  },
  {
   "cell_type": "code",
   "execution_count": null,
   "id": "db367144",
   "metadata": {},
   "outputs": [],
   "source": []
  },
  {
   "cell_type": "code",
   "execution_count": null,
   "id": "56d9eee8",
   "metadata": {},
   "outputs": [],
   "source": []
  },
  {
   "cell_type": "code",
   "execution_count": null,
   "id": "15ef287f",
   "metadata": {},
   "outputs": [],
   "source": []
  },
  {
   "cell_type": "code",
   "execution_count": null,
   "id": "27d1514a",
   "metadata": {},
   "outputs": [],
   "source": []
  },
  {
   "cell_type": "code",
   "execution_count": null,
   "id": "ebd08373",
   "metadata": {},
   "outputs": [],
   "source": []
  }
 ],
 "metadata": {
  "kernelspec": {
   "display_name": "ambienteML",
   "language": "python",
   "name": "ambienteml"
  },
  "language_info": {
   "codemirror_mode": {
    "name": "ipython",
    "version": 3
   },
   "file_extension": ".py",
   "mimetype": "text/x-python",
   "name": "python",
   "nbconvert_exporter": "python",
   "pygments_lexer": "ipython3",
   "version": "3.9.7"
  }
 },
 "nbformat": 4,
 "nbformat_minor": 5
}
